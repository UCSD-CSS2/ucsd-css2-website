{
 "cells": [
  {
   "cell_type": "markdown",
   "id": "df1d774f",
   "metadata": {
    "slideshow": {
     "slide_type": "slide"
    }
   },
   "source": [
    "# Welcome to CSS 2"
   ]
  },
  {
   "cell_type": "markdown",
   "id": "c5b73353",
   "metadata": {
    "slideshow": {
     "slide_type": "slide"
    }
   },
   "source": [
    "## Goals of this lecture\n",
    "\n",
    "- Quick introductions/logistics.\n",
    "- Introduction to CSS: What is it and why does it matter?\n",
    "  - If you took CSS 1 last quarter, some of this will be familiar.\n",
    "- Overview of course content."
   ]
  },
  {
   "cell_type": "markdown",
   "id": "46594f20",
   "metadata": {
    "slideshow": {
     "slide_type": "slide"
    }
   },
   "source": [
    "## Course Logistics: CSS 2\n",
    "\n",
    "**Teaching Team**:\n",
    "\n",
    "- [Sean Trott](https://seantrott.github.io/): Assistant Teaching Professor in Cognitive Science and CSS.\n",
    "- TAs:\n",
    "\n",
    "\n",
    "**When/Where?**:\n",
    "- Lecture: MWF 2-3 AM, HSS 1330 (also podcasted).  \n",
    "   \n",
    "[**Course Website**](https://ucsd-css2.github.io/ucsd-css2-website/intro.html).\n",
    "\n",
    "- Contains web versions of each lecture.  \n",
    "- Also contains syllabus and schedule. \n"
   ]
  },
  {
   "cell_type": "markdown",
   "id": "54c6a1f4",
   "metadata": {
    "slideshow": {
     "slide_type": "slide"
    }
   },
   "source": [
    "## What is CSS?\n",
    "\n",
    "In a nutshell, [Computational Social Science](https://en.wikipedia.org/wiki/Computational_social_science) focuses on **computational approaches** to **social science**.\n",
    "\n",
    "At UCSD, [Social Sciences](https://socialsciences.ucsd.edu/) encompasses many disciplines:\n",
    "\n",
    "- Psychology.  \n",
    "- Economics.\n",
    "- Political Science.\n",
    "- Cognitive Science. \n",
    "- Urban Studies and Planning.  \n",
    "\n",
    "And [many more](https://socialsciences.ucsd.edu/about/org-chart.html)!"
   ]
  },
  {
   "cell_type": "markdown",
   "id": "e1edb1f7",
   "metadata": {
    "slideshow": {
     "slide_type": "slide"
    }
   },
   "source": [
    "### What is social science?\n",
    "\n",
    "**Social Science** refers to a domain of study: social phenomena.  \n",
    "\n",
    "- Encompasses many **scales**: human psychology, language, economic behavior, political systems.  \n",
    "- Can involve many **approaches**: qualitative interviews, statistical analysis, simulations.  "
   ]
  },
  {
   "cell_type": "markdown",
   "id": "8355d481",
   "metadata": {
    "slideshow": {
     "slide_type": "slide"
    }
   },
   "source": [
    "### What is computation?\n",
    "\n",
    "[**Computation**](https://en.wikipedia.org/wiki/Computation) is *calculation* using well-defined steps, e.g., an *algorithm*.\n",
    "\n",
    "- A *computer* is anything that implements these well-defined steps.  \n",
    "- Historically, the term \"computer\" used to refer to *people*!\n",
    "\n",
    "A **programming language** is a way to get a computer to do these things for you.  \n",
    "\n",
    "- Can *automate* processes: speed things up!  \n",
    "- Can perform computations at *scale*.  \n",
    "- Can *share* with others.  "
   ]
  },
  {
   "cell_type": "markdown",
   "id": "bab005b4",
   "metadata": {
    "slideshow": {
     "slide_type": "slide"
    }
   },
   "source": [
    "## CSS in action: inspirations\n",
    "\n",
    "- CSS often involves analysis of **large-scale datasets** using **statistical tools**.\n",
    "- Can yield important theoretical and practical **insights**."
   ]
  },
  {
   "cell_type": "markdown",
   "id": "0270c16f",
   "metadata": {
    "slideshow": {
     "slide_type": "slide"
    }
   },
   "source": [
    "### Economic mobility\n",
    "\n",
    "**N = 22B (Facebook connections)**\n",
    "\n",
    "[*Jackson et al. (2022)*](https://www.nature.com/articles/s41586-022-04996-4?campaign_id=9&emc=edit_nn_20220801&instance_id=68142&nl=the-morning&regi_id=180204414&segment_id=100125&te=1&user_id=ee66cc1cf7db7a658ede84f5e390f1ff):\n",
    "\n",
    "![title](img/chetty_2022.png)"
   ]
  },
  {
   "cell_type": "markdown",
   "id": "6d361304",
   "metadata": {
    "slideshow": {
     "slide_type": "slide"
    }
   },
   "source": [
    "### The pandemic's effect on missed work in the USA\n",
    "\n",
    "[Reference: Full Stack Economics](https://fullstackeconomics.com/18-charts-that-explain-the-american-economy/)\n",
    "\n",
    "![title](img/work_pandemic.png)"
   ]
  },
  {
   "cell_type": "markdown",
   "id": "7145982c",
   "metadata": {
    "slideshow": {
     "slide_type": "slide"
    }
   },
   "source": [
    "### Auditing racial discrimination in hiring\n",
    "\n",
    "**N = 13,000 (applications)**\n",
    "\n",
    "[*Quillian et al. (2020)*](https://academic.oup.com/sf/article/99/2/732/5816667?login=true&casa_token=MLzPTGCAAC4AAAAA:cr3p4XuFqdKEt8TLXYu0KJWJpaigrfsYg1oltxnuUPLhgSTLD8ZI_B3K2-_j0IQhYNpobYaFFsqBHj4)\n",
    "\n",
    "![title](img/discrimination.png)"
   ]
  },
  {
   "cell_type": "markdown",
   "id": "68ad2bf2",
   "metadata": {
    "slideshow": {
     "slide_type": "slide"
    }
   },
   "source": [
    "### Moral decision-making across the world\n",
    "\n",
    "**N = 70,000 (from 42 countries!)**\n",
    "\n",
    "[*Awad et al. (2020)*](https://www.pnas.org/doi/10.1073/pnas.1911517117)\n",
    "\n",
    "![title](img/trolley_problem.png)"
   ]
  },
  {
   "cell_type": "markdown",
   "id": "9d8d8c5a",
   "metadata": {
    "slideshow": {
     "slide_type": "slide"
    }
   },
   "source": [
    "### Are song lyrics getting more negative over time?\n",
    "\n",
    "**N = ~150K songs**\n",
    "\n",
    "[*Brand et al. (2019)*](https://www.cambridge.org/core/journals/evolutionary-human-sciences/article/cultural-evolution-of-emotional-expression-in-50-years-of-song-lyrics/E6E64C02BDB0480DB13B8B6BB7DFF598)\n",
    "\n",
    "![title](img/lyrics.png)"
   ]
  },
  {
   "cell_type": "markdown",
   "id": "0f16a826",
   "metadata": {
    "slideshow": {
     "slide_type": "slide"
    }
   },
   "source": [
    "### How similar are vocabularies across languages?\n",
    "\n",
    "**N = 41 languages (1010 concepts)**\n",
    "\n",
    "[*Thompson et al. (2020)*](https://www.nature.com/articles/s41562-020-0924-8)\n",
    "\n",
    "![title](img/alignment.png)"
   ]
  },
  {
   "cell_type": "markdown",
   "id": "4c238353",
   "metadata": {
    "slideshow": {
     "slide_type": "slide"
    }
   },
   "source": [
    "## Course Structure\n",
    "\n",
    "Class time is divided into *lecture* and *section*.\n",
    "\n",
    "- Lecture is a time to **introduce**, **explain**, and **demonstrate** new concepts.  \n",
    "  - There will be a focus on **hands-on practice** (i.e., \"check-ins\"). \n",
    "- Section is a time to **practice** and **develop further fluency** with these concepts.  \n"
   ]
  },
  {
   "cell_type": "markdown",
   "id": "4b444809",
   "metadata": {
    "slideshow": {
     "slide_type": "slide"
    }
   },
   "source": [
    "### Following along in lecture\n",
    "\n",
    "- Lecture will have many opportunities to **follow along** via **check-ins**.  \n",
    "- I do recommend doing this, whether you're in-person or watching the podcast! \n",
    "- The lectures can all be found on GitHub, and downloaded or **cloned** into your DataHub account: \n",
    "   - Link: https://github.com/UCSD-CSS2/lectures\n",
    "   - We'll review exactly how to do that in class."
   ]
  },
  {
   "cell_type": "markdown",
   "id": "5392078a",
   "metadata": {
    "slideshow": {
     "slide_type": "slide"
    }
   },
   "source": [
    "### Grading and Assessments\n",
    "\n",
    "- Each week (except for final weeks) will have a **coding lab** due the following Monday.\n",
    "- There are also **four problem sets**, which will be auto-graded.\n",
    "- There is also a **final project**––like a big, more coherent problem set.\n",
    "\n",
    "| Grade Component | Percentage of Final Grade |\n",
    "| --------------- | ------------------------- |\n",
    "| 8 Coding Labs | 50% (6.25% each) |\n",
    "| 4 Problem Sets | 32% (8% each) |\n",
    "| 1 Final Project| 18% |"
   ]
  },
  {
   "cell_type": "markdown",
   "id": "b31c0704",
   "metadata": {
    "slideshow": {
     "slide_type": "slide"
    }
   },
   "source": [
    "### Expectations\n",
    "\n",
    "- Course will involve programming in Python.  \n",
    "  - We will review basics, but expectations include [CSS 1 content](https://ucsd-css2.github.io/ucsd-css2-website/course/expectations.html).  \n",
    "  - Lab 1 will be basic Python review!\n",
    "- Will also involve using **DataHub** (and Jupyter notebooks).\n",
    "- Lecture/section attendance not required.  \n",
    "- No midterms or final exam."
   ]
  },
  {
   "cell_type": "markdown",
   "id": "4015ac7e",
   "metadata": {
    "slideshow": {
     "slide_type": "slide"
    }
   },
   "source": [
    "### Academic Integrity\n",
    "\n",
    "From the syllabus:\n",
    "\n",
    "> Please turn in your own work. While you are encouraged to work together on some assignments (e.g., on [labs](../labs/overview.md)), you should still understand the code you've submitted. Problem sets and final project should be completed independently.\n",
    "\n",
    "> Please review academic integrity policies [here](http://academicintegrity.ucsd.edu). Cheating and plagiarism are unfair to other students and ultimately to yourself, and you will be penalized if caught. Instead, if you're struggling with something, please come to office hours and ask for help! \n"
   ]
  },
  {
   "cell_type": "markdown",
   "id": "f54d6d55",
   "metadata": {
    "slideshow": {
     "slide_type": "slide"
    }
   },
   "source": [
    "## Course Content"
   ]
  },
  {
   "cell_type": "markdown",
   "id": "38b4531d",
   "metadata": {
    "slideshow": {
     "slide_type": "slide"
    }
   },
   "source": [
    "### Key questions\n",
    "\n",
    "We'll examine some **key questions** involved in CSS:\n",
    "\n",
    "- How is a dataset **formatted**, and is this the appropriate format for what I want to do? \n",
    "- Is this dataset **representative** or does it reflect a **biased sample**? \n",
    "- What **ethical considerations** should I take into account when obtaining and analyzing data? \n",
    "- What kind of **model** is the most appropriate for these data? \n",
    "- How do I **design and implement** these models––ranging in complexity from [linear regression](https://en.wikipedia.org/wiki/Linear_regression) to [support vector machines](https://en.wikipedia.org/wiki/Support_vector_machine)? "
   ]
  },
  {
   "cell_type": "markdown",
   "id": "b38da6fe",
   "metadata": {
    "slideshow": {
     "slide_type": "slide"
    }
   },
   "source": [
    "### Sample topics\n",
    "\n",
    "- Ethical issues in CSS.\n",
    "- Data visualization. \n",
    "- Data wrangling.  \n",
    "- Linear regression.  \n",
    "- Classification.  \n",
    "- Model evaluation.  \n"
   ]
  },
  {
   "cell_type": "markdown",
   "id": "b35a2417",
   "metadata": {
    "slideshow": {
     "slide_type": "slide"
    }
   },
   "source": [
    "## Welcome to CSS!"
   ]
  }
 ],
 "metadata": {
  "celltoolbar": "Slideshow",
  "kernelspec": {
   "display_name": "Python 3 (ipykernel)",
   "language": "python",
   "name": "python3"
  },
  "language_info": {
   "codemirror_mode": {
    "name": "ipython",
    "version": 3
   },
   "file_extension": ".py",
   "mimetype": "text/x-python",
   "name": "python",
   "nbconvert_exporter": "python",
   "pygments_lexer": "ipython3",
   "version": "3.9.12"
  }
 },
 "nbformat": 4,
 "nbformat_minor": 5
}
