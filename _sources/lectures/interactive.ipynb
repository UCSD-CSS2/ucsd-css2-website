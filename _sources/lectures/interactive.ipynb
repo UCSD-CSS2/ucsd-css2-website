{
 "cells": [
  {
   "cell_type": "code",
   "execution_count": 1,
   "id": "358b3b71",
   "metadata": {},
   "outputs": [],
   "source": [
    "class Circle():\n",
    "    def __init__(self, radius):\n",
    "        self.radius = 4\n",
    "    def area(self, radius = 4):\n",
    "        return 3.14 * radius**2\n",
    "    def circumference(self, radius = 4):\n",
    "        return 2 * radius * 3.14"
   ]
  },
  {
   "cell_type": "code",
   "execution_count": 2,
   "id": "7d1f2bb2",
   "metadata": {},
   "outputs": [
    {
     "ename": "AssertionError",
     "evalue": "",
     "output_type": "error",
     "traceback": [
      "\u001b[0;31m---------------------------------------------------------------------------\u001b[0m",
      "\u001b[0;31mAssertionError\u001b[0m                            Traceback (most recent call last)",
      "Input \u001b[0;32mIn [2]\u001b[0m, in \u001b[0;36m<cell line: 7>\u001b[0;34m()\u001b[0m\n\u001b[1;32m      5\u001b[0m \u001b[38;5;66;03m### BEGIN HIDDEN TESTS\u001b[39;00m\n\u001b[1;32m      6\u001b[0m circ2 \u001b[38;5;241m=\u001b[39m Circle(radius\u001b[38;5;241m=\u001b[39m\u001b[38;5;241m10\u001b[39m)\n\u001b[0;32m----> 7\u001b[0m \u001b[38;5;28;01massert\u001b[39;00m circ2\u001b[38;5;241m.\u001b[39mradius \u001b[38;5;241m==\u001b[39m \u001b[38;5;241m10\u001b[39m\n",
      "\u001b[0;31mAssertionError\u001b[0m: "
     ]
    }
   ],
   "source": [
    "assert Circle\n",
    "circ1 = Circle(radius=4)\n",
    "assert circ1.radius == 4\n",
    "\n",
    "### BEGIN HIDDEN TESTS\n",
    "circ2 = Circle(radius=10)\n",
    "assert circ2.radius == 10"
   ]
  },
  {
   "cell_type": "code",
   "execution_count": 3,
   "id": "be9f086f",
   "metadata": {},
   "outputs": [
    {
     "data": {
      "text/plain": [
       "4"
      ]
     },
     "execution_count": 3,
     "metadata": {},
     "output_type": "execute_result"
    }
   ],
   "source": [
    "circ2.radius"
   ]
  },
  {
   "cell_type": "code",
   "execution_count": null,
   "id": "842ab06b",
   "metadata": {},
   "outputs": [],
   "source": []
  }
 ],
 "metadata": {
  "kernelspec": {
   "display_name": "Python 3 (ipykernel)",
   "language": "python",
   "name": "python3"
  },
  "language_info": {
   "codemirror_mode": {
    "name": "ipython",
    "version": 3
   },
   "file_extension": ".py",
   "mimetype": "text/x-python",
   "name": "python",
   "nbconvert_exporter": "python",
   "pygments_lexer": "ipython3",
   "version": "3.9.12"
  }
 },
 "nbformat": 4,
 "nbformat_minor": 5
}
