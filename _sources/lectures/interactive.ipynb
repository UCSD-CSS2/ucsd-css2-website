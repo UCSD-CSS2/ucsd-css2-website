{
 "cells": [
  {
   "cell_type": "code",
   "execution_count": 91,
   "id": "4eb7087d",
   "metadata": {},
   "outputs": [],
   "source": [
    "string = \"This is a classroom this is a classroom\""
   ]
  },
  {
   "cell_type": "code",
   "execution_count": 98,
   "id": "c4482756",
   "metadata": {},
   "outputs": [],
   "source": [
    "num_t = 0\n",
    "for letter in string:\n",
    "    if letter == \"t\" or letter == \"T\":\n",
    "        num_t += 1"
   ]
  },
  {
   "cell_type": "code",
   "execution_count": 96,
   "id": "dc75945d",
   "metadata": {},
   "outputs": [
    {
     "data": {
      "text/plain": [
       "2"
      ]
     },
     "execution_count": 96,
     "metadata": {},
     "output_type": "execute_result"
    }
   ],
   "source": [
    "num_t"
   ]
  },
  {
   "cell_type": "code",
   "execution_count": null,
   "id": "83978851",
   "metadata": {},
   "outputs": [],
   "source": []
  }
 ],
 "metadata": {
  "kernelspec": {
   "display_name": "Python 3 (ipykernel)",
   "language": "python",
   "name": "python3"
  },
  "language_info": {
   "codemirror_mode": {
    "name": "ipython",
    "version": 3
   },
   "file_extension": ".py",
   "mimetype": "text/x-python",
   "name": "python",
   "nbconvert_exporter": "python",
   "pygments_lexer": "ipython3",
   "version": "3.9.12"
  }
 },
 "nbformat": 4,
 "nbformat_minor": 5
}
