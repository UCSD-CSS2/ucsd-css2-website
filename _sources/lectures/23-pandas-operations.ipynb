{
 "cells": [
  {
   "cell_type": "markdown",
   "id": "357a45b3",
   "metadata": {
    "slideshow": {
     "slide_type": "slide"
    }
   },
   "source": [
    "# Basic operations with `pandas`"
   ]
  },
  {
   "cell_type": "markdown",
   "id": "08a31438",
   "metadata": {
    "slideshow": {
     "slide_type": "slide"
    }
   },
   "source": [
    "## Goals of this lecture\n",
    "\n",
    "Previously, we discussed why [`pandas.DataFrame`](22-pandas) is so useful for representing data.\n",
    "\n",
    "In today's lecture, we'll cover:\n",
    "\n",
    "- How to **read in** a `.csv` file as a `DataFrame` using `pandas.read_csv`. \n",
    "- Sorting a `DataFrame` with `sort_values`.\n",
    "- Basic **descriptive statistics** with `pandas` (`mean()`, etc.)\n",
    "- Creating a new **column** of a `DataFrame`. \n"
   ]
  },
  {
   "cell_type": "code",
   "execution_count": 20,
   "id": "a985bdd7",
   "metadata": {
    "slideshow": {
     "slide_type": "-"
    }
   },
   "outputs": [],
   "source": [
    "### Always remember to import the package!\n",
    "import pandas as pd"
   ]
  },
  {
   "cell_type": "markdown",
   "id": "ba8f1775",
   "metadata": {
    "slideshow": {
     "slide_type": "slide"
    }
   },
   "source": [
    "## Review: What is tabular data?\n",
    "\n",
    "> [Tabular data](https://www.statology.org/tabular-data/) is data organized in a **table** with *rows* and *columns*.\n",
    "\n",
    "- This kind of data is **two-dimensional**.  \n",
    "- Typically, each **row** represents an \"observation\".\n",
    "  - A person.\n",
    "  - A country.  \n",
    "  - An experimental trial.\n",
    "- Typicallly, each **column** represents an *attribute*.  \n",
    "  - `height`\n",
    "  - `gdp` or `population`\n",
    "  - `reaction_time` or `experimental_condition`\n"
   ]
  },
  {
   "cell_type": "markdown",
   "id": "3cae2ed2",
   "metadata": {
    "slideshow": {
     "slide_type": "slide"
    }
   },
   "source": [
    "### Example: test scores\n",
    "\n",
    "**Check-in**: What are the **columns** of this table?\n",
    "\n",
    "| Participant | Score |\n",
    "| ------- | ----- |\n",
    "| 1  | 85| \n",
    "| 2  | 92| \n",
    "| 3  | 78| \n",
    "| 4  | 98| \n",
    "| 5  | 76| "
   ]
  },
  {
   "cell_type": "markdown",
   "id": "7c2a7eae",
   "metadata": {
    "slideshow": {
     "slide_type": "slide"
    }
   },
   "source": [
    "## Reading in a `.csv` file\n",
    "\n",
    "> A `.csv` file is a **comma-separated values** file.\n",
    "\n",
    "Tabular data is often represented in a `.csv` file.\n",
    "\n",
    "- The values of each column are separated by a comma (`1,85`). \n",
    "- Each row is represented by a new line.\n",
    "\n",
    "A `.csv` file can also be opened in Excel or Google Sheets."
   ]
  },
  {
   "cell_type": "markdown",
   "id": "df56ef7e",
   "metadata": {
    "slideshow": {
     "slide_type": "slide"
    }
   },
   "source": [
    "### Review: file paths\n",
    "\n",
    "[Previously, we've discussed how a **file path** represents the \"location\" of a file on your computer](17-reading-text).\n",
    "\n",
    "- An **absolute** file path specifies the location of a file relative to some **root** directory.\n",
    "- A **relative** file path specifies the location of a file relative to the **current** directory (i.e., the one you're in right now). \n",
    "\n",
    "We already know how to read in `.txt` and `.json` files, but `.csv` files are new."
   ]
  },
  {
   "cell_type": "markdown",
   "id": "8df06704",
   "metadata": {
    "slideshow": {
     "slide_type": "slide"
    }
   },
   "source": [
    "### A sample `.csv` file \n",
    "\n",
    "The `data` directory contains a file called `scores_sample.csv`. \n",
    "\n",
    "For a series of made-up research participants, this file contains:\n",
    "\n",
    "- The student number.\n",
    "- Their score on a reading comprehension task.\n",
    "\n",
    "Now we need to read this file in!"
   ]
  },
  {
   "cell_type": "markdown",
   "id": "beaec584",
   "metadata": {
    "slideshow": {
     "slide_type": "slide"
    }
   },
   "source": [
    "#### Check-in\n",
    "\n",
    "If we're currently in `lectures`, and the file is in `lectures/data/scores_sample.csv`, what would the relative file path be?"
   ]
  },
  {
   "cell_type": "markdown",
   "id": "a4093c38",
   "metadata": {
    "slideshow": {
     "slide_type": "slide"
    }
   },
   "source": [
    "#### Solution\n",
    "\n",
    "The filepath would be: `data/scores_sample.csv`"
   ]
  },
  {
   "cell_type": "markdown",
   "id": "cb7a04ec",
   "metadata": {
    "slideshow": {
     "slide_type": "slide"
    }
   },
   "source": [
    "### Using `read_csv`\n",
    "\n",
    "`pandas.read_csv` takes in a **filepath** as an argument, and returns a `DataFrame`."
   ]
  },
  {
   "cell_type": "code",
   "execution_count": 99,
   "id": "5222fb7c",
   "metadata": {
    "slideshow": {
     "slide_type": "-"
    }
   },
   "outputs": [],
   "source": [
    "## Pass the filepath into pd.read_csv\n",
    "df_scores = pd.read_csv(\"data/scores_sample.csv\")"
   ]
  },
  {
   "cell_type": "code",
   "execution_count": 35,
   "id": "cff20289",
   "metadata": {
    "slideshow": {
     "slide_type": "-"
    }
   },
   "outputs": [
    {
     "data": {
      "text/html": [
       "<div>\n",
       "<style scoped>\n",
       "    .dataframe tbody tr th:only-of-type {\n",
       "        vertical-align: middle;\n",
       "    }\n",
       "\n",
       "    .dataframe tbody tr th {\n",
       "        vertical-align: top;\n",
       "    }\n",
       "\n",
       "    .dataframe thead th {\n",
       "        text-align: right;\n",
       "    }\n",
       "</style>\n",
       "<table border=\"1\" class=\"dataframe\">\n",
       "  <thead>\n",
       "    <tr style=\"text-align: right;\">\n",
       "      <th></th>\n",
       "      <th>Participant</th>\n",
       "      <th>Score</th>\n",
       "    </tr>\n",
       "  </thead>\n",
       "  <tbody>\n",
       "    <tr>\n",
       "      <th>0</th>\n",
       "      <td>1</td>\n",
       "      <td>83</td>\n",
       "    </tr>\n",
       "    <tr>\n",
       "      <th>1</th>\n",
       "      <td>2</td>\n",
       "      <td>84</td>\n",
       "    </tr>\n",
       "  </tbody>\n",
       "</table>\n",
       "</div>"
      ],
      "text/plain": [
       "   Participant  Score\n",
       "0            1     83\n",
       "1            2     84"
      ]
     },
     "execution_count": 35,
     "metadata": {},
     "output_type": "execute_result"
    }
   ],
   "source": [
    "## Let's inspect the first couple of rows\n",
    "df_scores.head(2)"
   ]
  },
  {
   "cell_type": "markdown",
   "id": "ef96d56a",
   "metadata": {
    "slideshow": {
     "slide_type": "slide"
    }
   },
   "source": [
    "#### Check-in\n",
    "\n",
    "What are the **column names** of this `DataFrame`? What does each **row** represent?"
   ]
  },
  {
   "cell_type": "code",
   "execution_count": 34,
   "id": "f3bfef38",
   "metadata": {
    "slideshow": {
     "slide_type": "-"
    }
   },
   "outputs": [
    {
     "data": {
      "text/html": [
       "<div>\n",
       "<style scoped>\n",
       "    .dataframe tbody tr th:only-of-type {\n",
       "        vertical-align: middle;\n",
       "    }\n",
       "\n",
       "    .dataframe tbody tr th {\n",
       "        vertical-align: top;\n",
       "    }\n",
       "\n",
       "    .dataframe thead th {\n",
       "        text-align: right;\n",
       "    }\n",
       "</style>\n",
       "<table border=\"1\" class=\"dataframe\">\n",
       "  <thead>\n",
       "    <tr style=\"text-align: right;\">\n",
       "      <th></th>\n",
       "      <th>Participant</th>\n",
       "      <th>Score</th>\n",
       "    </tr>\n",
       "  </thead>\n",
       "  <tbody>\n",
       "    <tr>\n",
       "      <th>0</th>\n",
       "      <td>1</td>\n",
       "      <td>83</td>\n",
       "    </tr>\n",
       "    <tr>\n",
       "      <th>1</th>\n",
       "      <td>2</td>\n",
       "      <td>84</td>\n",
       "    </tr>\n",
       "    <tr>\n",
       "      <th>2</th>\n",
       "      <td>3</td>\n",
       "      <td>89</td>\n",
       "    </tr>\n",
       "    <tr>\n",
       "      <th>3</th>\n",
       "      <td>4</td>\n",
       "      <td>80</td>\n",
       "    </tr>\n",
       "    <tr>\n",
       "      <th>4</th>\n",
       "      <td>5</td>\n",
       "      <td>81</td>\n",
       "    </tr>\n",
       "  </tbody>\n",
       "</table>\n",
       "</div>"
      ],
      "text/plain": [
       "   Participant  Score\n",
       "0            1     83\n",
       "1            2     84\n",
       "2            3     89\n",
       "3            4     80\n",
       "4            5     81"
      ]
     },
     "execution_count": 34,
     "metadata": {},
     "output_type": "execute_result"
    }
   ],
   "source": [
    "df_scores.head(5)"
   ]
  },
  {
   "cell_type": "markdown",
   "id": "4941fbd1",
   "metadata": {
    "slideshow": {
     "slide_type": "slide"
    }
   },
   "source": [
    "#### Check-in\n",
    "\n",
    "How would we figure out how many rows and columns this `DataFrame` has?"
   ]
  },
  {
   "cell_type": "code",
   "execution_count": 41,
   "id": "7b130ef1",
   "metadata": {
    "slideshow": {
     "slide_type": "-"
    }
   },
   "outputs": [],
   "source": [
    "### Your code here"
   ]
  },
  {
   "cell_type": "markdown",
   "id": "33130a63",
   "metadata": {
    "slideshow": {
     "slide_type": "slide"
    }
   },
   "source": [
    "#### Solution"
   ]
  },
  {
   "cell_type": "code",
   "execution_count": 43,
   "id": "fec6d840",
   "metadata": {
    "slideshow": {
     "slide_type": "-"
    }
   },
   "outputs": [
    {
     "data": {
      "text/plain": [
       "(20, 2)"
      ]
     },
     "execution_count": 43,
     "metadata": {},
     "output_type": "execute_result"
    }
   ],
   "source": [
    "## First number = number of rows\n",
    "## Second number = number of columns\n",
    "df_scores.shape"
   ]
  },
  {
   "cell_type": "markdown",
   "id": "2a34581d",
   "metadata": {
    "slideshow": {
     "slide_type": "slide"
    }
   },
   "source": [
    "#### Check-in\n",
    "\n",
    "Now let's try to read in a **new** `.csv` file. This one is also located in `data`, and it's called `housing.csv`. \n",
    "\n",
    "- The original data can be found on [Kaggle, a website for data science competitions](https://www.kaggle.com/datasets/camnugent/california-housing-prices?resource=download)).\n",
    "- It aggregates across houses on a **block**.\n",
    "\n",
    "Call the new `DataFrame` `df_housing`."
   ]
  },
  {
   "cell_type": "code",
   "execution_count": 59,
   "id": "1c1baf0f",
   "metadata": {
    "slideshow": {
     "slide_type": "-"
    }
   },
   "outputs": [],
   "source": [
    "### Your code here"
   ]
  },
  {
   "cell_type": "markdown",
   "id": "0b8232e9",
   "metadata": {
    "slideshow": {
     "slide_type": "slide"
    }
   },
   "source": [
    "#### Solution"
   ]
  },
  {
   "cell_type": "code",
   "execution_count": 60,
   "id": "aac55464",
   "metadata": {
    "slideshow": {
     "slide_type": "-"
    }
   },
   "outputs": [
    {
     "data": {
      "text/html": [
       "<div>\n",
       "<style scoped>\n",
       "    .dataframe tbody tr th:only-of-type {\n",
       "        vertical-align: middle;\n",
       "    }\n",
       "\n",
       "    .dataframe tbody tr th {\n",
       "        vertical-align: top;\n",
       "    }\n",
       "\n",
       "    .dataframe thead th {\n",
       "        text-align: right;\n",
       "    }\n",
       "</style>\n",
       "<table border=\"1\" class=\"dataframe\">\n",
       "  <thead>\n",
       "    <tr style=\"text-align: right;\">\n",
       "      <th></th>\n",
       "      <th>longitude</th>\n",
       "      <th>latitude</th>\n",
       "      <th>housing_median_age</th>\n",
       "      <th>total_rooms</th>\n",
       "      <th>total_bedrooms</th>\n",
       "      <th>population</th>\n",
       "      <th>households</th>\n",
       "      <th>median_income</th>\n",
       "      <th>median_house_value</th>\n",
       "      <th>ocean_proximity</th>\n",
       "    </tr>\n",
       "  </thead>\n",
       "  <tbody>\n",
       "    <tr>\n",
       "      <th>0</th>\n",
       "      <td>-122.23</td>\n",
       "      <td>37.88</td>\n",
       "      <td>41.0</td>\n",
       "      <td>880.0</td>\n",
       "      <td>129.0</td>\n",
       "      <td>322.0</td>\n",
       "      <td>126.0</td>\n",
       "      <td>8.3252</td>\n",
       "      <td>452600.0</td>\n",
       "      <td>NEAR BAY</td>\n",
       "    </tr>\n",
       "    <tr>\n",
       "      <th>1</th>\n",
       "      <td>-122.22</td>\n",
       "      <td>37.86</td>\n",
       "      <td>21.0</td>\n",
       "      <td>7099.0</td>\n",
       "      <td>1106.0</td>\n",
       "      <td>2401.0</td>\n",
       "      <td>1138.0</td>\n",
       "      <td>8.3014</td>\n",
       "      <td>358500.0</td>\n",
       "      <td>NEAR BAY</td>\n",
       "    </tr>\n",
       "  </tbody>\n",
       "</table>\n",
       "</div>"
      ],
      "text/plain": [
       "   longitude  latitude  housing_median_age  total_rooms  total_bedrooms  \\\n",
       "0    -122.23     37.88                41.0        880.0           129.0   \n",
       "1    -122.22     37.86                21.0       7099.0          1106.0   \n",
       "\n",
       "   population  households  median_income  median_house_value ocean_proximity  \n",
       "0       322.0       126.0         8.3252            452600.0        NEAR BAY  \n",
       "1      2401.0      1138.0         8.3014            358500.0        NEAR BAY  "
      ]
     },
     "execution_count": 60,
     "metadata": {},
     "output_type": "execute_result"
    }
   ],
   "source": [
    "df_housing = pd.read_csv(\"data/housing.csv\")\n",
    "df_housing.head(2)"
   ]
  },
  {
   "cell_type": "code",
   "execution_count": 61,
   "id": "4cbb2dd8",
   "metadata": {
    "slideshow": {
     "slide_type": "-"
    }
   },
   "outputs": [
    {
     "data": {
      "text/plain": [
       "(20640, 10)"
      ]
     },
     "execution_count": 61,
     "metadata": {},
     "output_type": "execute_result"
    }
   ],
   "source": [
    "df_housing.shape"
   ]
  },
  {
   "cell_type": "markdown",
   "id": "fdd146f1",
   "metadata": {
    "slideshow": {
     "slide_type": "slide"
    }
   },
   "source": [
    "## Sorting a `DataFrame`\n",
    "\n",
    "Often, we might find it useful to **sort** a `DataFrame` according to the values in a particular column."
   ]
  },
  {
   "cell_type": "markdown",
   "id": "92d95ad4",
   "metadata": {
    "slideshow": {
     "slide_type": "slide"
    }
   },
   "source": [
    "### `sort_values`\n",
    "\n",
    "- By default, `sort_values` will sort from *lowest* to *highest*."
   ]
  },
  {
   "cell_type": "code",
   "execution_count": 62,
   "id": "b7267594",
   "metadata": {
    "slideshow": {
     "slide_type": "-"
    }
   },
   "outputs": [
    {
     "data": {
      "text/html": [
       "<div>\n",
       "<style scoped>\n",
       "    .dataframe tbody tr th:only-of-type {\n",
       "        vertical-align: middle;\n",
       "    }\n",
       "\n",
       "    .dataframe tbody tr th {\n",
       "        vertical-align: top;\n",
       "    }\n",
       "\n",
       "    .dataframe thead th {\n",
       "        text-align: right;\n",
       "    }\n",
       "</style>\n",
       "<table border=\"1\" class=\"dataframe\">\n",
       "  <thead>\n",
       "    <tr style=\"text-align: right;\">\n",
       "      <th></th>\n",
       "      <th>Participant</th>\n",
       "      <th>Score</th>\n",
       "    </tr>\n",
       "  </thead>\n",
       "  <tbody>\n",
       "    <tr>\n",
       "      <th>19</th>\n",
       "      <td>20</td>\n",
       "      <td>75</td>\n",
       "    </tr>\n",
       "    <tr>\n",
       "      <th>18</th>\n",
       "      <td>19</td>\n",
       "      <td>79</td>\n",
       "    </tr>\n",
       "  </tbody>\n",
       "</table>\n",
       "</div>"
      ],
      "text/plain": [
       "    Participant  Score\n",
       "19           20     75\n",
       "18           19     79"
      ]
     },
     "execution_count": 62,
     "metadata": {},
     "output_type": "execute_result"
    }
   ],
   "source": [
    "df_scores.sort_values(\"Score\").head(2)"
   ]
  },
  {
   "cell_type": "code",
   "execution_count": 63,
   "id": "8d7d92f9",
   "metadata": {
    "slideshow": {
     "slide_type": "-"
    }
   },
   "outputs": [
    {
     "data": {
      "text/html": [
       "<div>\n",
       "<style scoped>\n",
       "    .dataframe tbody tr th:only-of-type {\n",
       "        vertical-align: middle;\n",
       "    }\n",
       "\n",
       "    .dataframe tbody tr th {\n",
       "        vertical-align: top;\n",
       "    }\n",
       "\n",
       "    .dataframe thead th {\n",
       "        text-align: right;\n",
       "    }\n",
       "</style>\n",
       "<table border=\"1\" class=\"dataframe\">\n",
       "  <thead>\n",
       "    <tr style=\"text-align: right;\">\n",
       "      <th></th>\n",
       "      <th>Participant</th>\n",
       "      <th>Score</th>\n",
       "    </tr>\n",
       "  </thead>\n",
       "  <tbody>\n",
       "    <tr>\n",
       "      <th>17</th>\n",
       "      <td>18</td>\n",
       "      <td>94</td>\n",
       "    </tr>\n",
       "    <tr>\n",
       "      <th>11</th>\n",
       "      <td>12</td>\n",
       "      <td>98</td>\n",
       "    </tr>\n",
       "  </tbody>\n",
       "</table>\n",
       "</div>"
      ],
      "text/plain": [
       "    Participant  Score\n",
       "17           18     94\n",
       "11           12     98"
      ]
     },
     "execution_count": 63,
     "metadata": {},
     "output_type": "execute_result"
    }
   ],
   "source": [
    "df_scores.sort_values(\"Score\").tail(2)"
   ]
  },
  {
   "cell_type": "markdown",
   "id": "6d9365fe",
   "metadata": {
    "slideshow": {
     "slide_type": "slide"
    }
   },
   "source": [
    "### `ascending = False`\n",
    "\n",
    "We can change that with the `ascending` parameter."
   ]
  },
  {
   "cell_type": "code",
   "execution_count": 64,
   "id": "7d01b88b",
   "metadata": {
    "slideshow": {
     "slide_type": "-"
    }
   },
   "outputs": [
    {
     "data": {
      "text/html": [
       "<div>\n",
       "<style scoped>\n",
       "    .dataframe tbody tr th:only-of-type {\n",
       "        vertical-align: middle;\n",
       "    }\n",
       "\n",
       "    .dataframe tbody tr th {\n",
       "        vertical-align: top;\n",
       "    }\n",
       "\n",
       "    .dataframe thead th {\n",
       "        text-align: right;\n",
       "    }\n",
       "</style>\n",
       "<table border=\"1\" class=\"dataframe\">\n",
       "  <thead>\n",
       "    <tr style=\"text-align: right;\">\n",
       "      <th></th>\n",
       "      <th>Participant</th>\n",
       "      <th>Score</th>\n",
       "    </tr>\n",
       "  </thead>\n",
       "  <tbody>\n",
       "    <tr>\n",
       "      <th>11</th>\n",
       "      <td>12</td>\n",
       "      <td>98</td>\n",
       "    </tr>\n",
       "    <tr>\n",
       "      <th>17</th>\n",
       "      <td>18</td>\n",
       "      <td>94</td>\n",
       "    </tr>\n",
       "  </tbody>\n",
       "</table>\n",
       "</div>"
      ],
      "text/plain": [
       "    Participant  Score\n",
       "11           12     98\n",
       "17           18     94"
      ]
     },
     "execution_count": 64,
     "metadata": {},
     "output_type": "execute_result"
    }
   ],
   "source": [
    "df_scores.sort_values(\"Score\", ascending = False).head(2)"
   ]
  },
  {
   "cell_type": "markdown",
   "id": "1ecc8563",
   "metadata": {
    "slideshow": {
     "slide_type": "slide"
    }
   },
   "source": [
    "### Check-in\n",
    "\n",
    "Use `sort_values` to find the block with the *lowest* `median_house_value`. Then, answer the following questions:\n",
    "\n",
    "- What is the `ocean_proximity` of this block?  \n",
    "- What is the `median_income` of this block?  \n",
    "- How many `households` are on this block?"
   ]
  },
  {
   "cell_type": "code",
   "execution_count": 66,
   "id": "1e3a1af8",
   "metadata": {},
   "outputs": [],
   "source": [
    "### Your code here"
   ]
  },
  {
   "cell_type": "markdown",
   "id": "e1434f56",
   "metadata": {
    "slideshow": {
     "slide_type": "slide"
    }
   },
   "source": [
    "### Solution"
   ]
  },
  {
   "cell_type": "code",
   "execution_count": 65,
   "id": "1072362b",
   "metadata": {},
   "outputs": [
    {
     "data": {
      "text/html": [
       "<div>\n",
       "<style scoped>\n",
       "    .dataframe tbody tr th:only-of-type {\n",
       "        vertical-align: middle;\n",
       "    }\n",
       "\n",
       "    .dataframe tbody tr th {\n",
       "        vertical-align: top;\n",
       "    }\n",
       "\n",
       "    .dataframe thead th {\n",
       "        text-align: right;\n",
       "    }\n",
       "</style>\n",
       "<table border=\"1\" class=\"dataframe\">\n",
       "  <thead>\n",
       "    <tr style=\"text-align: right;\">\n",
       "      <th></th>\n",
       "      <th>longitude</th>\n",
       "      <th>latitude</th>\n",
       "      <th>housing_median_age</th>\n",
       "      <th>total_rooms</th>\n",
       "      <th>total_bedrooms</th>\n",
       "      <th>population</th>\n",
       "      <th>households</th>\n",
       "      <th>median_income</th>\n",
       "      <th>median_house_value</th>\n",
       "      <th>ocean_proximity</th>\n",
       "    </tr>\n",
       "  </thead>\n",
       "  <tbody>\n",
       "    <tr>\n",
       "      <th>9188</th>\n",
       "      <td>-117.86</td>\n",
       "      <td>34.24</td>\n",
       "      <td>52.0</td>\n",
       "      <td>803.0</td>\n",
       "      <td>267.0</td>\n",
       "      <td>628.0</td>\n",
       "      <td>225.0</td>\n",
       "      <td>4.1932</td>\n",
       "      <td>14999.0</td>\n",
       "      <td>INLAND</td>\n",
       "    </tr>\n",
       "  </tbody>\n",
       "</table>\n",
       "</div>"
      ],
      "text/plain": [
       "      longitude  latitude  housing_median_age  total_rooms  total_bedrooms  \\\n",
       "9188    -117.86     34.24                52.0        803.0           267.0   \n",
       "\n",
       "      population  households  median_income  median_house_value  \\\n",
       "9188       628.0       225.0         4.1932             14999.0   \n",
       "\n",
       "     ocean_proximity  \n",
       "9188          INLAND  "
      ]
     },
     "execution_count": 65,
     "metadata": {},
     "output_type": "execute_result"
    }
   ],
   "source": [
    "df_housing.sort_values(\"median_house_value\").head(1)"
   ]
  },
  {
   "cell_type": "markdown",
   "id": "e44d2d69",
   "metadata": {
    "slideshow": {
     "slide_type": "slide"
    }
   },
   "source": [
    "### Check-in\n",
    "\n",
    "Use `sort_values` to find the block with the *highest* `median_house_value`. Then, answer the following questions:\n",
    "\n",
    "- What is the `ocean_proximity` of this block?  \n",
    "- What is the `median_income` of this block?  \n",
    "- How many `households` are on this block?"
   ]
  },
  {
   "cell_type": "code",
   "execution_count": 66,
   "id": "45f36126",
   "metadata": {},
   "outputs": [],
   "source": [
    "### Your code here"
   ]
  },
  {
   "cell_type": "markdown",
   "id": "60341456",
   "metadata": {
    "slideshow": {
     "slide_type": "slide"
    }
   },
   "source": [
    "### Solution"
   ]
  },
  {
   "cell_type": "code",
   "execution_count": 68,
   "id": "fc98b6f0",
   "metadata": {},
   "outputs": [
    {
     "data": {
      "text/html": [
       "<div>\n",
       "<style scoped>\n",
       "    .dataframe tbody tr th:only-of-type {\n",
       "        vertical-align: middle;\n",
       "    }\n",
       "\n",
       "    .dataframe tbody tr th {\n",
       "        vertical-align: top;\n",
       "    }\n",
       "\n",
       "    .dataframe thead th {\n",
       "        text-align: right;\n",
       "    }\n",
       "</style>\n",
       "<table border=\"1\" class=\"dataframe\">\n",
       "  <thead>\n",
       "    <tr style=\"text-align: right;\">\n",
       "      <th></th>\n",
       "      <th>longitude</th>\n",
       "      <th>latitude</th>\n",
       "      <th>housing_median_age</th>\n",
       "      <th>total_rooms</th>\n",
       "      <th>total_bedrooms</th>\n",
       "      <th>population</th>\n",
       "      <th>households</th>\n",
       "      <th>median_income</th>\n",
       "      <th>median_house_value</th>\n",
       "      <th>ocean_proximity</th>\n",
       "    </tr>\n",
       "  </thead>\n",
       "  <tbody>\n",
       "    <tr>\n",
       "      <th>10667</th>\n",
       "      <td>-117.88</td>\n",
       "      <td>33.55</td>\n",
       "      <td>27.0</td>\n",
       "      <td>2278.0</td>\n",
       "      <td>316.0</td>\n",
       "      <td>772.0</td>\n",
       "      <td>304.0</td>\n",
       "      <td>10.1275</td>\n",
       "      <td>500001.0</td>\n",
       "      <td>&lt;1H OCEAN</td>\n",
       "    </tr>\n",
       "  </tbody>\n",
       "</table>\n",
       "</div>"
      ],
      "text/plain": [
       "       longitude  latitude  housing_median_age  total_rooms  total_bedrooms  \\\n",
       "10667    -117.88     33.55                27.0       2278.0           316.0   \n",
       "\n",
       "       population  households  median_income  median_house_value  \\\n",
       "10667       772.0       304.0        10.1275            500001.0   \n",
       "\n",
       "      ocean_proximity  \n",
       "10667       <1H OCEAN  "
      ]
     },
     "execution_count": 68,
     "metadata": {},
     "output_type": "execute_result"
    }
   ],
   "source": [
    "df_housing.sort_values(\"median_house_value\", ascending = False).head(1)"
   ]
  },
  {
   "cell_type": "markdown",
   "id": "234851ea",
   "metadata": {
    "slideshow": {
     "slide_type": "slide"
    }
   },
   "source": [
    "## Basic descriptive statistics in `pandas`\n",
    "\n",
    "> **Descriptive statistics** are ways to summarize and organize data.\n",
    "\n",
    "- We've already covered [using `numpy` to calculate **descriptive statistics**](21-numpy-advanced).  \n",
    "- But we can also use `pandas` in a very similar way!\n",
    "   - (A *column* of a `DataFrame` is roughly analogous to a `numpy.ndarray`.)"
   ]
  },
  {
   "cell_type": "markdown",
   "id": "8ff4dad1",
   "metadata": {
    "slideshow": {
     "slide_type": "slide"
    }
   },
   "source": [
    "### `sum`\n",
    "\n",
    "> The **sum** of a set of numbers is simply the result of adding each number together.\n",
    "\n",
    "The `sum` of a column can be calculated by calling:\n",
    "\n",
    "```python\n",
    "df_name[column_name].sum()\n",
    "```"
   ]
  },
  {
   "cell_type": "code",
   "execution_count": 74,
   "id": "6055ef6c",
   "metadata": {
    "slideshow": {
     "slide_type": "-"
    }
   },
   "outputs": [
    {
     "data": {
      "text/plain": [
       "1728"
      ]
     },
     "execution_count": 74,
     "metadata": {},
     "output_type": "execute_result"
    }
   ],
   "source": [
    "df_scores['Score'].sum()"
   ]
  },
  {
   "cell_type": "markdown",
   "id": "9e0968ab",
   "metadata": {
    "slideshow": {
     "slide_type": "slide"
    }
   },
   "source": [
    "### `mean`\n",
    "\n",
    "> The **mean** of a set of scores is the *sum* of those scores divided by the number of the observations.\n",
    "\n",
    "The `mean` of a column can be calculated by calling:\n",
    "\n",
    "```python\n",
    "df_name[column_name].mean()\n",
    "```"
   ]
  },
  {
   "cell_type": "code",
   "execution_count": 84,
   "id": "5951e654",
   "metadata": {
    "slideshow": {
     "slide_type": "-"
    }
   },
   "outputs": [
    {
     "data": {
      "text/plain": [
       "86.4"
      ]
     },
     "execution_count": 84,
     "metadata": {},
     "output_type": "execute_result"
    }
   ],
   "source": [
    "df_scores['Score'].mean()"
   ]
  },
  {
   "cell_type": "markdown",
   "id": "912a0b51",
   "metadata": {
    "slideshow": {
     "slide_type": "slide"
    }
   },
   "source": [
    "### `describe`\n",
    "\n",
    "The `describe` function gives you a bunch of handy descriptive statistics in a single call."
   ]
  },
  {
   "cell_type": "code",
   "execution_count": 85,
   "id": "4303de27",
   "metadata": {
    "slideshow": {
     "slide_type": "-"
    }
   },
   "outputs": [
    {
     "data": {
      "text/plain": [
       "count    20.000000\n",
       "mean     86.400000\n",
       "std       5.374403\n",
       "min      75.000000\n",
       "25%      83.750000\n",
       "50%      86.500000\n",
       "75%      89.250000\n",
       "max      98.000000\n",
       "Name: Score, dtype: float64"
      ]
     },
     "execution_count": 85,
     "metadata": {},
     "output_type": "execute_result"
    }
   ],
   "source": [
    "df_scores['Score'].describe()"
   ]
  },
  {
   "cell_type": "markdown",
   "id": "7e6d3d66",
   "metadata": {
    "slideshow": {
     "slide_type": "slide"
    }
   },
   "source": [
    "### Check-in\n",
    "\n",
    "What is the mean number of `households` per block in our housing dataset? What about the minimum and maximum?"
   ]
  },
  {
   "cell_type": "code",
   "execution_count": 86,
   "id": "a7d02774",
   "metadata": {
    "slideshow": {
     "slide_type": "-"
    }
   },
   "outputs": [],
   "source": [
    "### Your code here"
   ]
  },
  {
   "cell_type": "markdown",
   "id": "e748a92f",
   "metadata": {
    "slideshow": {
     "slide_type": "slide"
    }
   },
   "source": [
    "### Solution"
   ]
  },
  {
   "cell_type": "code",
   "execution_count": 83,
   "id": "7d53ab8a",
   "metadata": {
    "slideshow": {
     "slide_type": "-"
    }
   },
   "outputs": [
    {
     "name": "stdout",
     "output_type": "stream",
     "text": [
      "499.5396802325581\n",
      "6082.0\n",
      "1.0\n"
     ]
    }
   ],
   "source": [
    "print(df_housing['households'].mean())\n",
    "print(df_housing['households'].max())\n",
    "print(df_housing['households'].min())"
   ]
  },
  {
   "cell_type": "markdown",
   "id": "86017f5b",
   "metadata": {
    "slideshow": {
     "slide_type": "slide"
    }
   },
   "source": [
    "### Check-in\n",
    "\n",
    "What is the mean `median_income` per block in our housing dataset? What about the minimum and maximum?"
   ]
  },
  {
   "cell_type": "code",
   "execution_count": 87,
   "id": "1c43ecb2",
   "metadata": {
    "slideshow": {
     "slide_type": "-"
    }
   },
   "outputs": [],
   "source": [
    "### Your code here"
   ]
  },
  {
   "cell_type": "markdown",
   "id": "547a3d63",
   "metadata": {
    "slideshow": {
     "slide_type": "slide"
    }
   },
   "source": [
    "### Solution"
   ]
  },
  {
   "cell_type": "code",
   "execution_count": 88,
   "id": "97f1912d",
   "metadata": {
    "slideshow": {
     "slide_type": "-"
    }
   },
   "outputs": [
    {
     "name": "stdout",
     "output_type": "stream",
     "text": [
      "3.8706710029070246\n",
      "15.0001\n",
      "0.4999\n"
     ]
    }
   ],
   "source": [
    "print(df_housing['median_income'].mean())\n",
    "print(df_housing['median_income'].max())\n",
    "print(df_housing['median_income'].min())"
   ]
  },
  {
   "cell_type": "markdown",
   "id": "5a072a40",
   "metadata": {
    "slideshow": {
     "slide_type": "slide"
    }
   },
   "source": [
    "### Check-in\n",
    "\n",
    "Could we calculate the `mean` of the `ocean_proximity` variable? Why or why not?"
   ]
  },
  {
   "cell_type": "code",
   "execution_count": 87,
   "id": "49e8c712",
   "metadata": {
    "slideshow": {
     "slide_type": "-"
    }
   },
   "outputs": [],
   "source": [
    "### Your code here"
   ]
  },
  {
   "cell_type": "markdown",
   "id": "f41bac3a",
   "metadata": {
    "slideshow": {
     "slide_type": "slide"
    }
   },
   "source": [
    "### Solution\n",
    "\n",
    "No, because `ocean_proximity` is a **qualitative** variable. We can only count how many of each *category* there are."
   ]
  },
  {
   "cell_type": "code",
   "execution_count": 89,
   "id": "762c6aca",
   "metadata": {
    "slideshow": {
     "slide_type": "-"
    }
   },
   "outputs": [
    {
     "data": {
      "text/plain": [
       "<1H OCEAN     9136\n",
       "INLAND        6551\n",
       "NEAR OCEAN    2658\n",
       "NEAR BAY      2290\n",
       "ISLAND           5\n",
       "Name: ocean_proximity, dtype: int64"
      ]
     },
     "execution_count": 89,
     "metadata": {},
     "output_type": "execute_result"
    }
   ],
   "source": [
    "df_housing['ocean_proximity'].value_counts()"
   ]
  },
  {
   "cell_type": "markdown",
   "id": "d4303699",
   "metadata": {
    "slideshow": {
     "slide_type": "slide"
    }
   },
   "source": [
    "## Creating a new column\n",
    "\n",
    "`pandas` also makes it relatively easy to make a new column.\n",
    "\n",
    "Syntax:\n",
    "\n",
    "```python\n",
    "dataframe_name[new_column_name] = ...\n",
    "```"
   ]
  },
  {
   "cell_type": "code",
   "execution_count": 100,
   "id": "18c297ed",
   "metadata": {
    "slideshow": {
     "slide_type": "-"
    }
   },
   "outputs": [],
   "source": [
    "### Setting the column to a single value \n",
    "### just duplicates that value throughout the column\n",
    "df_scores['Researcher'] = 'Bergen'"
   ]
  },
  {
   "cell_type": "code",
   "execution_count": 105,
   "id": "9c9f8f2c",
   "metadata": {
    "slideshow": {
     "slide_type": "-"
    }
   },
   "outputs": [
    {
     "data": {
      "text/html": [
       "<div>\n",
       "<style scoped>\n",
       "    .dataframe tbody tr th:only-of-type {\n",
       "        vertical-align: middle;\n",
       "    }\n",
       "\n",
       "    .dataframe tbody tr th {\n",
       "        vertical-align: top;\n",
       "    }\n",
       "\n",
       "    .dataframe thead th {\n",
       "        text-align: right;\n",
       "    }\n",
       "</style>\n",
       "<table border=\"1\" class=\"dataframe\">\n",
       "  <thead>\n",
       "    <tr style=\"text-align: right;\">\n",
       "      <th></th>\n",
       "      <th>Participant</th>\n",
       "      <th>Score</th>\n",
       "      <th>Researcher</th>\n",
       "      <th>Pass</th>\n",
       "    </tr>\n",
       "  </thead>\n",
       "  <tbody>\n",
       "    <tr>\n",
       "      <th>0</th>\n",
       "      <td>1</td>\n",
       "      <td>83</td>\n",
       "      <td>Bergen</td>\n",
       "      <td>True</td>\n",
       "    </tr>\n",
       "    <tr>\n",
       "      <th>1</th>\n",
       "      <td>2</td>\n",
       "      <td>84</td>\n",
       "      <td>Bergen</td>\n",
       "      <td>True</td>\n",
       "    </tr>\n",
       "  </tbody>\n",
       "</table>\n",
       "</div>"
      ],
      "text/plain": [
       "   Participant  Score Researcher  Pass\n",
       "0            1     83     Bergen  True\n",
       "1            2     84     Bergen  True"
      ]
     },
     "execution_count": 105,
     "metadata": {},
     "output_type": "execute_result"
    }
   ],
   "source": [
    "df_scores.head(2)"
   ]
  },
  {
   "cell_type": "markdown",
   "id": "ad536453",
   "metadata": {
    "slideshow": {
     "slide_type": "slide"
    }
   },
   "source": [
    "### Using an existing column to make a new column\n",
    "\n",
    "You can also use values in an **existing** column to make a new column.\n",
    "\n",
    "- Example: a new column called `Pass` that encodes whether a score is `>= 70`."
   ]
  },
  {
   "cell_type": "code",
   "execution_count": 102,
   "id": "78438b23",
   "metadata": {
    "slideshow": {
     "slide_type": "-"
    }
   },
   "outputs": [],
   "source": [
    "df_scores['Pass'] = df_scores['Score'] >= 70"
   ]
  },
  {
   "cell_type": "code",
   "execution_count": 104,
   "id": "e9be0e1a",
   "metadata": {
    "slideshow": {
     "slide_type": "-"
    }
   },
   "outputs": [
    {
     "data": {
      "text/html": [
       "<div>\n",
       "<style scoped>\n",
       "    .dataframe tbody tr th:only-of-type {\n",
       "        vertical-align: middle;\n",
       "    }\n",
       "\n",
       "    .dataframe tbody tr th {\n",
       "        vertical-align: top;\n",
       "    }\n",
       "\n",
       "    .dataframe thead th {\n",
       "        text-align: right;\n",
       "    }\n",
       "</style>\n",
       "<table border=\"1\" class=\"dataframe\">\n",
       "  <thead>\n",
       "    <tr style=\"text-align: right;\">\n",
       "      <th></th>\n",
       "      <th>Participant</th>\n",
       "      <th>Score</th>\n",
       "      <th>Researcher</th>\n",
       "      <th>Pass</th>\n",
       "    </tr>\n",
       "  </thead>\n",
       "  <tbody>\n",
       "    <tr>\n",
       "      <th>0</th>\n",
       "      <td>1</td>\n",
       "      <td>83</td>\n",
       "      <td>Bergen</td>\n",
       "      <td>True</td>\n",
       "    </tr>\n",
       "    <tr>\n",
       "      <th>1</th>\n",
       "      <td>2</td>\n",
       "      <td>84</td>\n",
       "      <td>Bergen</td>\n",
       "      <td>True</td>\n",
       "    </tr>\n",
       "  </tbody>\n",
       "</table>\n",
       "</div>"
      ],
      "text/plain": [
       "   Participant  Score Researcher  Pass\n",
       "0            1     83     Bergen  True\n",
       "1            2     84     Bergen  True"
      ]
     },
     "execution_count": 104,
     "metadata": {},
     "output_type": "execute_result"
    }
   ],
   "source": [
    "df_scores.head(2)"
   ]
  },
  {
   "cell_type": "markdown",
   "id": "5a96c442",
   "metadata": {
    "slideshow": {
     "slide_type": "slide"
    }
   },
   "source": [
    "### Check-in\n",
    "\n",
    "Create a new column of `df_housing` that calculates the **ratio** between the `population` of a block and the number of `households` on that block."
   ]
  },
  {
   "cell_type": "code",
   "execution_count": 115,
   "id": "24188e42",
   "metadata": {
    "slideshow": {
     "slide_type": "-"
    }
   },
   "outputs": [],
   "source": [
    "### Your code here"
   ]
  },
  {
   "cell_type": "markdown",
   "id": "a0cc8780",
   "metadata": {
    "slideshow": {
     "slide_type": "slide"
    }
   },
   "source": [
    "### Solution"
   ]
  },
  {
   "cell_type": "code",
   "execution_count": 116,
   "id": "a6556f26",
   "metadata": {
    "slideshow": {
     "slide_type": "-"
    }
   },
   "outputs": [
    {
     "data": {
      "text/html": [
       "<div>\n",
       "<style scoped>\n",
       "    .dataframe tbody tr th:only-of-type {\n",
       "        vertical-align: middle;\n",
       "    }\n",
       "\n",
       "    .dataframe tbody tr th {\n",
       "        vertical-align: top;\n",
       "    }\n",
       "\n",
       "    .dataframe thead th {\n",
       "        text-align: right;\n",
       "    }\n",
       "</style>\n",
       "<table border=\"1\" class=\"dataframe\">\n",
       "  <thead>\n",
       "    <tr style=\"text-align: right;\">\n",
       "      <th></th>\n",
       "      <th>longitude</th>\n",
       "      <th>latitude</th>\n",
       "      <th>housing_median_age</th>\n",
       "      <th>total_rooms</th>\n",
       "      <th>total_bedrooms</th>\n",
       "      <th>population</th>\n",
       "      <th>households</th>\n",
       "      <th>median_income</th>\n",
       "      <th>median_house_value</th>\n",
       "      <th>ocean_proximity</th>\n",
       "      <th>pop_per_household</th>\n",
       "      <th>bedrooms_per_household</th>\n",
       "    </tr>\n",
       "  </thead>\n",
       "  <tbody>\n",
       "    <tr>\n",
       "      <th>0</th>\n",
       "      <td>-122.23</td>\n",
       "      <td>37.88</td>\n",
       "      <td>41.0</td>\n",
       "      <td>880.0</td>\n",
       "      <td>129.0</td>\n",
       "      <td>322.0</td>\n",
       "      <td>126.0</td>\n",
       "      <td>8.3252</td>\n",
       "      <td>452600.0</td>\n",
       "      <td>NEAR BAY</td>\n",
       "      <td>2.555556</td>\n",
       "      <td>1.02381</td>\n",
       "    </tr>\n",
       "    <tr>\n",
       "      <th>1</th>\n",
       "      <td>-122.22</td>\n",
       "      <td>37.86</td>\n",
       "      <td>21.0</td>\n",
       "      <td>7099.0</td>\n",
       "      <td>1106.0</td>\n",
       "      <td>2401.0</td>\n",
       "      <td>1138.0</td>\n",
       "      <td>8.3014</td>\n",
       "      <td>358500.0</td>\n",
       "      <td>NEAR BAY</td>\n",
       "      <td>2.109842</td>\n",
       "      <td>0.97188</td>\n",
       "    </tr>\n",
       "  </tbody>\n",
       "</table>\n",
       "</div>"
      ],
      "text/plain": [
       "   longitude  latitude  housing_median_age  total_rooms  total_bedrooms  \\\n",
       "0    -122.23     37.88                41.0        880.0           129.0   \n",
       "1    -122.22     37.86                21.0       7099.0          1106.0   \n",
       "\n",
       "   population  households  median_income  median_house_value ocean_proximity  \\\n",
       "0       322.0       126.0         8.3252            452600.0        NEAR BAY   \n",
       "1      2401.0      1138.0         8.3014            358500.0        NEAR BAY   \n",
       "\n",
       "   pop_per_household  bedrooms_per_household  \n",
       "0           2.555556                 1.02381  \n",
       "1           2.109842                 0.97188  "
      ]
     },
     "execution_count": 116,
     "metadata": {},
     "output_type": "execute_result"
    }
   ],
   "source": [
    "df_housing['pop_per_household'] = df_housing['population'] / df_housing['households']\n",
    "df_housing.head(2)"
   ]
  },
  {
   "cell_type": "markdown",
   "id": "a7a9a5bd",
   "metadata": {
    "slideshow": {
     "slide_type": "slide"
    }
   },
   "source": [
    "## Conclusion\n",
    "\n",
    "This concludes our second lecture on `pandas`. Now you know:\n",
    "\n",
    "- How to read in a `.csv` file with `read_csv`.  \n",
    "- How to calculate basic descriptive statistics with `pandas`.  \n",
    "- How to sort a `DataFrame` and create a new column."
   ]
  }
 ],
 "metadata": {
  "celltoolbar": "Slideshow",
  "kernelspec": {
   "display_name": "Python 3 (ipykernel)",
   "language": "python",
   "name": "python3"
  },
  "language_info": {
   "codemirror_mode": {
    "name": "ipython",
    "version": 3
   },
   "file_extension": ".py",
   "mimetype": "text/x-python",
   "name": "python",
   "nbconvert_exporter": "python",
   "pygments_lexer": "ipython3",
   "version": "3.9.12"
  }
 },
 "nbformat": 4,
 "nbformat_minor": 5
}
