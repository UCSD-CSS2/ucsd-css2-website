{
 "cells": [
  {
   "cell_type": "code",
   "execution_count": null,
   "id": "d488f152",
   "metadata": {},
   "outputs": [],
   "source": []
  },
  {
   "cell_type": "code",
   "execution_count": null,
   "id": "aeb1fe8d",
   "metadata": {},
   "outputs": [],
   "source": []
  },
  {
   "cell_type": "code",
   "execution_count": null,
   "id": "4a5b124a",
   "metadata": {},
   "outputs": [],
   "source": []
  },
  {
   "cell_type": "markdown",
   "id": "4573cf39",
   "metadata": {},
   "source": [
    "Simple tasks: https://ucsd-css-001.github.io/lectures/P07-Pandas.html#solving-simple-tasks-examples\n",
    "\n",
    "\n",
    "To cover (pt. 3, advanced):\n",
    "\n",
    "- Filtering a dataframe with a conditional statement.\n",
    "- Using `groupby` \n",
    "- Using `apply`\n",
    "- Identifying `nan` values."
   ]
  },
  {
   "cell_type": "code",
   "execution_count": null,
   "id": "c907be09",
   "metadata": {},
   "outputs": [],
   "source": []
  }
 ],
 "metadata": {
  "kernelspec": {
   "display_name": "Python 3 (ipykernel)",
   "language": "python",
   "name": "python3"
  },
  "language_info": {
   "codemirror_mode": {
    "name": "ipython",
    "version": 3
   },
   "file_extension": ".py",
   "mimetype": "text/x-python",
   "name": "python",
   "nbconvert_exporter": "python",
   "pygments_lexer": "ipython3",
   "version": "3.9.12"
  }
 },
 "nbformat": 4,
 "nbformat_minor": 5
}
