{
 "cells": [
  {
   "cell_type": "markdown",
   "id": "565fd595",
   "metadata": {
    "slideshow": {
     "slide_type": "slide"
    }
   },
   "source": [
    "# Linear regression in Python"
   ]
  },
  {
   "cell_type": "markdown",
   "id": "0e698b4b",
   "metadata": {
    "slideshow": {
     "slide_type": "slide"
    }
   },
   "source": [
    "## Goals of this lecture\n",
    "\n",
    "- Implementing linear regression in `statsmodels`.  \n",
    "- Interpreting model summaries:\n",
    "   - Interpreting *coefficients* for **continuous** data.  \n",
    "   - Interpreting *coefficients* for **categorical** data.  \n",
    "- Extracing mdoel **predictions**.\n",
    "- Basic model evaluation: $R^2$.  \n"
   ]
  },
  {
   "cell_type": "markdown",
   "id": "52fa3450",
   "metadata": {
    "slideshow": {
     "slide_type": "skip"
    }
   },
   "source": [
    "##### Libraries"
   ]
  },
  {
   "cell_type": "code",
   "execution_count": 1,
   "id": "cc9e5aa0",
   "metadata": {
    "slideshow": {
     "slide_type": "skip"
    }
   },
   "outputs": [
    {
     "name": "stderr",
     "output_type": "stream",
     "text": [
      "/opt/anaconda3/lib/python3.9/site-packages/scipy/__init__.py:146: UserWarning: A NumPy version >=1.16.5 and <1.23.0 is required for this version of SciPy (detected version 1.23.1\n",
      "  warnings.warn(f\"A NumPy version >={np_minversion} and <{np_maxversion}\"\n"
     ]
    }
   ],
   "source": [
    "## Imports\n",
    "import pandas as pd\n",
    "import numpy as np\n",
    "import matplotlib.pyplot as plt\n",
    "import statsmodels.api as sm\n",
    "import statsmodels.formula.api as smf\n",
    "import seaborn as sns\n",
    "import scipy.stats as ss"
   ]
  },
  {
   "cell_type": "code",
   "execution_count": 2,
   "id": "23f12fbc",
   "metadata": {
    "slideshow": {
     "slide_type": "skip"
    }
   },
   "outputs": [],
   "source": [
    "%matplotlib inline\n",
    "%config InlineBackend.figure_format = 'retina'  # makes figs nicer!"
   ]
  },
  {
   "cell_type": "markdown",
   "id": "59ec0fe4",
   "metadata": {
    "slideshow": {
     "slide_type": "slide"
    }
   },
   "source": [
    "## Regression in Python\n",
    "\n",
    "There are many packages for implementing **linear regression** in Python, but we'll be focusing on [`statsmodels`](https://www.statsmodels.org/stable/index.html)."
   ]
  },
  {
   "cell_type": "markdown",
   "id": "89424277",
   "metadata": {
    "slideshow": {
     "slide_type": "slide"
    }
   },
   "source": [
    "### Loading our first dataset"
   ]
  },
  {
   "cell_type": "code",
   "execution_count": 7,
   "id": "a1633468",
   "metadata": {
    "slideshow": {
     "slide_type": "-"
    }
   },
   "outputs": [
    {
     "data": {
      "text/html": [
       "<div>\n",
       "<style scoped>\n",
       "    .dataframe tbody tr th:only-of-type {\n",
       "        vertical-align: middle;\n",
       "    }\n",
       "\n",
       "    .dataframe tbody tr th {\n",
       "        vertical-align: top;\n",
       "    }\n",
       "\n",
       "    .dataframe thead th {\n",
       "        text-align: right;\n",
       "    }\n",
       "</style>\n",
       "<table border=\"1\" class=\"dataframe\">\n",
       "  <thead>\n",
       "    <tr style=\"text-align: right;\">\n",
       "      <th></th>\n",
       "      <th>Education</th>\n",
       "      <th>Seniority</th>\n",
       "      <th>Income</th>\n",
       "    </tr>\n",
       "  </thead>\n",
       "  <tbody>\n",
       "    <tr>\n",
       "      <th>0</th>\n",
       "      <td>21.586207</td>\n",
       "      <td>113.103448</td>\n",
       "      <td>99.917173</td>\n",
       "    </tr>\n",
       "    <tr>\n",
       "      <th>1</th>\n",
       "      <td>18.275862</td>\n",
       "      <td>119.310345</td>\n",
       "      <td>92.579135</td>\n",
       "    </tr>\n",
       "    <tr>\n",
       "      <th>2</th>\n",
       "      <td>12.068966</td>\n",
       "      <td>100.689655</td>\n",
       "      <td>34.678727</td>\n",
       "    </tr>\n",
       "  </tbody>\n",
       "</table>\n",
       "</div>"
      ],
      "text/plain": [
       "   Education   Seniority     Income\n",
       "0  21.586207  113.103448  99.917173\n",
       "1  18.275862  119.310345  92.579135\n",
       "2  12.068966  100.689655  34.678727"
      ]
     },
     "execution_count": 7,
     "metadata": {},
     "output_type": "execute_result"
    }
   ],
   "source": [
    "df_income = pd.read_csv(\"data/models/income.csv\")\n",
    "df_income.head(3)"
   ]
  },
  {
   "cell_type": "markdown",
   "id": "f72ef247",
   "metadata": {
    "slideshow": {
     "slide_type": "slide"
    }
   },
   "source": [
    "### Exploratory visualization\n",
    "\n",
    "Does `Education` correlate with `Income`?"
   ]
  },
  {
   "cell_type": "code",
   "execution_count": 10,
   "id": "f8051a3a",
   "metadata": {},
   "outputs": [
    {
     "data": {
      "text/plain": [
       "<AxesSubplot:xlabel='Education', ylabel='Income'>"
      ]
     },
     "execution_count": 10,
     "metadata": {},
     "output_type": "execute_result"
    },
    {
     "data": {
      "image/png": "[encoded data removed]",
      "text/plain": [
       "<Figure size 432x288 with 1 Axes>"
      ]
     },
     "metadata": {
      "image/png": {
       "height": 261,
       "width": 390
      },
      "needs_background": "light"
     },
     "output_type": "display_data"
    }
   ],
   "source": [
    "sns.scatterplot(data = df_income, x = \"Education\", y = \"Income\")"
   ]
  },
  {
   "cell_type": "markdown",
   "id": "0f36cba6",
   "metadata": {
    "slideshow": {
     "slide_type": "slide"
    }
   },
   "source": [
    "### Building a regression model\n",
    "\n",
    "We can build a regression model using [`statsmodels.formula.api.ols`](https://www.statsmodels.org/dev/generated/statsmodels.formula.api.ols.html), here imported as `smf`.\n",
    "\n",
    "```python\n",
    "smf.ols(data = df_name, formula = \"Y ~ X\").fit()\n",
    "```"
   ]
  },
  {
   "cell_type": "code",
   "execution_count": 12,
   "id": "0e32d29c",
   "metadata": {
    "slideshow": {
     "slide_type": "-"
    }
   },
   "outputs": [
    {
     "data": {
      "text/plain": [
       "statsmodels.regression.linear_model.RegressionResultsWrapper"
      ]
     },
     "execution_count": 12,
     "metadata": {},
     "output_type": "execute_result"
    }
   ],
   "source": [
    "mod = smf.ols(data = df_income, formula = \"Income ~ Education\").fit()\n",
    "type(mod)"
   ]
  },
  {
   "cell_type": "markdown",
   "id": "1a3835c7",
   "metadata": {
    "slideshow": {
     "slide_type": "slide"
    }
   },
   "source": [
    "#### Inspecting output"
   ]
  },
  {
   "cell_type": "code",
   "execution_count": 18,
   "id": "4d4c89ce",
   "metadata": {
    "slideshow": {
     "slide_type": "-"
    }
   },
   "outputs": [
    {
     "data": {
      "text/html": [
       "<table class=\"simpletable\">\n",
       "<caption>OLS Regression Results</caption>\n",
       "<tr>\n",
       "  <th>Dep. Variable:</th>         <td>Income</td>      <th>  R-squared:         </th> <td>   0.812</td>\n",
       "</tr>\n",
       "<tr>\n",
       "  <th>Model:</th>                   <td>OLS</td>       <th>  Adj. R-squared:    </th> <td>   0.805</td>\n",
       "</tr>\n",
       "<tr>\n",
       "  <th>Method:</th>             <td>Least Squares</td>  <th>  F-statistic:       </th> <td>   120.8</td>\n",
       "</tr>\n",
       "<tr>\n",
       "  <th>Date:</th>             <td>Tue, 07 Feb 2023</td> <th>  Prob (F-statistic):</th> <td>1.15e-11</td>\n",
       "</tr>\n",
       "<tr>\n",
       "  <th>Time:</th>                 <td>14:55:27</td>     <th>  Log-Likelihood:    </th> <td> -115.90</td>\n",
       "</tr>\n",
       "<tr>\n",
       "  <th>No. Observations:</th>      <td>    30</td>      <th>  AIC:               </th> <td>   235.8</td>\n",
       "</tr>\n",
       "<tr>\n",
       "  <th>Df Residuals:</th>          <td>    28</td>      <th>  BIC:               </th> <td>   238.6</td>\n",
       "</tr>\n",
       "<tr>\n",
       "  <th>Df Model:</th>              <td>     1</td>      <th>                     </th>     <td> </td>   \n",
       "</tr>\n",
       "<tr>\n",
       "  <th>Covariance Type:</th>      <td>nonrobust</td>    <th>                     </th>     <td> </td>   \n",
       "</tr>\n",
       "</table>\n",
       "<table class=\"simpletable\">\n",
       "<tr>\n",
       "      <td></td>         <th>coef</th>     <th>std err</th>      <th>t</th>      <th>P>|t|</th>  <th>[0.025</th>    <th>0.975]</th>  \n",
       "</tr>\n",
       "<tr>\n",
       "  <th>Intercept</th> <td>  -41.9166</td> <td>    9.769</td> <td>   -4.291</td> <td> 0.000</td> <td>  -61.927</td> <td>  -21.906</td>\n",
       "</tr>\n",
       "<tr>\n",
       "  <th>Education</th> <td>    6.3872</td> <td>    0.581</td> <td>   10.990</td> <td> 0.000</td> <td>    5.197</td> <td>    7.578</td>\n",
       "</tr>\n",
       "</table>\n",
       "<table class=\"simpletable\">\n",
       "<tr>\n",
       "  <th>Omnibus:</th>       <td> 0.561</td> <th>  Durbin-Watson:     </th> <td>   2.194</td>\n",
       "</tr>\n",
       "<tr>\n",
       "  <th>Prob(Omnibus):</th> <td> 0.756</td> <th>  Jarque-Bera (JB):  </th> <td>   0.652</td>\n",
       "</tr>\n",
       "<tr>\n",
       "  <th>Skew:</th>          <td> 0.140</td> <th>  Prob(JB):          </th> <td>   0.722</td>\n",
       "</tr>\n",
       "<tr>\n",
       "  <th>Kurtosis:</th>      <td> 2.335</td> <th>  Cond. No.          </th> <td>    75.7</td>\n",
       "</tr>\n",
       "</table><br/><br/>Notes:<br/>[1] Standard Errors assume that the covariance matrix of the errors is correctly specified."
      ],
      "text/plain": [
       "<class 'statsmodels.iolib.summary.Summary'>\n",
       "\"\"\"\n",
       "                            OLS Regression Results                            \n",
       "==============================================================================\n",
       "Dep. Variable:                 Income   R-squared:                       0.812\n",
       "Model:                            OLS   Adj. R-squared:                  0.805\n",
       "Method:                 Least Squares   F-statistic:                     120.8\n",
       "Date:                Tue, 07 Feb 2023   Prob (F-statistic):           1.15e-11\n",
       "Time:                        14:55:27   Log-Likelihood:                -115.90\n",
       "No. Observations:                  30   AIC:                             235.8\n",
       "Df Residuals:                      28   BIC:                             238.6\n",
       "Df Model:                           1                                         \n",
       "Covariance Type:            nonrobust                                         \n",
       "==============================================================================\n",
       "                 coef    std err          t      P>|t|      [0.025      0.975]\n",
       "------------------------------------------------------------------------------\n",
       "Intercept    -41.9166      9.769     -4.291      0.000     -61.927     -21.906\n",
       "Education      6.3872      0.581     10.990      0.000       5.197       7.578\n",
       "==============================================================================\n",
       "Omnibus:                        0.561   Durbin-Watson:                   2.194\n",
       "Prob(Omnibus):                  0.756   Jarque-Bera (JB):                0.652\n",
       "Skew:                           0.140   Prob(JB):                        0.722\n",
       "Kurtosis:                       2.335   Cond. No.                         75.7\n",
       "==============================================================================\n",
       "\n",
       "Notes:\n",
       "[1] Standard Errors assume that the covariance matrix of the errors is correctly specified.\n",
       "\"\"\""
      ]
     },
     "execution_count": 18,
     "metadata": {},
     "output_type": "execute_result"
    }
   ],
   "source": [
    "mod.summary() ### Lots of stuff here!"
   ]
  },
  {
   "cell_type": "markdown",
   "id": "185b467d",
   "metadata": {
    "slideshow": {
     "slide_type": "slide"
    }
   },
   "source": [
    "#### Extracing specific information"
   ]
  },
  {
   "cell_type": "code",
   "execution_count": 25,
   "id": "fbdddaa9",
   "metadata": {
    "slideshow": {
     "slide_type": "-"
    }
   },
   "outputs": [
    {
     "data": {
      "text/plain": [
       "Intercept   -41.916612\n",
       "Education     6.387161\n",
       "dtype: float64"
      ]
     },
     "execution_count": 25,
     "metadata": {},
     "output_type": "execute_result"
    }
   ],
   "source": [
    "## coefficients\n",
    "mod.params"
   ]
  },
  {
   "cell_type": "code",
   "execution_count": 26,
   "id": "8840119c",
   "metadata": {
    "slideshow": {
     "slide_type": "-"
    }
   },
   "outputs": [
    {
     "data": {
      "text/plain": [
       "Intercept    9.768949\n",
       "Education    0.581172\n",
       "dtype: float64"
      ]
     },
     "execution_count": 26,
     "metadata": {},
     "output_type": "execute_result"
    }
   ],
   "source": [
    "## standard errors\n",
    "mod.bse"
   ]
  },
  {
   "cell_type": "code",
   "execution_count": 28,
   "id": "7848964a",
   "metadata": {
    "slideshow": {
     "slide_type": "-"
    }
   },
   "outputs": [
    {
     "data": {
      "text/plain": [
       "Intercept    1.918257e-04\n",
       "Education    1.150567e-11\n",
       "dtype: float64"
      ]
     },
     "execution_count": 28,
     "metadata": {},
     "output_type": "execute_result"
    }
   ],
   "source": [
    "## p-values for coefficients\n",
    "mod.pvalues"
   ]
  },
  {
   "cell_type": "markdown",
   "id": "17f2e935",
   "metadata": {
    "slideshow": {
     "slide_type": "slide"
    }
   },
   "source": [
    "## Interpreting our model"
   ]
  },
  {
   "cell_type": "markdown",
   "id": "e7565924",
   "metadata": {
    "slideshow": {
     "slide_type": "slide"
    }
   },
   "source": [
    "### The linear equation\n",
    "\n",
    "Recall that the linear equation is written:\n",
    "\n",
    "$Y = \\beta_0 + \\beta_1 * X_1 + \\epsilon$\n",
    "\n",
    "How would these terms **map onto** the coefficients below?"
   ]
  },
  {
   "cell_type": "code",
   "execution_count": 33,
   "id": "7b2367ae",
   "metadata": {},
   "outputs": [
    {
     "data": {
      "text/plain": [
       "Intercept   -41.916612\n",
       "Education     6.387161\n",
       "dtype: float64"
      ]
     },
     "execution_count": 33,
     "metadata": {},
     "output_type": "execute_result"
    }
   ],
   "source": [
    "## Coefficients\n",
    "mod.params"
   ]
  },
  {
   "cell_type": "markdown",
   "id": "26d09cb0",
   "metadata": {
    "slideshow": {
     "slide_type": "slide"
    }
   },
   "source": [
    "#### Rewriting the linear equation\n",
    "\n",
    "We can *insert* our coefficients into the equation.\n",
    "\n",
    "$Y = -41.92 + 6.39 * X_1 + \\epsilon$\n",
    "\n",
    "Which can then be used to generate a prediction for a given value of $X$."
   ]
  },
  {
   "cell_type": "code",
   "execution_count": 34,
   "id": "752bf6bd",
   "metadata": {},
   "outputs": [
    {
     "name": "stdout",
     "output_type": "stream",
     "text": [
      "85.88\n"
     ]
    }
   ],
   "source": [
    "x = 20\n",
    "y = -41.92 + 6.39 * x\n",
    "print(y) ### our predicted value of Y, given X!"
   ]
  },
  {
   "cell_type": "markdown",
   "id": "9872fdaf",
   "metadata": {
    "slideshow": {
     "slide_type": "slide"
    }
   },
   "source": [
    "#### Check-in\n",
    "\n",
    "Write a function called `predict_y(x)` which takes in a value `x` and outputs a prediction based on these learned coefficients."
   ]
  },
  {
   "cell_type": "code",
   "execution_count": 35,
   "id": "ac1726c5",
   "metadata": {
    "slideshow": {
     "slide_type": "-"
    }
   },
   "outputs": [],
   "source": [
    "### Your code here"
   ]
  },
  {
   "cell_type": "markdown",
   "id": "4f71e16e",
   "metadata": {
    "slideshow": {
     "slide_type": "slide"
    }
   },
   "source": [
    "#### Solution"
   ]
  },
  {
   "cell_type": "code",
   "execution_count": 36,
   "id": "9aa89674",
   "metadata": {
    "slideshow": {
     "slide_type": "-"
    }
   },
   "outputs": [],
   "source": [
    "def predict_y(x):\n",
    "    return -41.92 + 6.39 * x"
   ]
  },
  {
   "cell_type": "code",
   "execution_count": 41,
   "id": "9ca3bf95",
   "metadata": {
    "slideshow": {
     "slide_type": "-"
    }
   },
   "outputs": [
    {
     "data": {
      "text/plain": [
       "21.979999999999997"
      ]
     },
     "execution_count": 41,
     "metadata": {},
     "output_type": "execute_result"
    }
   ],
   "source": [
    "predict_y(10)"
   ]
  },
  {
   "cell_type": "code",
   "execution_count": 42,
   "id": "ebb3176c",
   "metadata": {
    "slideshow": {
     "slide_type": "-"
    }
   },
   "outputs": [
    {
     "data": {
      "text/plain": [
       "149.77999999999997"
      ]
     },
     "execution_count": 42,
     "metadata": {},
     "output_type": "execute_result"
    }
   ],
   "source": [
    "predict_y(30)"
   ]
  },
  {
   "cell_type": "markdown",
   "id": "f4f3f750",
   "metadata": {
    "slideshow": {
     "slide_type": "slide"
    }
   },
   "source": [
    "### Understanding the *intercept*\n",
    "\n",
    "> The **intercept** term ($\\beta_0$) is the predicted value of $\\hat{Y}$ when $X = 0$.\n",
    "\n",
    "What does this `Intercept` value mean here?"
   ]
  },
  {
   "cell_type": "code",
   "execution_count": 43,
   "id": "f3a90872",
   "metadata": {
    "slideshow": {
     "slide_type": "-"
    }
   },
   "outputs": [
    {
     "data": {
      "text/plain": [
       "Intercept   -41.916612\n",
       "Education     6.387161\n",
       "dtype: float64"
      ]
     },
     "execution_count": 43,
     "metadata": {},
     "output_type": "execute_result"
    }
   ],
   "source": [
    "## Coefficients\n",
    "mod.params"
   ]
  },
  {
   "cell_type": "markdown",
   "id": "768fbb77",
   "metadata": {
    "slideshow": {
     "slide_type": "slide"
    }
   },
   "source": [
    "#### The intercept and the linear equation\n",
    "\n",
    "If $X = 0$, the linear equation reduces to:\n",
    "\n",
    "$Y = -41.92 + \\epsilon$\n"
   ]
  },
  {
   "cell_type": "code",
   "execution_count": 46,
   "id": "57321217",
   "metadata": {
    "slideshow": {
     "slide_type": "-"
    }
   },
   "outputs": [
    {
     "data": {
      "text/plain": [
       "-41.92"
      ]
     },
     "execution_count": 46,
     "metadata": {},
     "output_type": "execute_result"
    }
   ],
   "source": [
    "predict_y(0) ### predicted value when x = 0"
   ]
  },
  {
   "cell_type": "markdown",
   "id": "332ad301",
   "metadata": {
    "slideshow": {
     "slide_type": "slide"
    }
   },
   "source": [
    "### Understanding the *slope*\n",
    "\n",
    "> For a **continuous** variable, the *slope* is the predicted change in $Y$ for every 1-unit change in $X$.\n",
    "\n",
    "What does this *slope* term mean here?"
   ]
  },
  {
   "cell_type": "code",
   "execution_count": 47,
   "id": "7aae42d1",
   "metadata": {
    "slideshow": {
     "slide_type": "-"
    }
   },
   "outputs": [
    {
     "data": {
      "text/plain": [
       "Intercept   -41.916612\n",
       "Education     6.387161\n",
       "dtype: float64"
      ]
     },
     "execution_count": 47,
     "metadata": {},
     "output_type": "execute_result"
    }
   ],
   "source": [
    "## Coefficients\n",
    "mod.params"
   ]
  },
  {
   "cell_type": "markdown",
   "id": "617ca5e5",
   "metadata": {
    "slideshow": {
     "slide_type": "slide"
    }
   },
   "source": [
    "### Check-in: more practice with `statsmodels`\n",
    "\n",
    "Build a regression model predicting `Income` from `Seniority`. What are the `params`? What do they mean?"
   ]
  },
  {
   "cell_type": "code",
   "execution_count": 48,
   "id": "db6ec0f4",
   "metadata": {},
   "outputs": [],
   "source": [
    "### Your code here"
   ]
  },
  {
   "cell_type": "markdown",
   "id": "9e43fb4b",
   "metadata": {
    "slideshow": {
     "slide_type": "slide"
    }
   },
   "source": [
    "#### Solution"
   ]
  },
  {
   "cell_type": "code",
   "execution_count": 60,
   "id": "86e85ca7",
   "metadata": {},
   "outputs": [
    {
     "data": {
      "text/plain": [
       "Intercept    39.158326\n",
       "Seniority     0.251288\n",
       "dtype: float64"
      ]
     },
     "execution_count": 60,
     "metadata": {},
     "output_type": "execute_result"
    }
   ],
   "source": [
    "mod_seniority = smf.ols(data = df_income, formula = \"Income ~ Seniority\").fit()\n",
    "mod_seniority.params"
   ]
  },
  {
   "cell_type": "code",
   "execution_count": null,
   "id": "25e65cc3",
   "metadata": {},
   "outputs": [],
   "source": []
  },
  {
   "cell_type": "code",
   "execution_count": null,
   "id": "fd654f3d",
   "metadata": {},
   "outputs": [],
   "source": []
  },
  {
   "cell_type": "markdown",
   "id": "d80bced9",
   "metadata": {},
   "source": [
    "\n",
    "- Fitting and interpreting linear models.\n",
    "   - Interpreting intercept.\n",
    "   - Interpreting slopes.\n",
    "      - Categorical predictors.\n",
    "      - Continuous predictors.\n",
    "   - Use *lots* of examples."
   ]
  },
  {
   "cell_type": "markdown",
   "id": "60885e08",
   "metadata": {},
   "source": [
    "Outline for lecture 2:\n",
    "\n",
    "\n",
    "- Other information the model gives us:\n",
    "   - Standard errors for coefficients.\n",
    "   - p-values for coefficients.\n",
    "   - $R^2$.  \n",
    "- Extracting *predictions* from the model.\n",
    "- Measuring model **error**, and returning to *assumptions*.  \n",
    "   - Standard error of the estimate.\n",
    "   - Normality of residuals.\n",
    "   - Homoscedasticity."
   ]
  },
  {
   "cell_type": "code",
   "execution_count": null,
   "id": "fe2a3238",
   "metadata": {},
   "outputs": [],
   "source": []
  }
 ],
 "metadata": {
  "celltoolbar": "Slideshow",
  "kernelspec": {
   "display_name": "Python 3 (ipykernel)",
   "language": "python",
   "name": "python3"
  },
  "language_info": {
   "codemirror_mode": {
    "name": "ipython",
    "version": 3
   },
   "file_extension": ".py",
   "mimetype": "text/x-python",
   "name": "python",
   "nbconvert_exporter": "python",
   "pygments_lexer": "ipython3",
   "version": "3.9.12"
  }
 },
 "nbformat": 4,
 "nbformat_minor": 5
}
