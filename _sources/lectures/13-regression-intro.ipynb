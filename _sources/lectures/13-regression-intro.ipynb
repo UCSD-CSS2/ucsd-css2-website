{
 "cells": [
  {
   "cell_type": "markdown",
   "id": "565fd595",
   "metadata": {
    "slideshow": {
     "slide_type": "slide"
    }
   },
   "source": [
    "# Linear regression in Python"
   ]
  },
  {
   "cell_type": "markdown",
   "id": "0e698b4b",
   "metadata": {
    "slideshow": {
     "slide_type": "slide"
    }
   },
   "source": [
    "## Goals of this lecture\n",
    "\n",
    "- Implementing linear regression in `statsmodels`.  \n",
    "- Interpreting model summaries:\n",
    "   - Interpreting *coefficients* for **continuous** data.  \n",
    "   - Interpreting *coefficients* for **categorical** data.  "
   ]
  },
  {
   "cell_type": "markdown",
   "id": "52fa3450",
   "metadata": {
    "slideshow": {
     "slide_type": "skip"
    }
   },
   "source": [
    "##### Libraries"
   ]
  },
  {
   "cell_type": "code",
   "execution_count": 1,
   "id": "cc9e5aa0",
   "metadata": {
    "slideshow": {
     "slide_type": "skip"
    }
   },
   "outputs": [
    {
     "name": "stderr",
     "output_type": "stream",
     "text": [
      "/opt/anaconda3/lib/python3.9/site-packages/scipy/__init__.py:146: UserWarning: A NumPy version >=1.16.5 and <1.23.0 is required for this version of SciPy (detected version 1.23.1\n",
      "  warnings.warn(f\"A NumPy version >={np_minversion} and <{np_maxversion}\"\n"
     ]
    }
   ],
   "source": [
    "## Imports\n",
    "import pandas as pd\n",
    "import numpy as np\n",
    "import matplotlib.pyplot as plt\n",
    "import statsmodels.api as sm\n",
    "import statsmodels.formula.api as smf\n",
    "import seaborn as sns\n",
    "import scipy.stats as ss"
   ]
  },
  {
   "cell_type": "code",
   "execution_count": 2,
   "id": "23f12fbc",
   "metadata": {
    "slideshow": {
     "slide_type": "skip"
    }
   },
   "outputs": [],
   "source": [
    "%matplotlib inline\n",
    "%config InlineBackend.figure_format = 'retina'  # makes figs nicer!"
   ]
  },
  {
   "cell_type": "markdown",
   "id": "59ec0fe4",
   "metadata": {
    "slideshow": {
     "slide_type": "slide"
    }
   },
   "source": [
    "## Regression in Python\n",
    "\n",
    "There are many packages for implementing **linear regression** in Python, but we'll be focusing on [`statsmodels`](https://www.statsmodels.org/stable/index.html)."
   ]
  },
  {
   "cell_type": "markdown",
   "id": "89424277",
   "metadata": {
    "slideshow": {
     "slide_type": "slide"
    }
   },
   "source": [
    "### Loading our first dataset"
   ]
  },
  {
   "cell_type": "code",
   "execution_count": 3,
   "id": "a1633468",
   "metadata": {
    "slideshow": {
     "slide_type": "-"
    }
   },
   "outputs": [
    {
     "data": {
      "text/html": [
       "<div>\n",
       "<style scoped>\n",
       "    .dataframe tbody tr th:only-of-type {\n",
       "        vertical-align: middle;\n",
       "    }\n",
       "\n",
       "    .dataframe tbody tr th {\n",
       "        vertical-align: top;\n",
       "    }\n",
       "\n",
       "    .dataframe thead th {\n",
       "        text-align: right;\n",
       "    }\n",
       "</style>\n",
       "<table border=\"1\" class=\"dataframe\">\n",
       "  <thead>\n",
       "    <tr style=\"text-align: right;\">\n",
       "      <th></th>\n",
       "      <th>Education</th>\n",
       "      <th>Seniority</th>\n",
       "      <th>Income</th>\n",
       "    </tr>\n",
       "  </thead>\n",
       "  <tbody>\n",
       "    <tr>\n",
       "      <th>0</th>\n",
       "      <td>21.586207</td>\n",
       "      <td>113.103448</td>\n",
       "      <td>99.917173</td>\n",
       "    </tr>\n",
       "    <tr>\n",
       "      <th>1</th>\n",
       "      <td>18.275862</td>\n",
       "      <td>119.310345</td>\n",
       "      <td>92.579135</td>\n",
       "    </tr>\n",
       "    <tr>\n",
       "      <th>2</th>\n",
       "      <td>12.068966</td>\n",
       "      <td>100.689655</td>\n",
       "      <td>34.678727</td>\n",
       "    </tr>\n",
       "  </tbody>\n",
       "</table>\n",
       "</div>"
      ],
      "text/plain": [
       "   Education   Seniority     Income\n",
       "0  21.586207  113.103448  99.917173\n",
       "1  18.275862  119.310345  92.579135\n",
       "2  12.068966  100.689655  34.678727"
      ]
     },
     "execution_count": 3,
     "metadata": {},
     "output_type": "execute_result"
    }
   ],
   "source": [
    "df_income = pd.read_csv(\"data/models/income.csv\")\n",
    "df_income.head(3)"
   ]
  },
  {
   "cell_type": "markdown",
   "id": "f72ef247",
   "metadata": {
    "slideshow": {
     "slide_type": "slide"
    }
   },
   "source": [
    "### Exploratory visualization\n",
    "\n",
    "Does `Education` correlate with `Income`?"
   ]
  },
  {
   "cell_type": "code",
   "execution_count": 4,
   "id": "f8051a3a",
   "metadata": {},
   "outputs": [
    {
     "data": {
      "text/plain": [
       "<AxesSubplot:xlabel='Education', ylabel='Income'>"
      ]
     },
     "execution_count": 4,
     "metadata": {},
     "output_type": "execute_result"
    },
    {
     "data": {
      "image/png": "[encoded data removed]",
      "text/plain": [
       "<Figure size 432x288 with 1 Axes>"
      ]
     },
     "metadata": {
      "image/png": {
       "height": 261,
       "width": 390
      },
      "needs_background": "light"
     },
     "output_type": "display_data"
    }
   ],
   "source": [
    "sns.scatterplot(data = df_income, x = \"Education\", y = \"Income\")"
   ]
  },
  {
   "cell_type": "markdown",
   "id": "0f36cba6",
   "metadata": {
    "slideshow": {
     "slide_type": "slide"
    }
   },
   "source": [
    "### Building a regression model\n",
    "\n",
    "We can build a regression model using [`statsmodels.formula.api.ols`](https://www.statsmodels.org/dev/generated/statsmodels.formula.api.ols.html), here imported as `smf`.\n",
    "\n",
    "```python\n",
    "smf.ols(data = df_name, formula = \"Y ~ X\").fit()\n",
    "```"
   ]
  },
  {
   "cell_type": "code",
   "execution_count": 5,
   "id": "0e32d29c",
   "metadata": {
    "slideshow": {
     "slide_type": "-"
    }
   },
   "outputs": [
    {
     "data": {
      "text/plain": [
       "statsmodels.regression.linear_model.RegressionResultsWrapper"
      ]
     },
     "execution_count": 5,
     "metadata": {},
     "output_type": "execute_result"
    }
   ],
   "source": [
    "mod = smf.ols(data = df_income, formula = \"Income ~ Education\").fit()\n",
    "type(mod)"
   ]
  },
  {
   "cell_type": "markdown",
   "id": "1a3835c7",
   "metadata": {
    "slideshow": {
     "slide_type": "slide"
    }
   },
   "source": [
    "#### Inspecting output"
   ]
  },
  {
   "cell_type": "code",
   "execution_count": 6,
   "id": "4d4c89ce",
   "metadata": {
    "slideshow": {
     "slide_type": "-"
    }
   },
   "outputs": [
    {
     "data": {
      "text/html": [
       "<table class=\"simpletable\">\n",
       "<caption>OLS Regression Results</caption>\n",
       "<tr>\n",
       "  <th>Dep. Variable:</th>         <td>Income</td>      <th>  R-squared:         </th> <td>   0.812</td>\n",
       "</tr>\n",
       "<tr>\n",
       "  <th>Model:</th>                   <td>OLS</td>       <th>  Adj. R-squared:    </th> <td>   0.805</td>\n",
       "</tr>\n",
       "<tr>\n",
       "  <th>Method:</th>             <td>Least Squares</td>  <th>  F-statistic:       </th> <td>   120.8</td>\n",
       "</tr>\n",
       "<tr>\n",
       "  <th>Date:</th>             <td>Fri, 10 Feb 2023</td> <th>  Prob (F-statistic):</th> <td>1.15e-11</td>\n",
       "</tr>\n",
       "<tr>\n",
       "  <th>Time:</th>                 <td>13:09:06</td>     <th>  Log-Likelihood:    </th> <td> -115.90</td>\n",
       "</tr>\n",
       "<tr>\n",
       "  <th>No. Observations:</th>      <td>    30</td>      <th>  AIC:               </th> <td>   235.8</td>\n",
       "</tr>\n",
       "<tr>\n",
       "  <th>Df Residuals:</th>          <td>    28</td>      <th>  BIC:               </th> <td>   238.6</td>\n",
       "</tr>\n",
       "<tr>\n",
       "  <th>Df Model:</th>              <td>     1</td>      <th>                     </th>     <td> </td>   \n",
       "</tr>\n",
       "<tr>\n",
       "  <th>Covariance Type:</th>      <td>nonrobust</td>    <th>                     </th>     <td> </td>   \n",
       "</tr>\n",
       "</table>\n",
       "<table class=\"simpletable\">\n",
       "<tr>\n",
       "      <td></td>         <th>coef</th>     <th>std err</th>      <th>t</th>      <th>P>|t|</th>  <th>[0.025</th>    <th>0.975]</th>  \n",
       "</tr>\n",
       "<tr>\n",
       "  <th>Intercept</th> <td>  -41.9166</td> <td>    9.769</td> <td>   -4.291</td> <td> 0.000</td> <td>  -61.927</td> <td>  -21.906</td>\n",
       "</tr>\n",
       "<tr>\n",
       "  <th>Education</th> <td>    6.3872</td> <td>    0.581</td> <td>   10.990</td> <td> 0.000</td> <td>    5.197</td> <td>    7.578</td>\n",
       "</tr>\n",
       "</table>\n",
       "<table class=\"simpletable\">\n",
       "<tr>\n",
       "  <th>Omnibus:</th>       <td> 0.561</td> <th>  Durbin-Watson:     </th> <td>   2.194</td>\n",
       "</tr>\n",
       "<tr>\n",
       "  <th>Prob(Omnibus):</th> <td> 0.756</td> <th>  Jarque-Bera (JB):  </th> <td>   0.652</td>\n",
       "</tr>\n",
       "<tr>\n",
       "  <th>Skew:</th>          <td> 0.140</td> <th>  Prob(JB):          </th> <td>   0.722</td>\n",
       "</tr>\n",
       "<tr>\n",
       "  <th>Kurtosis:</th>      <td> 2.335</td> <th>  Cond. No.          </th> <td>    75.7</td>\n",
       "</tr>\n",
       "</table><br/><br/>Notes:<br/>[1] Standard Errors assume that the covariance matrix of the errors is correctly specified."
      ],
      "text/plain": [
       "<class 'statsmodels.iolib.summary.Summary'>\n",
       "\"\"\"\n",
       "                            OLS Regression Results                            \n",
       "==============================================================================\n",
       "Dep. Variable:                 Income   R-squared:                       0.812\n",
       "Model:                            OLS   Adj. R-squared:                  0.805\n",
       "Method:                 Least Squares   F-statistic:                     120.8\n",
       "Date:                Fri, 10 Feb 2023   Prob (F-statistic):           1.15e-11\n",
       "Time:                        13:09:06   Log-Likelihood:                -115.90\n",
       "No. Observations:                  30   AIC:                             235.8\n",
       "Df Residuals:                      28   BIC:                             238.6\n",
       "Df Model:                           1                                         \n",
       "Covariance Type:            nonrobust                                         \n",
       "==============================================================================\n",
       "                 coef    std err          t      P>|t|      [0.025      0.975]\n",
       "------------------------------------------------------------------------------\n",
       "Intercept    -41.9166      9.769     -4.291      0.000     -61.927     -21.906\n",
       "Education      6.3872      0.581     10.990      0.000       5.197       7.578\n",
       "==============================================================================\n",
       "Omnibus:                        0.561   Durbin-Watson:                   2.194\n",
       "Prob(Omnibus):                  0.756   Jarque-Bera (JB):                0.652\n",
       "Skew:                           0.140   Prob(JB):                        0.722\n",
       "Kurtosis:                       2.335   Cond. No.                         75.7\n",
       "==============================================================================\n",
       "\n",
       "Notes:\n",
       "[1] Standard Errors assume that the covariance matrix of the errors is correctly specified.\n",
       "\"\"\""
      ]
     },
     "execution_count": 6,
     "metadata": {},
     "output_type": "execute_result"
    }
   ],
   "source": [
    "mod.summary() ### Lots of stuff here!"
   ]
  },
  {
   "cell_type": "markdown",
   "id": "185b467d",
   "metadata": {
    "slideshow": {
     "slide_type": "slide"
    }
   },
   "source": [
    "#### Extracing specific information"
   ]
  },
  {
   "cell_type": "code",
   "execution_count": 7,
   "id": "fbdddaa9",
   "metadata": {
    "slideshow": {
     "slide_type": "-"
    }
   },
   "outputs": [
    {
     "data": {
      "text/plain": [
       "Intercept   -41.916612\n",
       "Education     6.387161\n",
       "dtype: float64"
      ]
     },
     "execution_count": 7,
     "metadata": {},
     "output_type": "execute_result"
    }
   ],
   "source": [
    "## coefficients\n",
    "mod.params"
   ]
  },
  {
   "cell_type": "code",
   "execution_count": 8,
   "id": "8840119c",
   "metadata": {
    "slideshow": {
     "slide_type": "-"
    }
   },
   "outputs": [
    {
     "data": {
      "text/plain": [
       "Intercept    9.768949\n",
       "Education    0.581172\n",
       "dtype: float64"
      ]
     },
     "execution_count": 8,
     "metadata": {},
     "output_type": "execute_result"
    }
   ],
   "source": [
    "## standard errors\n",
    "mod.bse"
   ]
  },
  {
   "cell_type": "code",
   "execution_count": 9,
   "id": "7848964a",
   "metadata": {
    "slideshow": {
     "slide_type": "-"
    }
   },
   "outputs": [
    {
     "data": {
      "text/plain": [
       "Intercept    1.918257e-04\n",
       "Education    1.150567e-11\n",
       "dtype: float64"
      ]
     },
     "execution_count": 9,
     "metadata": {},
     "output_type": "execute_result"
    }
   ],
   "source": [
    "## p-values for coefficients\n",
    "mod.pvalues"
   ]
  },
  {
   "cell_type": "markdown",
   "id": "17f2e935",
   "metadata": {
    "slideshow": {
     "slide_type": "slide"
    }
   },
   "source": [
    "## Interpreting our model"
   ]
  },
  {
   "cell_type": "markdown",
   "id": "e7565924",
   "metadata": {
    "slideshow": {
     "slide_type": "slide"
    }
   },
   "source": [
    "### The linear equation\n",
    "\n",
    "Recall that the linear equation is written:\n",
    "\n",
    "$Y = \\beta_0 + \\beta_1 * X_1 + \\epsilon$\n",
    "\n",
    "How would these terms **map onto** the coefficients below?"
   ]
  },
  {
   "cell_type": "code",
   "execution_count": 10,
   "id": "7b2367ae",
   "metadata": {},
   "outputs": [
    {
     "data": {
      "text/plain": [
       "Intercept   -41.916612\n",
       "Education     6.387161\n",
       "dtype: float64"
      ]
     },
     "execution_count": 10,
     "metadata": {},
     "output_type": "execute_result"
    }
   ],
   "source": [
    "## Coefficients\n",
    "mod.params"
   ]
  },
  {
   "cell_type": "markdown",
   "id": "26d09cb0",
   "metadata": {
    "slideshow": {
     "slide_type": "slide"
    }
   },
   "source": [
    "#### Rewriting the linear equation\n",
    "\n",
    "We can *insert* our coefficients into the equation.\n",
    "\n",
    "$Y = -41.92 + 6.39 * X_1 + \\epsilon$\n",
    "\n",
    "Which can then be used to generate a prediction for a given value of $X$."
   ]
  },
  {
   "cell_type": "code",
   "execution_count": 11,
   "id": "752bf6bd",
   "metadata": {},
   "outputs": [
    {
     "name": "stdout",
     "output_type": "stream",
     "text": [
      "85.88\n"
     ]
    }
   ],
   "source": [
    "x = 20\n",
    "y = -41.92 + 6.39 * x\n",
    "print(y) ### our predicted value of Y, given X!"
   ]
  },
  {
   "cell_type": "markdown",
   "id": "9872fdaf",
   "metadata": {
    "slideshow": {
     "slide_type": "slide"
    }
   },
   "source": [
    "#### Check-in\n",
    "\n",
    "Write a function called `predict_y(x)` which takes in a value `x` and outputs a prediction based on these learned coefficients."
   ]
  },
  {
   "cell_type": "code",
   "execution_count": 12,
   "id": "ac1726c5",
   "metadata": {
    "slideshow": {
     "slide_type": "-"
    }
   },
   "outputs": [],
   "source": [
    "### Your code here"
   ]
  },
  {
   "cell_type": "markdown",
   "id": "4f71e16e",
   "metadata": {
    "slideshow": {
     "slide_type": "slide"
    }
   },
   "source": [
    "#### Solution"
   ]
  },
  {
   "cell_type": "code",
   "execution_count": 13,
   "id": "9aa89674",
   "metadata": {
    "slideshow": {
     "slide_type": "-"
    }
   },
   "outputs": [],
   "source": [
    "def predict_y(x):\n",
    "    return -41.92 + 6.39 * x"
   ]
  },
  {
   "cell_type": "code",
   "execution_count": 14,
   "id": "9ca3bf95",
   "metadata": {
    "slideshow": {
     "slide_type": "-"
    }
   },
   "outputs": [
    {
     "data": {
      "text/plain": [
       "21.979999999999997"
      ]
     },
     "execution_count": 14,
     "metadata": {},
     "output_type": "execute_result"
    }
   ],
   "source": [
    "predict_y(10)"
   ]
  },
  {
   "cell_type": "code",
   "execution_count": 15,
   "id": "ebb3176c",
   "metadata": {
    "slideshow": {
     "slide_type": "-"
    }
   },
   "outputs": [
    {
     "data": {
      "text/plain": [
       "149.77999999999997"
      ]
     },
     "execution_count": 15,
     "metadata": {},
     "output_type": "execute_result"
    }
   ],
   "source": [
    "predict_y(30)"
   ]
  },
  {
   "cell_type": "markdown",
   "id": "f4f3f750",
   "metadata": {
    "slideshow": {
     "slide_type": "slide"
    }
   },
   "source": [
    "### Understanding the *intercept*\n",
    "\n",
    "> The **intercept** term ($\\beta_0$) is the predicted value of $\\hat{Y}$ when $X = 0$.\n",
    "\n",
    "What does this `Intercept` value mean here?"
   ]
  },
  {
   "cell_type": "code",
   "execution_count": 16,
   "id": "f3a90872",
   "metadata": {
    "slideshow": {
     "slide_type": "-"
    }
   },
   "outputs": [
    {
     "data": {
      "text/plain": [
       "Intercept   -41.916612\n",
       "Education     6.387161\n",
       "dtype: float64"
      ]
     },
     "execution_count": 16,
     "metadata": {},
     "output_type": "execute_result"
    }
   ],
   "source": [
    "## Coefficients\n",
    "mod.params"
   ]
  },
  {
   "cell_type": "markdown",
   "id": "768fbb77",
   "metadata": {
    "slideshow": {
     "slide_type": "slide"
    }
   },
   "source": [
    "#### The intercept and the linear equation\n",
    "\n",
    "If $X = 0$, the linear equation reduces to:\n",
    "\n",
    "$Y = -41.92 + \\epsilon$\n"
   ]
  },
  {
   "cell_type": "code",
   "execution_count": 17,
   "id": "57321217",
   "metadata": {
    "slideshow": {
     "slide_type": "-"
    }
   },
   "outputs": [
    {
     "data": {
      "text/plain": [
       "-41.92"
      ]
     },
     "execution_count": 17,
     "metadata": {},
     "output_type": "execute_result"
    }
   ],
   "source": [
    "predict_y(0) ### predicted value when x = 0"
   ]
  },
  {
   "cell_type": "markdown",
   "id": "332ad301",
   "metadata": {
    "slideshow": {
     "slide_type": "slide"
    }
   },
   "source": [
    "### Understanding the *slope*\n",
    "\n",
    "> For a **continuous** variable, the *slope* is the predicted change in $Y$ for every 1-unit change in $X$.\n",
    "\n",
    "What does this *slope* term mean here?"
   ]
  },
  {
   "cell_type": "code",
   "execution_count": 18,
   "id": "7aae42d1",
   "metadata": {
    "slideshow": {
     "slide_type": "-"
    }
   },
   "outputs": [
    {
     "data": {
      "text/plain": [
       "Intercept   -41.916612\n",
       "Education     6.387161\n",
       "dtype: float64"
      ]
     },
     "execution_count": 18,
     "metadata": {},
     "output_type": "execute_result"
    }
   ],
   "source": [
    "## Coefficients\n",
    "mod.params"
   ]
  },
  {
   "cell_type": "markdown",
   "id": "617ca5e5",
   "metadata": {
    "slideshow": {
     "slide_type": "slide"
    }
   },
   "source": [
    "### Check-in: more practice with `statsmodels`\n",
    "\n",
    "Build a regression model predicting `Income` from `Seniority`. What are the `params`? What do they mean?"
   ]
  },
  {
   "cell_type": "code",
   "execution_count": 19,
   "id": "db6ec0f4",
   "metadata": {},
   "outputs": [],
   "source": [
    "### Your code here"
   ]
  },
  {
   "cell_type": "markdown",
   "id": "9e43fb4b",
   "metadata": {
    "slideshow": {
     "slide_type": "slide"
    }
   },
   "source": [
    "#### Solution"
   ]
  },
  {
   "cell_type": "code",
   "execution_count": 20,
   "id": "86e85ca7",
   "metadata": {},
   "outputs": [
    {
     "data": {
      "text/plain": [
       "Intercept    39.158326\n",
       "Seniority     0.251288\n",
       "dtype: float64"
      ]
     },
     "execution_count": 20,
     "metadata": {},
     "output_type": "execute_result"
    }
   ],
   "source": [
    "mod_seniority = smf.ols(data = df_income, formula = \"Income ~ Seniority\").fit()\n",
    "mod_seniority.params"
   ]
  },
  {
   "cell_type": "markdown",
   "id": "51306431",
   "metadata": {
    "slideshow": {
     "slide_type": "slide"
    }
   },
   "source": [
    "#### Check-in\n",
    "\n",
    "Why were *these* parameters chosen as opposed to some other $\\beta_0$ and $\\beta_1$?"
   ]
  },
  {
   "cell_type": "code",
   "execution_count": 21,
   "id": "a3017795",
   "metadata": {},
   "outputs": [],
   "source": [
    "### Your response here"
   ]
  },
  {
   "cell_type": "markdown",
   "id": "95e9c71f",
   "metadata": {
    "slideshow": {
     "slide_type": "slide"
    }
   },
   "source": [
    "#### Solution\n",
    "\n",
    "Linear regression finds the set of parameters $\\beta$ that **minimizes the residual sum of squares (RSS)**.\n",
    "\n",
    "I.e., it finds the **line of best fit**!"
   ]
  },
  {
   "cell_type": "markdown",
   "id": "e51d77bd",
   "metadata": {
    "slideshow": {
     "slide_type": "slide"
    }
   },
   "source": [
    "### Other relevant output\n",
    "\n",
    "`statsmodels` also gives us:\n",
    "\n",
    "- A **standard error** associated with each coefficient.  \n",
    "- A **t-value** associated with each coefficient.  \n",
    "- A **p-value** associated with each coefficient.  \n",
    "- A **confidence interval** associated with each coefficient."
   ]
  },
  {
   "cell_type": "markdown",
   "id": "097a6e9f",
   "metadata": {
    "slideshow": {
     "slide_type": "slide"
    }
   },
   "source": [
    "#### Standard error\n",
    "\n",
    "- These **standard errors** can be used to construct a **confidence interval** around our parameter estimate.  \n",
    "- Assumption: parameters are **estimates**, which have some amount of *normally-distributed* error."
   ]
  },
  {
   "cell_type": "code",
   "execution_count": 22,
   "id": "464374df",
   "metadata": {
    "slideshow": {
     "slide_type": "-"
    }
   },
   "outputs": [
    {
     "data": {
      "text/plain": [
       "Intercept    9.768949\n",
       "Education    0.581172\n",
       "dtype: float64"
      ]
     },
     "execution_count": 22,
     "metadata": {},
     "output_type": "execute_result"
    }
   ],
   "source": [
    "mod.bse ## Standard error associated with each coefficient"
   ]
  },
  {
   "cell_type": "markdown",
   "id": "30b6a93b",
   "metadata": {
    "slideshow": {
     "slide_type": "-"
    }
   },
   "source": [
    "Can *report* standard error as follows:\n",
    "\n",
    "> `Education` was positively related with `Income`, $[\\beta = 6.34, SE = 0.58]$."
   ]
  },
  {
   "cell_type": "markdown",
   "id": "d1aff9d1",
   "metadata": {
    "slideshow": {
     "slide_type": "slide"
    }
   },
   "source": [
    "#### t-value and p-value\n",
    "\n",
    "The **standard error** can also be used to calculate $t$-statistics for each coefficient, which can in turn be used to  estimate a $p$-value to test for significance."
   ]
  },
  {
   "cell_type": "code",
   "execution_count": 23,
   "id": "25e65cc3",
   "metadata": {},
   "outputs": [
    {
     "data": {
      "text/plain": [
       "Intercept    -4.290801\n",
       "Education    10.990148\n",
       "dtype: float64"
      ]
     },
     "execution_count": 23,
     "metadata": {},
     "output_type": "execute_result"
    }
   ],
   "source": [
    "## t-values = params / bse\n",
    "mod.params / mod.bse"
   ]
  },
  {
   "cell_type": "code",
   "execution_count": 24,
   "id": "d602accb",
   "metadata": {},
   "outputs": [
    {
     "data": {
      "text/plain": [
       "Intercept    -4.290801\n",
       "Education    10.990148\n",
       "dtype: float64"
      ]
     },
     "execution_count": 24,
     "metadata": {},
     "output_type": "execute_result"
    }
   ],
   "source": [
    "## double-checking our work\n",
    "mod.tvalues"
   ]
  },
  {
   "cell_type": "code",
   "execution_count": 25,
   "id": "801a3b6b",
   "metadata": {},
   "outputs": [
    {
     "data": {
      "text/plain": [
       "Intercept    1.918257e-04\n",
       "Education    1.150567e-11\n",
       "dtype: float64"
      ]
     },
     "execution_count": 25,
     "metadata": {},
     "output_type": "execute_result"
    }
   ],
   "source": [
    "## Check for significance\n",
    "mod.pvalues"
   ]
  },
  {
   "cell_type": "markdown",
   "id": "87a6b208",
   "metadata": {
    "slideshow": {
     "slide_type": "slide"
    }
   },
   "source": [
    "#### Check-in\n",
    "\n",
    "Knowing what you know about **standard error of the mean**, how do you think our *sample size* affects the standard error for our coefficients?"
   ]
  },
  {
   "cell_type": "code",
   "execution_count": 26,
   "id": "70d2fb38",
   "metadata": {
    "slideshow": {
     "slide_type": "-"
    }
   },
   "outputs": [],
   "source": [
    "### Your response here"
   ]
  },
  {
   "cell_type": "markdown",
   "id": "fa19df16",
   "metadata": {
    "slideshow": {
     "slide_type": "slide"
    }
   },
   "source": [
    "#### Solution\n",
    "\n",
    "A larger sample ($n$) results in a **lower standard error**.\n",
    "\n",
    "*Coming up soon*: We'll discuss how to actually *calculate* standard error for our coefficients."
   ]
  },
  {
   "cell_type": "markdown",
   "id": "049d5e88",
   "metadata": {
    "slideshow": {
     "slide_type": "slide"
    }
   },
   "source": [
    "#### Confidence interval\n",
    "\n",
    "Finally, the `conf_int` function `return`s a **confidence interval** for all of our parameters.\n",
    "\n",
    "- This is calculated using the **standard error**.\n",
    "- By default, this assumes $\\alpha = .05$, i.e., a $95\\%$ CI.  \n",
    " - Crucial assumption is that distribution of **sample statistics** ($\\beta$) is **normal**.  "
   ]
  },
  {
   "cell_type": "code",
   "execution_count": 27,
   "id": "56998da8",
   "metadata": {
    "slideshow": {
     "slide_type": "-"
    }
   },
   "outputs": [
    {
     "data": {
      "text/html": [
       "<div>\n",
       "<style scoped>\n",
       "    .dataframe tbody tr th:only-of-type {\n",
       "        vertical-align: middle;\n",
       "    }\n",
       "\n",
       "    .dataframe tbody tr th {\n",
       "        vertical-align: top;\n",
       "    }\n",
       "\n",
       "    .dataframe thead th {\n",
       "        text-align: right;\n",
       "    }\n",
       "</style>\n",
       "<table border=\"1\" class=\"dataframe\">\n",
       "  <thead>\n",
       "    <tr style=\"text-align: right;\">\n",
       "      <th></th>\n",
       "      <th>0</th>\n",
       "      <th>1</th>\n",
       "    </tr>\n",
       "  </thead>\n",
       "  <tbody>\n",
       "    <tr>\n",
       "      <th>Intercept</th>\n",
       "      <td>-61.927397</td>\n",
       "      <td>-21.905827</td>\n",
       "    </tr>\n",
       "    <tr>\n",
       "      <th>Education</th>\n",
       "      <td>5.196685</td>\n",
       "      <td>7.577637</td>\n",
       "    </tr>\n",
       "  </tbody>\n",
       "</table>\n",
       "</div>"
      ],
      "text/plain": [
       "                   0          1\n",
       "Intercept -61.927397 -21.905827\n",
       "Education   5.196685   7.577637"
      ]
     },
     "execution_count": 27,
     "metadata": {},
     "output_type": "execute_result"
    }
   ],
   "source": [
    "## alpha = .05\n",
    "mod.conf_int()"
   ]
  },
  {
   "cell_type": "code",
   "execution_count": 28,
   "id": "5329fa43",
   "metadata": {
    "slideshow": {
     "slide_type": "-"
    }
   },
   "outputs": [
    {
     "data": {
      "text/html": [
       "<div>\n",
       "<style scoped>\n",
       "    .dataframe tbody tr th:only-of-type {\n",
       "        vertical-align: middle;\n",
       "    }\n",
       "\n",
       "    .dataframe tbody tr th {\n",
       "        vertical-align: top;\n",
       "    }\n",
       "\n",
       "    .dataframe thead th {\n",
       "        text-align: right;\n",
       "    }\n",
       "</style>\n",
       "<table border=\"1\" class=\"dataframe\">\n",
       "  <thead>\n",
       "    <tr style=\"text-align: right;\">\n",
       "      <th></th>\n",
       "      <th>0</th>\n",
       "      <th>1</th>\n",
       "    </tr>\n",
       "  </thead>\n",
       "  <tbody>\n",
       "    <tr>\n",
       "      <th>Intercept</th>\n",
       "      <td>-68.910782</td>\n",
       "      <td>-14.922442</td>\n",
       "    </tr>\n",
       "    <tr>\n",
       "      <th>Education</th>\n",
       "      <td>4.781232</td>\n",
       "      <td>7.993091</td>\n",
       "    </tr>\n",
       "  </tbody>\n",
       "</table>\n",
       "</div>"
      ],
      "text/plain": [
       "                   0          1\n",
       "Intercept -68.910782 -14.922442\n",
       "Education   4.781232   7.993091"
      ]
     },
     "execution_count": 28,
     "metadata": {},
     "output_type": "execute_result"
    }
   ],
   "source": [
    "## alpha = .01\n",
    "mod.conf_int(alpha = .01)"
   ]
  },
  {
   "cell_type": "markdown",
   "id": "cd09ad45",
   "metadata": {
    "slideshow": {
     "slide_type": "slide"
    }
   },
   "source": [
    "#### Check-in\n",
    "\n",
    "What is the $95\\%$ confidence interval for our coefficients for the model using `Seniority` to predict `Income`?"
   ]
  },
  {
   "cell_type": "code",
   "execution_count": 29,
   "id": "4098f4f6",
   "metadata": {
    "slideshow": {
     "slide_type": "-"
    }
   },
   "outputs": [],
   "source": [
    "### Your code here"
   ]
  },
  {
   "cell_type": "markdown",
   "id": "1ca0152c",
   "metadata": {
    "slideshow": {
     "slide_type": "slide"
    }
   },
   "source": [
    "#### Solution\n",
    "\n",
    "These could be reported as follows:\n",
    "\n",
    "> `Seniority` was positively related to `Income`, $[\\beta = 0.25]$, $95\\%$ $CI = [0.09, 0.41]$."
   ]
  },
  {
   "cell_type": "code",
   "execution_count": 30,
   "id": "0fc03181",
   "metadata": {
    "slideshow": {
     "slide_type": "-"
    }
   },
   "outputs": [
    {
     "data": {
      "text/html": [
       "<div>\n",
       "<style scoped>\n",
       "    .dataframe tbody tr th:only-of-type {\n",
       "        vertical-align: middle;\n",
       "    }\n",
       "\n",
       "    .dataframe tbody tr th {\n",
       "        vertical-align: top;\n",
       "    }\n",
       "\n",
       "    .dataframe thead th {\n",
       "        text-align: right;\n",
       "    }\n",
       "</style>\n",
       "<table border=\"1\" class=\"dataframe\">\n",
       "  <thead>\n",
       "    <tr style=\"text-align: right;\">\n",
       "      <th></th>\n",
       "      <th>0</th>\n",
       "      <th>1</th>\n",
       "    </tr>\n",
       "  </thead>\n",
       "  <tbody>\n",
       "    <tr>\n",
       "      <th>Intercept</th>\n",
       "      <td>21.714212</td>\n",
       "      <td>56.60244</td>\n",
       "    </tr>\n",
       "    <tr>\n",
       "      <th>Seniority</th>\n",
       "      <td>0.090776</td>\n",
       "      <td>0.41180</td>\n",
       "    </tr>\n",
       "  </tbody>\n",
       "</table>\n",
       "</div>"
      ],
      "text/plain": [
       "                   0         1\n",
       "Intercept  21.714212  56.60244\n",
       "Seniority   0.090776   0.41180"
      ]
     },
     "execution_count": 30,
     "metadata": {},
     "output_type": "execute_result"
    }
   ],
   "source": [
    "mod_seniority.conf_int()"
   ]
  },
  {
   "cell_type": "markdown",
   "id": "ae39777b",
   "metadata": {
    "slideshow": {
     "slide_type": "slide"
    }
   },
   "source": [
    "## Regression with categorical predictors"
   ]
  },
  {
   "cell_type": "markdown",
   "id": "e909d3da",
   "metadata": {
    "slideshow": {
     "slide_type": "slide"
    }
   },
   "source": [
    "### What are *categorical* variables?\n",
    "\n",
    "> A **categorical** (or **qualitative**) variable takes on one of several discrete values.\n",
    "\n",
    "Examples:\n",
    "\n",
    "- `spam` or `not spam`. \n",
    "- `male` or `female`. \n",
    "- `right-handed` vs. `left-handed`.\n",
    "- `smoker` vs. `non-smoker`. \n",
    "- `treatment` vs. `placebo`. \n",
    "- `Condition A` vs. `Condition B`.\n",
    "\n",
    "**Note**: some variables (e.g., `handnedness` or `gender`) are treated either *categorically* or *continuously*."
   ]
  },
  {
   "cell_type": "markdown",
   "id": "064fbb62",
   "metadata": {
    "slideshow": {
     "slide_type": "slide"
    }
   },
   "source": [
    "### Example dataset: *Stroop task*\n",
    "\n",
    "> In psychology, the [Stroop effect](https://en.wikipedia.org/wiki/Stroop_effect) is the delay in reaction time between congruent and incongruent stimuli."
   ]
  },
  {
   "cell_type": "code",
   "execution_count": 31,
   "id": "58160ddc",
   "metadata": {
    "slideshow": {
     "slide_type": "-"
    }
   },
   "outputs": [
    {
     "data": {
      "text/html": [
       "<div>\n",
       "<style scoped>\n",
       "    .dataframe tbody tr th:only-of-type {\n",
       "        vertical-align: middle;\n",
       "    }\n",
       "\n",
       "    .dataframe tbody tr th {\n",
       "        vertical-align: top;\n",
       "    }\n",
       "\n",
       "    .dataframe thead th {\n",
       "        text-align: right;\n",
       "    }\n",
       "</style>\n",
       "<table border=\"1\" class=\"dataframe\">\n",
       "  <thead>\n",
       "    <tr style=\"text-align: right;\">\n",
       "      <th></th>\n",
       "      <th>Condition</th>\n",
       "      <th>RT</th>\n",
       "    </tr>\n",
       "  </thead>\n",
       "  <tbody>\n",
       "    <tr>\n",
       "      <th>0</th>\n",
       "      <td>Congruent</td>\n",
       "      <td>12.079</td>\n",
       "    </tr>\n",
       "    <tr>\n",
       "      <th>1</th>\n",
       "      <td>Congruent</td>\n",
       "      <td>16.791</td>\n",
       "    </tr>\n",
       "    <tr>\n",
       "      <th>2</th>\n",
       "      <td>Congruent</td>\n",
       "      <td>9.564</td>\n",
       "    </tr>\n",
       "  </tbody>\n",
       "</table>\n",
       "</div>"
      ],
      "text/plain": [
       "   Condition      RT\n",
       "0  Congruent  12.079\n",
       "1  Congruent  16.791\n",
       "2  Congruent   9.564"
      ]
     },
     "execution_count": 31,
     "metadata": {},
     "output_type": "execute_result"
    }
   ],
   "source": [
    "df_stroop = pd.read_csv(\"data/models/stroop.csv\")\n",
    "df_stroop.head(3)"
   ]
  },
  {
   "cell_type": "markdown",
   "id": "82b9b02c",
   "metadata": {
    "slideshow": {
     "slide_type": "slide"
    }
   },
   "source": [
    "### Building a linear model\n",
    "\n",
    "*How do we interpret these parameters?*"
   ]
  },
  {
   "cell_type": "code",
   "execution_count": 32,
   "id": "18fc9b2e",
   "metadata": {
    "slideshow": {
     "slide_type": "-"
    }
   },
   "outputs": [
    {
     "data": {
      "text/plain": [
       "Intercept                   14.051125\n",
       "Condition[T.Incongruent]     7.964792\n",
       "dtype: float64"
      ]
     },
     "execution_count": 32,
     "metadata": {},
     "output_type": "execute_result"
    }
   ],
   "source": [
    "mod_stroop = smf.ols(data = df_stroop, formula = \"RT ~ Condition\").fit()\n",
    "mod_stroop.params"
   ]
  },
  {
   "cell_type": "markdown",
   "id": "a2073c3c",
   "metadata": {
    "slideshow": {
     "slide_type": "slide"
    }
   },
   "source": [
    "### Interpreting the slope for categorical variables\n",
    "\n",
    "$\\Large Y = \\beta_0 + \\beta_1X_1 + \\epsilon$\n",
    "\n",
    "- $\\beta_0 = 14.05$\n",
    "- $\\beta_1 = 7.96$\n",
    "\n",
    "**What is $X_1$ here?**"
   ]
  },
  {
   "cell_type": "code",
   "execution_count": 33,
   "id": "8ce50fcb",
   "metadata": {
    "slideshow": {
     "slide_type": "-"
    }
   },
   "outputs": [
    {
     "data": {
      "text/plain": [
       "Intercept                   14.051125\n",
       "Condition[T.Incongruent]     7.964792\n",
       "dtype: float64"
      ]
     },
     "execution_count": 33,
     "metadata": {},
     "output_type": "execute_result"
    }
   ],
   "source": [
    "mod_stroop.params"
   ]
  },
  {
   "cell_type": "markdown",
   "id": "29d2d434",
   "metadata": {
    "slideshow": {
     "slide_type": "slide"
    }
   },
   "source": [
    "### Using indicator variables\n",
    "\n",
    "> A **indicator variable** (alternatively: \"dummy variable\") represents the possible values of a categorical variable with different numbers, e.g., `0` vs. `1` for a binary variable.\n",
    "\n",
    "In our case, this variable might take the form:\n",
    "\n",
    "- if `Condition == Congruent` --> 0\n",
    "- if `Condition == Incongruent` --> 1\n",
    "\n",
    "This is also called **dummy coding** or **treatment coding**.\n"
   ]
  },
  {
   "cell_type": "markdown",
   "id": "39e316ab",
   "metadata": {
    "slideshow": {
     "slide_type": "slide"
    }
   },
   "source": [
    "#### Interpreting our equation with indicator variables (pt. 1)\n",
    "\n",
    "Our equation might thus look like this:\n",
    "\n",
    "$Y = 14.05 + 7.96X_{incongruent=1} + \\epsilon$\n",
    "\n",
    "- What happens when $X$ is `Congruent`?  \n",
    "- What happens when $X$ is `Incongruent`?"
   ]
  },
  {
   "cell_type": "markdown",
   "id": "ee38dd0d",
   "metadata": {
    "slideshow": {
     "slide_type": "slide"
    }
   },
   "source": [
    "#### When `Condition == Congruent`\n",
    "\n",
    "When `Condition == Congruent`, the equation reduces to the `Intercept`.\n",
    "\n",
    "$Y = 14.05 + 7.96 *0 + \\epsilon = 14.05 + \\epsilon$\n",
    "\n",
    "**Note**: This is actually *identical* to the `mean` of the `Congruent` condition!"
   ]
  },
  {
   "cell_type": "code",
   "execution_count": 34,
   "id": "150c9298",
   "metadata": {
    "slideshow": {
     "slide_type": "-"
    }
   },
   "outputs": [
    {
     "data": {
      "text/html": [
       "<div>\n",
       "<style scoped>\n",
       "    .dataframe tbody tr th:only-of-type {\n",
       "        vertical-align: middle;\n",
       "    }\n",
       "\n",
       "    .dataframe tbody tr th {\n",
       "        vertical-align: top;\n",
       "    }\n",
       "\n",
       "    .dataframe thead th {\n",
       "        text-align: right;\n",
       "    }\n",
       "</style>\n",
       "<table border=\"1\" class=\"dataframe\">\n",
       "  <thead>\n",
       "    <tr style=\"text-align: right;\">\n",
       "      <th></th>\n",
       "      <th>RT</th>\n",
       "    </tr>\n",
       "    <tr>\n",
       "      <th>Condition</th>\n",
       "      <th></th>\n",
       "    </tr>\n",
       "  </thead>\n",
       "  <tbody>\n",
       "    <tr>\n",
       "      <th>Congruent</th>\n",
       "      <td>14.051125</td>\n",
       "    </tr>\n",
       "    <tr>\n",
       "      <th>Incongruent</th>\n",
       "      <td>22.015917</td>\n",
       "    </tr>\n",
       "  </tbody>\n",
       "</table>\n",
       "</div>"
      ],
      "text/plain": [
       "                    RT\n",
       "Condition             \n",
       "Congruent    14.051125\n",
       "Incongruent  22.015917"
      ]
     },
     "execution_count": 34,
     "metadata": {},
     "output_type": "execute_result"
    }
   ],
   "source": [
    "df_stroop.groupby(\"Condition\").mean()"
   ]
  },
  {
   "cell_type": "markdown",
   "id": "dde232d5",
   "metadata": {
    "slideshow": {
     "slide_type": "slide"
    }
   },
   "source": [
    "#### When `Condition == Incongruent`\n",
    "\n",
    "When `Condition == Incongruent`, the equation is the `Intercept` plus the `slope`.\n",
    "\n",
    "$Y = 14.05 + 7.96 * 1 + \\epsilon = 14.05 + 7.96 + \\epsilon$\n",
    "\n",
    "**Note**: The resulting value is the `mean` of the `Incongruent` condition."
   ]
  },
  {
   "cell_type": "code",
   "execution_count": 35,
   "id": "3cfd3b8e",
   "metadata": {
    "slideshow": {
     "slide_type": "-"
    }
   },
   "outputs": [
    {
     "data": {
      "text/plain": [
       "22.01"
      ]
     },
     "execution_count": 35,
     "metadata": {},
     "output_type": "execute_result"
    }
   ],
   "source": [
    "14.05 + 7.96"
   ]
  },
  {
   "cell_type": "code",
   "execution_count": 36,
   "id": "bcd5d68a",
   "metadata": {
    "slideshow": {
     "slide_type": "-"
    }
   },
   "outputs": [
    {
     "data": {
      "text/html": [
       "<div>\n",
       "<style scoped>\n",
       "    .dataframe tbody tr th:only-of-type {\n",
       "        vertical-align: middle;\n",
       "    }\n",
       "\n",
       "    .dataframe tbody tr th {\n",
       "        vertical-align: top;\n",
       "    }\n",
       "\n",
       "    .dataframe thead th {\n",
       "        text-align: right;\n",
       "    }\n",
       "</style>\n",
       "<table border=\"1\" class=\"dataframe\">\n",
       "  <thead>\n",
       "    <tr style=\"text-align: right;\">\n",
       "      <th></th>\n",
       "      <th>RT</th>\n",
       "    </tr>\n",
       "    <tr>\n",
       "      <th>Condition</th>\n",
       "      <th></th>\n",
       "    </tr>\n",
       "  </thead>\n",
       "  <tbody>\n",
       "    <tr>\n",
       "      <th>Congruent</th>\n",
       "      <td>14.051125</td>\n",
       "    </tr>\n",
       "    <tr>\n",
       "      <th>Incongruent</th>\n",
       "      <td>22.015917</td>\n",
       "    </tr>\n",
       "  </tbody>\n",
       "</table>\n",
       "</div>"
      ],
      "text/plain": [
       "                    RT\n",
       "Condition             \n",
       "Congruent    14.051125\n",
       "Incongruent  22.015917"
      ]
     },
     "execution_count": 36,
     "metadata": {},
     "output_type": "execute_result"
    }
   ],
   "source": [
    "df_stroop.groupby(\"Condition\").mean()"
   ]
  },
  {
   "cell_type": "markdown",
   "id": "765d601a",
   "metadata": {
    "slideshow": {
     "slide_type": "slide"
    }
   },
   "source": [
    "#### Check-in\n",
    "\n",
    "What does our `slope` parameter reflect then?"
   ]
  },
  {
   "cell_type": "markdown",
   "id": "10cbcf95",
   "metadata": {
    "slideshow": {
     "slide_type": "slide"
    }
   },
   "source": [
    "#### Solution\n",
    "\n",
    "In univariate regression with a categorical, binary predictor, the slope reflects the **difference** in means between the two *levels* of that predictor."
   ]
  },
  {
   "cell_type": "code",
   "execution_count": 40,
   "id": "2f380acb",
   "metadata": {
    "slideshow": {
     "slide_type": "-"
    }
   },
   "outputs": [
    {
     "data": {
      "text/plain": [
       "<AxesSubplot:xlabel='Condition', ylabel='RT'>"
      ]
     },
     "execution_count": 40,
     "metadata": {},
     "output_type": "execute_result"
    },
    {
     "data": {
      "image/png": "[encoded data removed]",
      "text/plain": [
       "<Figure size 432x288 with 1 Axes>"
      ]
     },
     "metadata": {
      "image/png": {
       "height": 261,
       "width": 382
      },
      "needs_background": "light"
     },
     "output_type": "display_data"
    }
   ],
   "source": [
    "sns.pointplot(data = df_stroop, x = \"Condition\", y = \"RT\")"
   ]
  },
  {
   "cell_type": "markdown",
   "id": "e065b841",
   "metadata": {
    "slideshow": {
     "slide_type": "slide"
    }
   },
   "source": [
    "### Check-in\n",
    "\n",
    "Load the `tips` dataset from `seaborn` and fit a linear model predicting `tip` from `time`. \n",
    "\n",
    "- Inspecting the model summary.\n",
    "- How should you interpret the resulting coefficients?\n",
    "\n"
   ]
  },
  {
   "cell_type": "code",
   "execution_count": 41,
   "id": "0d814367",
   "metadata": {
    "slideshow": {
     "slide_type": "-"
    }
   },
   "outputs": [],
   "source": [
    "df_tips = sns.load_dataset(\"tips\")\n",
    "### Your code here"
   ]
  },
  {
   "cell_type": "markdown",
   "id": "4f39a6fe",
   "metadata": {
    "slideshow": {
     "slide_type": "slide"
    }
   },
   "source": [
    "#### Solution\n",
    "\n",
    "The intercept reflects the mean `tip` for `Lunch`, and the slope reflects the *difference* in `tip` amount between `Lunch` and `Dinner`."
   ]
  },
  {
   "cell_type": "code",
   "execution_count": 42,
   "id": "13a6207a",
   "metadata": {
    "slideshow": {
     "slide_type": "-"
    }
   },
   "outputs": [
    {
     "data": {
      "text/plain": [
       "Intercept         2.728088\n",
       "time[T.Dinner]    0.374582\n",
       "dtype: float64"
      ]
     },
     "execution_count": 42,
     "metadata": {},
     "output_type": "execute_result"
    }
   ],
   "source": [
    "mod_tips = smf.ols(data = df_tips, formula = \"tip ~ time\").fit()\n",
    "mod_tips.params"
   ]
  },
  {
   "cell_type": "code",
   "execution_count": 43,
   "id": "83885766",
   "metadata": {
    "slideshow": {
     "slide_type": "-"
    }
   },
   "outputs": [
    {
     "data": {
      "text/html": [
       "<div>\n",
       "<style scoped>\n",
       "    .dataframe tbody tr th:only-of-type {\n",
       "        vertical-align: middle;\n",
       "    }\n",
       "\n",
       "    .dataframe tbody tr th {\n",
       "        vertical-align: top;\n",
       "    }\n",
       "\n",
       "    .dataframe thead th {\n",
       "        text-align: right;\n",
       "    }\n",
       "</style>\n",
       "<table border=\"1\" class=\"dataframe\">\n",
       "  <thead>\n",
       "    <tr style=\"text-align: right;\">\n",
       "      <th></th>\n",
       "      <th>tip</th>\n",
       "    </tr>\n",
       "    <tr>\n",
       "      <th>time</th>\n",
       "      <th></th>\n",
       "    </tr>\n",
       "  </thead>\n",
       "  <tbody>\n",
       "    <tr>\n",
       "      <th>Lunch</th>\n",
       "      <td>2.728088</td>\n",
       "    </tr>\n",
       "    <tr>\n",
       "      <th>Dinner</th>\n",
       "      <td>3.102670</td>\n",
       "    </tr>\n",
       "  </tbody>\n",
       "</table>\n",
       "</div>"
      ],
      "text/plain": [
       "             tip\n",
       "time            \n",
       "Lunch   2.728088\n",
       "Dinner  3.102670"
      ]
     },
     "execution_count": 43,
     "metadata": {},
     "output_type": "execute_result"
    }
   ],
   "source": [
    "df_tips[['time', 'tip']].groupby(\"time\").mean()"
   ]
  },
  {
   "cell_type": "markdown",
   "id": "98c633c6",
   "metadata": {
    "slideshow": {
     "slide_type": "slide"
    }
   },
   "source": [
    "### Variables with $>2$ levels?\n",
    "\n",
    "Many categorical variables have $>2$ **levels**:\n",
    "\n",
    "- `Assistant Professor` vs. `Associate Professor` vs. `Full Professor.\n",
    "- Conditions `A`, `B`, and `C`. \n",
    "- `Europe` vs. `Asia` vs. `Africa` vs. `Americas` vs. `Oceania`.\n",
    "\n",
    "By default, `statsmodels` will use **dummy coding**, choosing the *alphabetically first* level as the **reference level**."
   ]
  },
  {
   "cell_type": "markdown",
   "id": "cb849c37",
   "metadata": {
    "slideshow": {
     "slide_type": "slide"
    }
   },
   "source": [
    "#### Check-in\n",
    "\n",
    "- Read in the dataset at `data/housing.csv`.  \n",
    "- Then, build a linear model predicting `median_house_value` from `ocean_proximity`.  \n",
    "- Inspect the model `summary()`. How should you interpret the results?"
   ]
  },
  {
   "cell_type": "code",
   "execution_count": null,
   "id": "5998452b",
   "metadata": {
    "slideshow": {
     "slide_type": "-"
    }
   },
   "outputs": [],
   "source": [
    "### Your code here"
   ]
  },
  {
   "cell_type": "markdown",
   "id": "8b48282f",
   "metadata": {
    "slideshow": {
     "slide_type": "slide"
    }
   },
   "source": [
    "#### Solution"
   ]
  },
  {
   "cell_type": "code",
   "execution_count": 51,
   "id": "8fc82cb1",
   "metadata": {
    "slideshow": {
     "slide_type": "-"
    }
   },
   "outputs": [
    {
     "data": {
      "text/plain": [
       "Intercept                        240084.285464\n",
       "ocean_proximity[T.INLAND]       -115278.893463\n",
       "ocean_proximity[T.ISLAND]        140355.714536\n",
       "ocean_proximity[T.NEAR BAY]       19128.026326\n",
       "ocean_proximity[T.NEAR OCEAN]      9349.691963\n",
       "dtype: float64"
      ]
     },
     "execution_count": 51,
     "metadata": {},
     "output_type": "execute_result"
    }
   ],
   "source": [
    "df_housing = pd.read_csv(\"data/housing.csv\")\n",
    "mod_housing = smf.ols(data = df_housing, formula = \"median_house_value ~ ocean_proximity\").fit()\n",
    "mod_housing.params"
   ]
  },
  {
   "cell_type": "code",
   "execution_count": 52,
   "id": "7f4e918b",
   "metadata": {
    "slideshow": {
     "slide_type": "-"
    }
   },
   "outputs": [
    {
     "data": {
      "text/html": [
       "<div>\n",
       "<style scoped>\n",
       "    .dataframe tbody tr th:only-of-type {\n",
       "        vertical-align: middle;\n",
       "    }\n",
       "\n",
       "    .dataframe tbody tr th {\n",
       "        vertical-align: top;\n",
       "    }\n",
       "\n",
       "    .dataframe thead th {\n",
       "        text-align: right;\n",
       "    }\n",
       "</style>\n",
       "<table border=\"1\" class=\"dataframe\">\n",
       "  <thead>\n",
       "    <tr style=\"text-align: right;\">\n",
       "      <th></th>\n",
       "      <th>median_house_value</th>\n",
       "    </tr>\n",
       "    <tr>\n",
       "      <th>ocean_proximity</th>\n",
       "      <th></th>\n",
       "    </tr>\n",
       "  </thead>\n",
       "  <tbody>\n",
       "    <tr>\n",
       "      <th>&lt;1H OCEAN</th>\n",
       "      <td>240084.285464</td>\n",
       "    </tr>\n",
       "    <tr>\n",
       "      <th>INLAND</th>\n",
       "      <td>124805.392001</td>\n",
       "    </tr>\n",
       "    <tr>\n",
       "      <th>ISLAND</th>\n",
       "      <td>380440.000000</td>\n",
       "    </tr>\n",
       "    <tr>\n",
       "      <th>NEAR BAY</th>\n",
       "      <td>259212.311790</td>\n",
       "    </tr>\n",
       "    <tr>\n",
       "      <th>NEAR OCEAN</th>\n",
       "      <td>249433.977427</td>\n",
       "    </tr>\n",
       "  </tbody>\n",
       "</table>\n",
       "</div>"
      ],
      "text/plain": [
       "                 median_house_value\n",
       "ocean_proximity                    \n",
       "<1H OCEAN             240084.285464\n",
       "INLAND                124805.392001\n",
       "ISLAND                380440.000000\n",
       "NEAR BAY              259212.311790\n",
       "NEAR OCEAN            249433.977427"
      ]
     },
     "execution_count": 52,
     "metadata": {},
     "output_type": "execute_result"
    }
   ],
   "source": [
    "df_housing[['ocean_proximity', 'median_house_value']].groupby(\"ocean_proximity\").mean()"
   ]
  },
  {
   "cell_type": "markdown",
   "id": "d3538fd1",
   "metadata": {
    "slideshow": {
     "slide_type": "slide"
    }
   },
   "source": [
    "### How to *code* your variables?\n",
    "\n",
    "> **Coding** refers to the approach taken to representing the different levels of a categorical variable in a regression model.\n",
    "\n",
    "There are a [variety of different approaches to contrast coding](https://stats.oarc.ucla.edu/r/library/r-library-contrast-coding-systems-for-categorical-variables/), some of which are summarized below.\n",
    "\n",
    "|Approach|Description|What is the `Intercept`?|What is the `Slope`?|\n",
    "|--------|-----------|-------|----------|\n",
    "|Dummy coding|Choose one level as **reference**.|`mean` of reference group.|Difference between that level and `mean` of reference group.|\n",
    "|Deviation coding|Compare each level to **grand mean**.|`mean` of all groups.|Difference between that level and grand mean.|\n",
    "\n",
    "And many more!\n",
    "\n",
    "By default, `statsmodels` uses **dummy coding**."
   ]
  },
  {
   "cell_type": "markdown",
   "id": "16be39fd",
   "metadata": {
    "slideshow": {
     "slide_type": "slide"
    }
   },
   "source": [
    "## Conclusion\n",
    "\n",
    "- The `statsmodels` package can be used to build **linear regression models**.  \n",
    "- These models produce many useful *summary* features, including:\n",
    "   - The fit $\\beta$ parameters (**intercept** and **slope**). \n",
    "   - The **standard error** and **p-value** of those parameters.\n",
    "- Each $\\beta$ parameter has a particular interpretation with respect to $\\hat{Y}$."
   ]
  }
 ],
 "metadata": {
  "celltoolbar": "Slideshow",
  "kernelspec": {
   "display_name": "Python 3 (ipykernel)",
   "language": "python",
   "name": "python3"
  },
  "language_info": {
   "codemirror_mode": {
    "name": "ipython",
    "version": 3
   },
   "file_extension": ".py",
   "mimetype": "text/x-python",
   "name": "python",
   "nbconvert_exporter": "python",
   "pygments_lexer": "ipython3",
   "version": "3.9.12"
  }
 },
 "nbformat": 4,
 "nbformat_minor": 5
}
