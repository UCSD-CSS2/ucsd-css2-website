{
 "cells": [
  {
   "cell_type": "markdown",
   "id": "df1d774f",
   "metadata": {
    "slideshow": {
     "slide_type": "slide"
    }
   },
   "source": [
    "# 04-Review (Fundamentals)"
   ]
  },
  {
   "cell_type": "markdown",
   "id": "85036752",
   "metadata": {
    "slideshow": {
     "slide_type": "slide"
    }
   },
   "source": [
    "## Goals of this lecture\n",
    "\n",
    "This lecture is a quick refresher on **Python fundamentals**.\n",
    "\n",
    "- Variables.\n",
    "- Defining and using functions.  \n",
    "- Conditional statements.\n",
    "- Loops. \n",
    "\n",
    "Hopefully, much of this will be review from CSS 1 (and lab 1)."
   ]
  },
  {
   "cell_type": "markdown",
   "id": "2d8badf4",
   "metadata": {
    "slideshow": {
     "slide_type": "slide"
    }
   },
   "source": [
    "## Variables\n",
    "\n",
    "> A **variable** stores a particular value.  \n",
    "\n",
    "- Unlike literals (e.g., an `int`), the value of a variable can change (i.e., it can **vary**).  \n",
    "- Variables can be assigned using the **assignment operator** (`=`). \n",
    "- Once you've assigned a variable, you can *use* it by referencing that variable name."
   ]
  },
  {
   "cell_type": "code",
   "execution_count": 1,
   "id": "78a10b79",
   "metadata": {
    "slideshow": {
     "slide_type": "-"
    }
   },
   "outputs": [],
   "source": [
    "## Example variable\n",
    "my_int = 5"
   ]
  },
  {
   "cell_type": "code",
   "execution_count": 2,
   "id": "676c5e04",
   "metadata": {
    "slideshow": {
     "slide_type": "-"
    }
   },
   "outputs": [
    {
     "data": {
      "text/plain": [
       "7"
      ]
     },
     "execution_count": 2,
     "metadata": {},
     "output_type": "execute_result"
    }
   ],
   "source": [
    "## Using this variable\n",
    "my_int + 2"
   ]
  },
  {
   "cell_type": "code",
   "execution_count": 3,
   "id": "12c16b7c",
   "metadata": {
    "slideshow": {
     "slide_type": "-"
    }
   },
   "outputs": [
    {
     "data": {
      "text/plain": [
       "15"
      ]
     },
     "execution_count": 3,
     "metadata": {},
     "output_type": "execute_result"
    }
   ],
   "source": [
    "## Changing the value of the variable\n",
    "my_int += 10\n",
    "my_int"
   ]
  },
  {
   "cell_type": "markdown",
   "id": "abadb0b5",
   "metadata": {
    "slideshow": {
     "slide_type": "slide"
    }
   },
   "source": [
    "### Rules on assigning variables\n",
    "\n",
    "- Names on the left, values on the right (e.g., `test_var = 2`).  \n",
    "- Names are case sensitive (the variable `test_var` cannot be accessed with `test_VAR`).  \n",
    "- Variable names must begin with a letter.  \n",
    "   - They can contain a number (e.g., `test1`) or under-score, but can't *begin* with a number or under-score. \n",
    "- Python [*mostly*](https://realpython.com/lessons/reserved-keywords/) doesn't care how you name your variables, though you should!\n",
    "   - Remember that code is intended to be **read** by others––so make sure it's clear!"
   ]
  },
  {
   "cell_type": "markdown",
   "id": "f422279c",
   "metadata": {
    "slideshow": {
     "slide_type": "slide"
    }
   },
   "source": [
    "### `type`s of objects\n",
    "\n",
    "The value assigned to a variable can have different [**types**](https://www.w3schools.com/python/python_datatypes.asp). \n",
    "\n",
    "Here are some of the possible **types** in Python:\n",
    "\n",
    "| Type | Description | Example |\n",
    "| ---- | ----------- | ------- |\n",
    "| `str` | String/text | `\"A String\"`|\n",
    "| `int` | Integer     | `2`|\n",
    "| `float` | Float       | `2.6789`|\n",
    "| `list`| List | `[1, 2, 3]`|\n",
    "| `dict`| Dictionary | `{'a': 2}`|\n",
    "| `bool`| Boolean | `True`|\n",
    "| `NoneType`| None | `None`|"
   ]
  },
  {
   "cell_type": "markdown",
   "id": "b0d75659",
   "metadata": {
    "slideshow": {
     "slide_type": "slide"
    }
   },
   "source": [
    "### Some `type`s have special functions\n",
    "\n",
    "In Python, different `type`s of objects have different functions.\n",
    "\n",
    "- The `str` object has the `replace` and `split` function.  \n",
    "- The `list` object has the `append` and `join` function."
   ]
  },
  {
   "cell_type": "code",
   "execution_count": 4,
   "id": "e598445f",
   "metadata": {
    "slideshow": {
     "slide_type": "-"
    }
   },
   "outputs": [
    {
     "data": {
      "text/plain": [
       "'CSS 2'"
      ]
     },
     "execution_count": 4,
     "metadata": {},
     "output_type": "execute_result"
    }
   ],
   "source": [
    "my_str = \"CSS 1\"\n",
    "my_str = my_str.replace(\"1\", \"2\")\n",
    "my_str"
   ]
  },
  {
   "cell_type": "code",
   "execution_count": 5,
   "id": "c3ae5caf",
   "metadata": {
    "slideshow": {
     "slide_type": "-"
    }
   },
   "outputs": [
    {
     "data": {
      "text/plain": [
       "['CSS', '2']"
      ]
     },
     "execution_count": 5,
     "metadata": {},
     "output_type": "execute_result"
    }
   ],
   "source": [
    "my_str.split(\" \")"
   ]
  },
  {
   "cell_type": "markdown",
   "id": "1b41d8a2",
   "metadata": {
    "slideshow": {
     "slide_type": "slide"
    }
   },
   "source": [
    "### Some `type`s are \"collections\"\n",
    "\n",
    "- Both `list`s and `dict`ionaries store **collections** of items."
   ]
  },
  {
   "cell_type": "code",
   "execution_count": 1,
   "id": "b78163f8",
   "metadata": {
    "slideshow": {
     "slide_type": "-"
    }
   },
   "outputs": [
    {
     "data": {
      "text/plain": [
       "[1, 2, 'a']"
      ]
     },
     "execution_count": 1,
     "metadata": {},
     "output_type": "execute_result"
    }
   ],
   "source": [
    "### example list\n",
    "my_list = [1, 2, \"a\"]\n",
    "my_list"
   ]
  },
  {
   "cell_type": "code",
   "execution_count": 2,
   "id": "2d7a353a",
   "metadata": {
    "slideshow": {
     "slide_type": "-"
    }
   },
   "outputs": [
    {
     "data": {
      "text/plain": [
       "{'a': 1, 'b': 2}"
      ]
     },
     "execution_count": 2,
     "metadata": {},
     "output_type": "execute_result"
    }
   ],
   "source": [
    "### example dictionary\n",
    "my_dictionary = {'a': 1, 'b': 2}\n",
    "my_dictionary"
   ]
  },
  {
   "cell_type": "markdown",
   "id": "72767900",
   "metadata": {
    "slideshow": {
     "slide_type": "slide"
    }
   },
   "source": [
    "## Functions\n",
    "\n",
    "> A **function** is a re-usable piece of code that performs some operation (typically on some *input*), and then typically returns a result (i.e., an *output*). \n",
    "\n",
    "A function is defined using the `def` keyword:\n",
    "\n",
    "```python\n",
    "def func_name(arg1):\n",
    "    ### Whatever the function does\n",
    "    return some_value\n",
    "```\n",
    "\n",
    "Once a function has been created, you can *use* it."
   ]
  },
  {
   "cell_type": "markdown",
   "id": "f97248a1",
   "metadata": {
    "slideshow": {
     "slide_type": "slide"
    }
   },
   "source": [
    "### Functions: a simple example\n",
    "\n",
    "The function `square` below returns the result of multiplying the input `x` by itself."
   ]
  },
  {
   "cell_type": "code",
   "execution_count": 6,
   "id": "18fbac04",
   "metadata": {
    "slideshow": {
     "slide_type": "-"
    }
   },
   "outputs": [],
   "source": [
    "def square(x):\n",
    "    return x * x"
   ]
  },
  {
   "cell_type": "code",
   "execution_count": 7,
   "id": "51cb9dd8",
   "metadata": {
    "slideshow": {
     "slide_type": "-"
    }
   },
   "outputs": [
    {
     "data": {
      "text/plain": [
       "4"
      ]
     },
     "execution_count": 7,
     "metadata": {},
     "output_type": "execute_result"
    }
   ],
   "source": [
    "square(2)"
   ]
  },
  {
   "cell_type": "code",
   "execution_count": 8,
   "id": "361146ff",
   "metadata": {
    "slideshow": {
     "slide_type": "-"
    }
   },
   "outputs": [
    {
     "data": {
      "text/plain": [
       "9"
      ]
     },
     "execution_count": 8,
     "metadata": {},
     "output_type": "execute_result"
    }
   ],
   "source": [
    "square(3)"
   ]
  },
  {
   "cell_type": "markdown",
   "id": "ce747f01",
   "metadata": {
    "slideshow": {
     "slide_type": "slide"
    }
   },
   "source": [
    "### Check-in: functions vs. variables\n",
    "\n",
    "Suppose we define a function called `cube`, which **cubes** some input `x`. How would we *call* that function, e.g., on an input like `2`?\n",
    "\n",
    "- `cube`\n",
    "- `cube()`\n",
    "- `cube(2)`\n",
    "- `cube 2`"
   ]
  },
  {
   "cell_type": "markdown",
   "id": "b274d641",
   "metadata": {
    "slideshow": {
     "slide_type": "slide"
    }
   },
   "source": [
    "### Check-in: decoding a function\n",
    "\n",
    "What does the following function do?"
   ]
  },
  {
   "cell_type": "code",
   "execution_count": 9,
   "id": "c16a0029",
   "metadata": {
    "slideshow": {
     "slide_type": "-"
    }
   },
   "outputs": [],
   "source": [
    "def mystery_func(x, n):\n",
    "    return x % n == 0"
   ]
  },
  {
   "cell_type": "markdown",
   "id": "7b5ac565",
   "metadata": {
    "slideshow": {
     "slide_type": "slide"
    }
   },
   "source": [
    "#### Solution\n",
    "\n",
    "Here, `mystery_func` checks whether `x` is divisible by `n`."
   ]
  },
  {
   "cell_type": "code",
   "execution_count": 10,
   "id": "78f16c30",
   "metadata": {
    "slideshow": {
     "slide_type": "-"
    }
   },
   "outputs": [
    {
     "data": {
      "text/plain": [
       "True"
      ]
     },
     "execution_count": 10,
     "metadata": {},
     "output_type": "execute_result"
    }
   ],
   "source": [
    "mystery_func(10, 2)"
   ]
  },
  {
   "cell_type": "code",
   "execution_count": 11,
   "id": "e27b2ae9",
   "metadata": {
    "slideshow": {
     "slide_type": "-"
    }
   },
   "outputs": [
    {
     "data": {
      "text/plain": [
       "False"
      ]
     },
     "execution_count": 11,
     "metadata": {},
     "output_type": "execute_result"
    }
   ],
   "source": [
    "mystery_func(10, 3)"
   ]
  },
  {
   "cell_type": "markdown",
   "id": "870f28ce",
   "metadata": {
    "slideshow": {
     "slide_type": "slide"
    }
   },
   "source": [
    "### Default values\n",
    "\n",
    "> A **default value** is the value taken on by an argument *by default*. If no other value is specified, this is the value assumed by the function.\n",
    "\n",
    "In the function definition, a default value can be specified by setting: `arg_name = default_value`.\n",
    "\n",
    "- In the example below, `x` is required.\n",
    "- But `n` has a default value of `2`."
   ]
  },
  {
   "cell_type": "code",
   "execution_count": 12,
   "id": "0ae3425f",
   "metadata": {
    "slideshow": {
     "slide_type": "-"
    }
   },
   "outputs": [],
   "source": [
    "def is_divisible(x, n = 2):\n",
    "    return x % n == 0"
   ]
  },
  {
   "cell_type": "code",
   "execution_count": 13,
   "id": "a53a51d8",
   "metadata": {
    "slideshow": {
     "slide_type": "-"
    }
   },
   "outputs": [
    {
     "data": {
      "text/plain": [
       "True"
      ]
     },
     "execution_count": 13,
     "metadata": {},
     "output_type": "execute_result"
    }
   ],
   "source": [
    "is_divisible(10) ### Assumes n = 2"
   ]
  },
  {
   "cell_type": "code",
   "execution_count": 14,
   "id": "feae0a97",
   "metadata": {},
   "outputs": [
    {
     "data": {
      "text/plain": [
       "False"
      ]
     },
     "execution_count": 14,
     "metadata": {},
     "output_type": "execute_result"
    }
   ],
   "source": [
    "is_divisible(10, 3) ### Override with n = 3"
   ]
  },
  {
   "cell_type": "markdown",
   "id": "0b18feb8",
   "metadata": {
    "slideshow": {
     "slide_type": "slide"
    }
   },
   "source": [
    "### Check-in: positional vs. keyword arguments\n",
    "\n",
    "An argument to a function can be indicated using its **position** or a **keyword**. Which of these is demonstrated in the code below? \n",
    "\n",
    "- Positional\n",
    "- Keyword\n",
    "- Both"
   ]
  },
  {
   "cell_type": "code",
   "execution_count": 15,
   "id": "a46d933e",
   "metadata": {
    "slideshow": {
     "slide_type": "-"
    }
   },
   "outputs": [
    {
     "data": {
      "text/plain": [
       "True"
      ]
     },
     "execution_count": 15,
     "metadata": {},
     "output_type": "execute_result"
    }
   ],
   "source": [
    "is_divisible(24, n = 3)"
   ]
  },
  {
   "cell_type": "markdown",
   "id": "0ad04411",
   "metadata": {
    "slideshow": {
     "slide_type": "slide"
    }
   },
   "source": [
    "## Control Flow\n",
    "\n",
    "> **Control flow** refers to tools we can use to control which lines of code get executed, when.\n",
    "\n",
    "In Python, there are two main ways to control the \"flow\" of our program:\n",
    "\n",
    "- **Conditional statements**: `if/elif/else`\n",
    "- **Loops**: `for/while`"
   ]
  },
  {
   "cell_type": "markdown",
   "id": "825e1d3d",
   "metadata": {
    "slideshow": {
     "slide_type": "slide"
    }
   },
   "source": [
    "## Conditional statements\n",
    "\n",
    "> In a nutshell, a **conditional** is a statement that checks for whether some *condition* is met.\n",
    "\n",
    "We can use the `if` command to **control** which lines of code are executed."
   ]
  },
  {
   "cell_type": "code",
   "execution_count": 16,
   "id": "c1e4ae75",
   "metadata": {
    "slideshow": {
     "slide_type": "-"
    }
   },
   "outputs": [
    {
     "name": "stdout",
     "output_type": "stream",
     "text": [
      "These strings are the same.\n"
     ]
    }
   ],
   "source": [
    "x = \"One string\"\n",
    "y = \"One string\"\n",
    "if x == y:\n",
    "    print(\"These strings are the same.\")"
   ]
  },
  {
   "cell_type": "markdown",
   "id": "1c6d7869",
   "metadata": {
    "slideshow": {
     "slide_type": "slide"
    }
   },
   "source": [
    "### `else`\n",
    "\n",
    "> An `else` statement tells Python what to do if an `if` statement evaluates to `False`."
   ]
  },
  {
   "cell_type": "code",
   "execution_count": 17,
   "id": "f67a2f8b",
   "metadata": {
    "slideshow": {
     "slide_type": "-"
    }
   },
   "outputs": [
    {
     "name": "stdout",
     "output_type": "stream",
     "text": [
      "These strings are different\n"
     ]
    }
   ],
   "source": [
    "x = \"One string\"\n",
    "y = \"Different string\"\n",
    "if x == y:\n",
    "    print(\"These strings are the same.\")\n",
    "else:\n",
    "    print(\"These strings are different\")"
   ]
  },
  {
   "cell_type": "markdown",
   "id": "0ee265da",
   "metadata": {
    "slideshow": {
     "slide_type": "slide"
    }
   },
   "source": [
    "### Conditionals and functions\n",
    "\n",
    "Conditional statements become particularly useful when we combine them with functions."
   ]
  },
  {
   "cell_type": "code",
   "execution_count": 18,
   "id": "73bd285c",
   "metadata": {
    "slideshow": {
     "slide_type": "-"
    }
   },
   "outputs": [],
   "source": [
    "def square_if_even(x):\n",
    "    if x % 2 == 0:\n",
    "        return x ** 2\n",
    "    else:\n",
    "        return x"
   ]
  },
  {
   "cell_type": "markdown",
   "id": "9bfad6b4",
   "metadata": {
    "slideshow": {
     "slide_type": "slide"
    }
   },
   "source": [
    "### Check-in\n",
    "\n",
    "How would you write a function `fizzbuzz` that:\n",
    "\n",
    "- Takes a number `x` as input. \n",
    "- `return`s \"Fizz\" if the number is divisible by `3`.\n",
    "- `return`s \"Buzz\" if the number is divisible by `5`.\n",
    "- `return`s \"FizzBuzz\" if the number is divisible by both `3` and `5`."
   ]
  },
  {
   "cell_type": "code",
   "execution_count": 19,
   "id": "5df2549c",
   "metadata": {
    "slideshow": {
     "slide_type": "-"
    }
   },
   "outputs": [],
   "source": [
    "### Your code here"
   ]
  },
  {
   "cell_type": "markdown",
   "id": "f739fdcd",
   "metadata": {
    "slideshow": {
     "slide_type": "slide"
    }
   },
   "source": [
    "#### Solution"
   ]
  },
  {
   "cell_type": "code",
   "execution_count": 20,
   "id": "b003baee",
   "metadata": {
    "slideshow": {
     "slide_type": "-"
    }
   },
   "outputs": [],
   "source": [
    "def fizzbuzz(x):\n",
    "    if x % 5 == 0 and x % 3 == 0:\n",
    "        return \"FizzBuzz\"\n",
    "    if x % 3 == 0: \n",
    "        return \"Fizz\"\n",
    "    if x % 5 == 0:\n",
    "        return \"Buzz\""
   ]
  },
  {
   "cell_type": "markdown",
   "id": "60daa0a8",
   "metadata": {
    "slideshow": {
     "slide_type": "slide"
    }
   },
   "source": [
    "### Check-in\n",
    "\n",
    "How would you write a function called `contains_letter` that:\n",
    "\n",
    "- Takes both a `word` and a `letter` as inputs.  \n",
    "- Checks whether the `word` contains that `letter`.\n",
    "  - `if` it does, it `print`s out \"Yes\".\n",
    "  - Otherwise, it `print`s out \"No\".\n"
   ]
  },
  {
   "cell_type": "code",
   "execution_count": 23,
   "id": "820aebe5",
   "metadata": {
    "slideshow": {
     "slide_type": "-"
    }
   },
   "outputs": [],
   "source": [
    "### Your code here"
   ]
  },
  {
   "cell_type": "markdown",
   "id": "a3cb28a4",
   "metadata": {
    "slideshow": {
     "slide_type": "slide"
    }
   },
   "source": [
    "#### Solution"
   ]
  },
  {
   "cell_type": "code",
   "execution_count": 24,
   "id": "c6103420",
   "metadata": {
    "slideshow": {
     "slide_type": "-"
    }
   },
   "outputs": [],
   "source": [
    "def contains_letter(word, letter):\n",
    "    if letter in word:\n",
    "        print(\"Yes\")\n",
    "    else:\n",
    "        print(\"No\")"
   ]
  },
  {
   "cell_type": "code",
   "execution_count": 25,
   "id": "b08a856f",
   "metadata": {
    "slideshow": {
     "slide_type": "-"
    }
   },
   "outputs": [
    {
     "name": "stdout",
     "output_type": "stream",
     "text": [
      "Yes\n"
     ]
    }
   ],
   "source": [
    "contains_letter(\"dog\", \"o\")"
   ]
  },
  {
   "cell_type": "code",
   "execution_count": 26,
   "id": "f6a16de2",
   "metadata": {
    "slideshow": {
     "slide_type": "-"
    }
   },
   "outputs": [
    {
     "name": "stdout",
     "output_type": "stream",
     "text": [
      "No\n"
     ]
    }
   ],
   "source": [
    "contains_letter(\"cat\", \"o\")"
   ]
  },
  {
   "cell_type": "markdown",
   "id": "d02998c0",
   "metadata": {
    "slideshow": {
     "slide_type": "slide"
    }
   },
   "source": [
    "## Loops\n",
    "\n",
    "> A **loop** is a way to repeat the same piece of code multiple times.\n"
   ]
  },
  {
   "cell_type": "markdown",
   "id": "838b115f",
   "metadata": {
    "slideshow": {
     "slide_type": "slide"
    }
   },
   "source": [
    "### When should you use a loop?\n",
    "\n",
    "**Rule of thumb**: if you find yourself copying/pasting the same code many different times...you might think about using a loop!  \n",
    "\n",
    "More generally: in programming, we often want to execute the same action *multiple times*. \n",
    "\n",
    "- Apply the same instruction to every item on a `list`.  \n",
    "- Continue running some code until a condition is met.  "
   ]
  },
  {
   "cell_type": "markdown",
   "id": "170f9fc1",
   "metadata": {
    "slideshow": {
     "slide_type": "slide"
    }
   },
   "source": [
    "### `for` loops in action\n",
    "\n",
    "> A `for` loop is used for [iterating over a sequence](https://www.w3schools.com/python/python_for_loops.asp). \n",
    "\n",
    "A `for` loop uses the syntax: \n",
    "\n",
    "```python\n",
    "for elem in list_name:\n",
    "    # Do something\n",
    "```"
   ]
  },
  {
   "cell_type": "code",
   "execution_count": 27,
   "id": "7b8733b7",
   "metadata": {
    "slideshow": {
     "slide_type": "-"
    }
   },
   "outputs": [
    {
     "name": "stdout",
     "output_type": "stream",
     "text": [
      "1\n",
      "2\n",
      "3\n"
     ]
    }
   ],
   "source": [
    "## This is a list in Python\n",
    "numbers = [1, 2, 3]\n",
    "### This is a for loop\n",
    "for number in numbers:  \n",
    "    print(number)"
   ]
  },
  {
   "cell_type": "markdown",
   "id": "675973e4",
   "metadata": {
    "slideshow": {
     "slide_type": "slide"
    }
   },
   "source": [
    "### `for` loops and functions\n",
    "\n",
    "Like `if` statements, a `for` loop becomes especially powerful when combined with a function."
   ]
  },
  {
   "cell_type": "code",
   "execution_count": 30,
   "id": "9d18b20e",
   "metadata": {
    "slideshow": {
     "slide_type": "-"
    }
   },
   "outputs": [],
   "source": [
    "def multiply_list(numbers):\n",
    "    product = 1 ## why do I start at 1, not 0?\n",
    "    for i in numbers:\n",
    "        product *= i\n",
    "    return product ## note the indentation!"
   ]
  },
  {
   "cell_type": "code",
   "execution_count": 31,
   "id": "a9f7d785",
   "metadata": {
    "slideshow": {
     "slide_type": "-"
    }
   },
   "outputs": [
    {
     "data": {
      "text/plain": [
       "6"
      ]
     },
     "execution_count": 31,
     "metadata": {},
     "output_type": "execute_result"
    }
   ],
   "source": [
    "multiply_list([1, 2, 3])"
   ]
  },
  {
   "cell_type": "markdown",
   "id": "44ae4225",
   "metadata": {
    "slideshow": {
     "slide_type": "slide"
    }
   },
   "source": [
    "### Check-in\n",
    "\n",
    "Write a function called `find_vowels`, which:\n",
    "\n",
    "- Takes as input a `str`.\n",
    "- `return`s a list of the **vowels** in that string."
   ]
  },
  {
   "cell_type": "code",
   "execution_count": 36,
   "id": "35753ce2",
   "metadata": {
    "slideshow": {
     "slide_type": "-"
    }
   },
   "outputs": [],
   "source": [
    "### Your code here."
   ]
  },
  {
   "cell_type": "markdown",
   "id": "2279df80",
   "metadata": {
    "slideshow": {
     "slide_type": "slide"
    }
   },
   "source": [
    "### Solution"
   ]
  },
  {
   "cell_type": "code",
   "execution_count": 37,
   "id": "f81a9a35",
   "metadata": {},
   "outputs": [],
   "source": [
    "def find_vowels(s):\n",
    "    vowels = []\n",
    "    for c in s:\n",
    "        if c.lower() in \"aeiou\":\n",
    "            vowels.append(c)\n",
    "    return vowels"
   ]
  },
  {
   "cell_type": "code",
   "execution_count": 34,
   "id": "4f91f032",
   "metadata": {},
   "outputs": [
    {
     "data": {
      "text/plain": [
       "['o', 'a', 'i']"
      ]
     },
     "execution_count": 34,
     "metadata": {},
     "output_type": "execute_result"
    }
   ],
   "source": [
    "find_vowels(\"programming\")"
   ]
  },
  {
   "cell_type": "code",
   "execution_count": 35,
   "id": "8209d417",
   "metadata": {},
   "outputs": [
    {
     "data": {
      "text/plain": [
       "['a']"
      ]
     },
     "execution_count": 35,
     "metadata": {},
     "output_type": "execute_result"
    }
   ],
   "source": [
    "find_vowels(\"cat\")"
   ]
  },
  {
   "cell_type": "markdown",
   "id": "d4037edb",
   "metadata": {
    "slideshow": {
     "slide_type": "slide"
    }
   },
   "source": [
    "## Conclusion\n",
    "\n",
    "This was intended as a **rapidfire review** of Python fundamentals, including:\n",
    "\n",
    "- Basic Python syntax.  \n",
    "- Defining functions.\n",
    "- Using `if` statements.\n",
    "- Using `for` loops.\n",
    "\n",
    "Next time, we'll review packages that will be helpful for working with data, such as `pandas`."
   ]
  }
 ],
 "metadata": {
  "celltoolbar": "Slideshow",
  "kernelspec": {
   "display_name": "Python 3 (ipykernel)",
   "language": "python",
   "name": "python3"
  },
  "language_info": {
   "codemirror_mode": {
    "name": "ipython",
    "version": 3
   },
   "file_extension": ".py",
   "mimetype": "text/x-python",
   "name": "python",
   "nbconvert_exporter": "python",
   "pygments_lexer": "ipython3",
   "version": "3.9.12"
  }
 },
 "nbformat": 4,
 "nbformat_minor": 5
}
