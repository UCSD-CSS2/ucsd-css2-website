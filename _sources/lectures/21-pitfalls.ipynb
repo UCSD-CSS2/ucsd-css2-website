{
 "cells": [
  {
   "cell_type": "markdown",
   "id": "565fd595",
   "metadata": {
    "slideshow": {
     "slide_type": "slide"
    }
   },
   "source": [
    "# Pitfalls and Paradoxes"
   ]
  },
  {
   "cell_type": "code",
   "execution_count": null,
   "id": "764fb90b",
   "metadata": {},
   "outputs": [],
   "source": []
  },
  {
   "cell_type": "code",
   "execution_count": null,
   "id": "250da309",
   "metadata": {},
   "outputs": [],
   "source": []
  },
  {
   "cell_type": "code",
   "execution_count": null,
   "id": "99f9407e",
   "metadata": {},
   "outputs": [],
   "source": []
  },
  {
   "cell_type": "code",
   "execution_count": null,
   "id": "0cac206c",
   "metadata": {},
   "outputs": [],
   "source": []
  },
  {
   "cell_type": "markdown",
   "id": "0e698b4b",
   "metadata": {
    "slideshow": {
     "slide_type": "slide"
    }
   },
   "source": [
    "To cover:\n",
    "\n",
    "- Statistical \"paradoxes\":\n",
    "   - Berkson's paradox\n",
    "   - Simpson's paradox\n",
    "- Bad data:\n",
    "   - Validity and generalizability\n",
    "   - Sample representativeness\n",
    "      - Twitter as a biased sample, etc.\n",
    "- Relationship to open data"
   ]
  },
  {
   "cell_type": "code",
   "execution_count": null,
   "id": "8d945dbd",
   "metadata": {},
   "outputs": [],
   "source": []
  }
 ],
 "metadata": {
  "kernelspec": {
   "display_name": "Python 3 (ipykernel)",
   "language": "python",
   "name": "python3"
  },
  "language_info": {
   "codemirror_mode": {
    "name": "ipython",
    "version": 3
   },
   "file_extension": ".py",
   "mimetype": "text/x-python",
   "name": "python",
   "nbconvert_exporter": "python",
   "pygments_lexer": "ipython3",
   "version": "3.9.12"
  }
 },
 "nbformat": 4,
 "nbformat_minor": 5
}
