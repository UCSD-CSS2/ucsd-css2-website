{
 "cells": [
  {
   "cell_type": "markdown",
   "id": "df1d774f",
   "metadata": {
    "slideshow": {
     "slide_type": "slide"
    }
   },
   "source": [
    "# 03-Ethics (Privacy and Dual Use)\n",
    "\n",
    "![title](img/privacy_img.png)\n"
   ]
  },
  {
   "cell_type": "markdown",
   "id": "85036752",
   "metadata": {
    "slideshow": {
     "slide_type": "slide"
    }
   },
   "source": [
    "## Goals of this lecture\n",
    "\n",
    "- Case studies 2-3: data collection and privacy violations. \n",
    "- Refresher: Why ethics?\n",
    "- Ethical issues: the **fundamentals**. \n",
    "- What **legal regulations** exist?\n",
    "- What should **individual researchers** do? \n",
    "- **Trade-offs** between different ethical considerations.\n"
   ]
  },
  {
   "cell_type": "markdown",
   "id": "36bede37",
   "metadata": {
    "slideshow": {
     "slide_type": "slide"
    }
   },
   "source": [
    "## Case Studies"
   ]
  },
  {
   "cell_type": "markdown",
   "id": "d0e1d010",
   "metadata": {
    "slideshow": {
     "slide_type": "slide"
    }
   },
   "source": [
    "### Case Study 2: An addition app sharing sensitive data"
   ]
  },
  {
   "cell_type": "markdown",
   "id": "6c2d4649",
   "metadata": {
    "slideshow": {
     "slide_type": "slide"
    }
   },
   "source": [
    "#### Opioid addiction apps sharing data\n",
    "\n",
    "Telehealth apps growing in popularity:\n",
    "\n",
    "> As a result of the COVID-19 pandemic and efforts to reduce transmission in the U.S, telehealth services and apps offering opioid addiction treatment have surged in popularity. \n",
    "\n",
    "But these apps may be accessing and sharing sensitive data:\n",
    "\n",
    "> Despite the vast reach and sensitive nature of these services, the research found that the majority of the apps accessed **unique identifiers about the user’s device and, in some cases, shared that data with third parties**.\n",
    "\n",
    "[Source: TechCrunch](https://techcrunch.com/2021/07/07/opioid-addiction-treatment-apps-found-sharing-sensitive-data-with-third-parties/)"
   ]
  },
  {
   "cell_type": "markdown",
   "id": "64270848",
   "metadata": {
    "slideshow": {
     "slide_type": "slide"
    }
   },
   "source": [
    "#### What information is accessed, and how?\n",
    "\n",
    "Information about the **device**:\n",
    "\n",
    "> Five of the apps also access the devices’ phone number...and two access a users’ list of installed apps.\n",
    "\n",
    "Information about a user's **location**:\n",
    "\n",
    "> Seven of the apps request permission to make Bluetooth connections...can be used to track users in real-world locations.\n",
    "\n",
    "\n",
    "[Source: TechCrunch](https://techcrunch.com/2021/07/07/opioid-addiction-treatment-apps-found-sharing-sensitive-data-with-third-parties/)"
   ]
  },
  {
   "cell_type": "markdown",
   "id": "0b4ce4f4",
   "metadata": {
    "slideshow": {
     "slide_type": "slide"
    }
   },
   "source": [
    "#### Is this legal?\n",
    "\n",
    "Some say this practice violates [**laws about confidentiality of patient information**](https://www.ecfr.gov/current/title-42/chapter-I/subchapter-A/part-2), but:\n",
    "\n",
    "> While 42 CFR Part 2 recognizes the very sensitive nature of substance use disorder treatment, it doesn’t mention apps at all. Existing privacy laws are totally not up to speed.\n",
    "\n",
    "In practice, a big problem is a lack of **dedicated privacy staff**:\n",
    "\n",
    "> Another likely reason for these practices is a lack of security and data privacy staff, according to Jonathan Stoltman, director at Opioid Policy Institute, which contributed to the research.\n",
    "\n",
    "[Source: TechCrunch](https://techcrunch.com/2021/07/07/opioid-addiction-treatment-apps-found-sharing-sensitive-data-with-third-parties/)"
   ]
  },
  {
   "cell_type": "markdown",
   "id": "5e8586d0",
   "metadata": {
    "slideshow": {
     "slide_type": "slide"
    }
   },
   "source": [
    "### Case Study 3: A not-for-profit sharing mental health information"
   ]
  },
  {
   "cell_type": "markdown",
   "id": "4bf25c16",
   "metadata": {
    "slideshow": {
     "slide_type": "slide"
    }
   },
   "source": [
    "#### The need for mental health support\n",
    "\n",
    "[**Crisis Text Line (CTL)**](https://www.crisistextline.org/) is non-profit suicide prevention hotline.\n",
    "\n",
    "- Connects individuals (e.g., those suffering from depression) with volunteers.\n",
    "- In the process, **records** and **collects data** about these conversations.\n",
    "   - Has called this \"the largest mental health data set in the world\".\n",
    "- This data can be used to help **identify especially urgent** cases.\n",
    "\n",
    "[Source: Scientific American](https://www.scientificamerican.com/article/mental-health-apps-are-not-keeping-your-data-safe/)"
   ]
  },
  {
   "cell_type": "markdown",
   "id": "93f95535",
   "metadata": {
    "slideshow": {
     "slide_type": "slide"
    }
   },
   "source": [
    "#### Sharing data with third-party companies\n",
    "\n",
    "[Recent reporting](https://www.politico.com/news/2022/01/28/suicide-hotline-silicon-valley-privacy-debates-00002617) found that Crisis Text Line was sharing **anonymized data** with a third-party company, [Loris.ai](https://loris.ai/).\n",
    "\n",
    "- Loris uses data to improve **customer management** software. \n",
    "- In return, Loris shares **revenue** with CTL.\n",
    "\n",
    "*Technically*, CTL users \"consent\" to this disclosure.\n",
    "\n",
    "- But unclear whether their consent is **meaningful**: disclosure form is 50+ pages, and users are deeply suffering when they read it.\n",
    "\n",
    "[Source: Scientific American](https://www.scientificamerican.com/article/mental-health-apps-are-not-keeping-your-data-safe/)"
   ]
  },
  {
   "cell_type": "markdown",
   "id": "eb01bd94",
   "metadata": {
    "slideshow": {
     "slide_type": "slide"
    }
   },
   "source": [
    "#### Data sharing has serious consequences\n",
    "\n",
    "In many cases, sharing this data can **cause harm**.\n",
    "\n",
    "> In 2018, U.S. border authorities refused entry to several Canadians who had survived suicide attempts, based on information in a police database.\n",
    "\n",
    "[Source: Scientific American](https://www.scientificamerican.com/article/mental-health-apps-are-not-keeping-your-data-safe/)"
   ]
  },
  {
   "cell_type": "markdown",
   "id": "7b077a55",
   "metadata": {
    "slideshow": {
     "slide_type": "slide"
    }
   },
   "source": [
    "#### Privacy and mental health more generally\n",
    "\n",
    "Of 132 studies surveyed:\n",
    "\n",
    "> The researchers in 85 percent of the studies didn’t address, either in study design, or in reporting results, how the technologies could be used in negative ways.\n",
    "\n",
    "[Source: Scientific American](https://www.scientificamerican.com/article/mental-health-apps-are-not-keeping-your-data-safe/)"
   ]
  },
  {
   "cell_type": "markdown",
   "id": "07fa2964",
   "metadata": {
    "slideshow": {
     "slide_type": "slide"
    }
   },
   "source": [
    "## Refresher: why ethics for CSS?"
   ]
  },
  {
   "cell_type": "markdown",
   "id": "bdc91308",
   "metadata": {
    "slideshow": {
     "slide_type": "slide"
    }
   },
   "source": [
    "### Reason 1: CSS has impact\n",
    "\n",
    "In CSS, our work can have **real-world impact**.\n",
    "\n",
    "- Is this impact *positive*?  \n",
    "- Does this work have the potential to *cause harm*?  \n",
    "- How does the potential harm compare to *current harms*?"
   ]
  },
  {
   "cell_type": "markdown",
   "id": "7023587a",
   "metadata": {
    "slideshow": {
     "slide_type": "slide"
    }
   },
   "source": [
    "### Reason 2: CSS involves hard decisions\n",
    "\n",
    "We also face many **difficult questions**.\n",
    "\n",
    "Hard question(s) of the day:\n",
    "\n",
    "1. Does this work violate **privacy** or have harmful potential for **dual use**? \n",
    "2. What kind of **regulations** and **enforcement mechanisms** are (or should be) in place to protect against this? \n",
    "3. What can/should I do as an **individual researcher**?"
   ]
  },
  {
   "cell_type": "markdown",
   "id": "4c1fa775",
   "metadata": {
    "slideshow": {
     "slide_type": "slide"
    }
   },
   "source": [
    "## The data-driven world\n",
    "\n",
    "- Increasingly, our activities leave behind a **digital trace**:\n",
    "\n",
    "> Digital trace data are “records of activity (trace data) undertaken through an online information system (thus, digital). \n",
    "\n",
    "- The availability of data is part of the promise of [\"Big Data\"](https://en.wikipedia.org/wiki/Big_data).\n",
    "\n",
    "- But it also raises a number of **conceptual and ethical issues**.\n",
    "\n",
    "[Source: Hollingshead et al. (2021)](https://www.taylorfrancis.com/chapters/edit/10.4324/9781003024583-13/ethics-privacy-computational-social-science-william-hollingshead-anabel-quan-haase-wenhong-chen)"
   ]
  },
  {
   "cell_type": "markdown",
   "id": "14491a91",
   "metadata": {
    "slideshow": {
     "slide_type": "slide"
    }
   },
   "source": [
    "### Data linkage\n",
    "\n",
    "> **Data linkage** refers  to  the  unification  of  corresponding  datasets  to  enable  a  richer  informational account of the unit of analysis.\n",
    "\n",
    "For example, the [CDC provides *links* between different data sources](https://www.cdc.gov/nchs/data-linkage/datalinkagestory.htm):\n",
    "\n",
    "![title](img/privacy/linkage.png)\n",
    "\n",
    "\n",
    "[Source: Hollingshead et al. (2021)](https://www.taylorfrancis.com/chapters/edit/10.4324/9781003024583-13/ethics-privacy-computational-social-science-william-hollingshead-anabel-quan-haase-wenhong-chen)"
   ]
  },
  {
   "attachments": {},
   "cell_type": "markdown",
   "id": "7ef44f96",
   "metadata": {
    "slideshow": {
     "slide_type": "slide"
    }
   },
   "source": [
    "#### De-anonymization\n",
    "\n",
    "Data linkage is a really powerful **tool** in our toolkit, but it also raises issues, such as **de-anonymization**.\n",
    "\n",
    "> **De-anonymization** is a data mining strategy in which anonymous data is cross-referenced with other data sources to re-identify the anonymous data source. \n",
    "\n",
    "Sometimes, purpotedly *anonymized* datasets can be *de-anonymized* using data linkage. This happened famously in 2008 with the [Netflix Prize Dataset](https://en.wikipedia.org/wiki/Netflix_Prize#Privacy_concerns).\n",
    "\n",
    "![deanonymization.png](img/privacy/deanonymization.png)"
   ]
  },
  {
   "cell_type": "markdown",
   "id": "7aa9337a",
   "metadata": {
    "slideshow": {
     "slide_type": "slide"
    }
   },
   "source": [
    "#### Differential privacy as potential solution?\n",
    "\n",
    "[**Differential privacy**](https://privacytools.seas.harvard.edu/differential-privacy) is an approach to ensuring data security and de-identification.\n",
    "\n",
    "> A dataset/algorithm is \"differentially private\" if by looking at the output, one cannot tell whether any given individual's data was included or not.\n",
    "\n",
    "Differential privacy tries to *mathematically formalize* the notion of privacy to overcome the data linkage problem.\n",
    "\n",
    "> These \"linkage attacks\" motivate the need for a robust definition of privacy -- one that is immune to attacks using auxiliary knowledge, including knowledge that a data curator cannot predict the availability of.\n",
    "\n",
    "**Counterpoint**: differential privacy tends to **decrease accuracy**, as it involves injecting noise into a dataset.\n",
    "\n",
    "- We will revisit this later in the lecture.\n",
    "\n",
    "[Relevant research: Latanya Sweeney's work on de-anonymization and data linkage](https://latanyasweeney.org/work/identifiability.html)."
   ]
  },
  {
   "cell_type": "markdown",
   "id": "85cd461c",
   "metadata": {
    "slideshow": {
     "slide_type": "slide"
    }
   },
   "source": [
    "#### Check-in\n",
    "\n",
    "*Reflection*: how many digital accounts do you have (social media, Amazon, Netflix, etc.)? Do you think someone could deduce your identity by linking these accounts together?"
   ]
  },
  {
   "cell_type": "markdown",
   "id": "ea4786fa",
   "metadata": {
    "slideshow": {
     "slide_type": "slide"
    }
   },
   "source": [
    "### Data archiving\n",
    "\n",
    "The recent [replicability crisis](https://en.wikipedia.org/wiki/Replication_crisis) in science has prompted a movement towards [\"open science\"](https://en.wikipedia.org/wiki/Open_science).\n",
    "\n",
    "- This includes making data **publicly available**.\n",
    "- In fact, many scientific journals now *require* that an anonymized dataset be made available to other researchers.\n",
    "\n",
    "While good for **transparency**, this also raises ethical concerns around **consent**.\n",
    "\n",
    "More generally, the widespread practice of **data sharing** by companies means that our data may be made accessible to third parties."
   ]
  },
  {
   "cell_type": "markdown",
   "id": "39ad520c",
   "metadata": {
    "slideshow": {
     "slide_type": "slide"
    }
   },
   "source": [
    "#### Data sharing and consent\n",
    "\n",
    "Although participants/users may **consent** to *some uses* of their data, public availability means that other actors can use that data too:\n",
    "\n",
    "> Informational flows open the possibility that **a person’s information will be used for different purposes than for those originally intended**.\n",
    "\n",
    "When it comes to companies sharing data, a big problem is \"legalese\" in their Terms of Service:\n",
    "\n",
    "> It is entirely plausible that for some users, a thorough reading of the ToS would result in the revocation of consent. Nevertheless, the expression of “consent” at one point in time effectively means that a digital user becomes datafied for diverse purposes.\n",
    "\n",
    "[Source: Hollingshead et al. (2021)](https://www.taylorfrancis.com/chapters/edit/10.4324/9781003024583-13/ethics-privacy-computational-social-science-william-hollingshead-anabel-quan-haase-wenhong-chen)"
   ]
  },
  {
   "cell_type": "markdown",
   "id": "9e27637b",
   "metadata": {
    "slideshow": {
     "slide_type": "slide"
    }
   },
   "source": [
    "#### Check-in\n",
    "\n",
    "Can you think of examples of how your digital data might be used for multiple purposes you didn't consent to?"
   ]
  },
  {
   "cell_type": "markdown",
   "id": "8abcafb7",
   "metadata": {
    "slideshow": {
     "slide_type": "slide"
    }
   },
   "source": [
    "### Ownership\n",
    "\n",
    "Who owns the data in your \"digital trace\"?\n",
    "\n",
    "Consider the following kinds of data:\n",
    "\n",
    "- Location data.  \n",
    "- Purchasing history.  \n",
    "- Social media contacts and activity.  \n",
    "- Chat messages.  \n",
    "- Netflix activity.  \n",
    "\n",
    "*Reflection*: Who \"owns\" these data? Who should own it?"
   ]
  },
  {
   "attachments": {},
   "cell_type": "markdown",
   "id": "1755b6ee",
   "metadata": {
    "slideshow": {
     "slide_type": "slide"
    }
   },
   "source": [
    "#### Not a new issue!\n",
    "\n",
    "[Henrietta Lacks](https://en.wikipedia.org/wiki/Henrietta_Lacks) was an African-American woman whose cancer cells were used for the [HeLa line](https://en.wikipedia.org/wiki/HeLa), an \"immortal cell line\" used for scientific research.\n",
    "\n",
    "- The \"HeLa line\" has facilitated many discoveries, including the **polio vaccine**.\n",
    "- But Henrietta Lacks was not told about this use, nor did she consent.  \n",
    "\n",
    "This controversy inspired the [Common Rule](https://en.wikipedia.org/wiki/Common_Rule) in medicine, which requires that doctors **inform patients** whether their medical data (tissues, etc.) will be used for research.\n",
    "\n",
    "![lacks.jpeg](img/privacy/lacks.jpeg)"
   ]
  },
  {
   "cell_type": "markdown",
   "id": "4bc1d79f",
   "metadata": {
    "slideshow": {
     "slide_type": "slide"
    }
   },
   "source": [
    "## Data Privacy: Legal considerations\n",
    "\n",
    "Before we consider what we can/should do as *individuals*, it's important to understand the landscape of **legal regulations** surrounding data ethics and privacy."
   ]
  },
  {
   "cell_type": "markdown",
   "id": "b7466ee9",
   "metadata": {
    "slideshow": {
     "slide_type": "slide"
    }
   },
   "source": [
    "### What regulations exist in the USA?\n",
    "\n",
    "Within the USA, no *single* law to regulate all kinds of data.\n",
    "\n",
    "- [HIPAA](https://en.wikipedia.org/wiki/Health_Insurance_Portability_and_Accountability_Act): laws about how **health information** can be shared.  \n",
    "- [FERPA](https://en.wikipedia.org/wiki/Family_Educational_Rights_and_Privacy_Act): laws about how **educational information** (e.g., student records) can be shared.\n",
    "- [ECRA](https://en.wikipedia.org/wiki/Electronic_Communications_Privacy_Act): laws about how **electronic communications information** can be accessed and shared.  \n",
    "\n",
    "Though specific **states** have more comprehensive laws.\n",
    "\n",
    "[Source: New York Times, 2021](https://www.nytimes.com/wirecutter/blog/state-of-privacy-laws-in-us/)"
   ]
  },
  {
   "cell_type": "markdown",
   "id": "cfaafc98",
   "metadata": {
    "slideshow": {
     "slide_type": "slide"
    }
   },
   "source": [
    "#### Privacy regulations in the state of California\n",
    "\n",
    "The [**California Privacy Rights Act (CPRA)**](https://www.perkinscoie.com/en/practices/security-privacy-law/california-privacy-rights-act-cpra.html) includes stipulations about **data privacy**. \n",
    "\n",
    "1. **Private right of action**: individuals can sue companies for privacy violations.  \n",
    "2. **Global opt-out**.\n",
    "\n",
    "> remove one’s self from data sharing by device or browser, instead of being forced to opt out on each site individually\n",
    "\n",
    "3. **Right to correct** inaccurate personal information.  \n",
    "4. Right to **enhanced transparency**."
   ]
  },
  {
   "cell_type": "markdown",
   "id": "6f1ddc17",
   "metadata": {
    "slideshow": {
     "slide_type": "slide"
    }
   },
   "source": [
    "### Regulations in the EU\n",
    "\n",
    "[**General Data Protection Regulation (GDPR)**](https://gdpr.eu/what-is-gdpr/): very extensive regulations about data privacy in the [European Union](https://en.wikipedia.org/wiki/European_Union).\n",
    "\n",
    "Regulations include (but not limited to):\n",
    "\n",
    "- **Data protection principles**: limit the *purpose* and *extent* of data (i.e., *data minimization*).\n",
    "- **Accountability**: teams must have dedicated technical staff for data protection.\n",
    "   - Many teams must have a [**Data Protection Officer (DPO)**](https://gdpr.eu/data-protection-officer/).\n",
    "- **Consent**: must be freely given, can be withdrawn by *data subjects* at anytime.  \n",
    "- **Privacy rights**: data subjects given a set of [*rights*](https://gdpr.eu/tag/chapter-3/).\n",
    "   - Includes *right to be informed*, *right to erasure*, *right to data portability*, and more.\n",
    "\n",
    "![title](img/eu_flag.png)\n"
   ]
  },
  {
   "cell_type": "markdown",
   "id": "c6a59f58",
   "metadata": {
    "slideshow": {
     "slide_type": "slide"
    }
   },
   "source": [
    "### What do privacy advocates want?\n",
    "\n",
    "Advocate for various **rights**:\n",
    "\n",
    "- Rights over **data collection**: access to data that companies have collected about you (and request deletion, etc.).  \n",
    "- **Opt-in consent**: opt in, not out, of data collection.  \n",
    "- **Data minimization**: only collect data absolutely necessary for product.  \n",
    "- **Non-discrimination**: service should not be altered for people who opt-out.\n",
    "\n",
    "This also requires some **enforcement mechanism**:\n",
    "\n",
    "- [Right to **sue** companies who violate regulation?](https://termly.io/resources/articles/ccpa-private-right-of-action/#:~:text=A%20private%20right%20of%20action%20is%20defined%20as%20a%20right,belonging%20to%20a%20private%20person.)\n",
    "- [**Banning** of targeted advertising?](https://www.wired.com/story/why-dont-we-just-ban-targeted-advertising/)\n",
    "\n",
    "\n",
    "[Source: New York Times, 2021](https://www.nytimes.com/wirecutter/blog/state-of-privacy-laws-in-us/)"
   ]
  },
  {
   "cell_type": "markdown",
   "id": "e9383872",
   "metadata": {
    "slideshow": {
     "slide_type": "slide"
    }
   },
   "source": [
    "## Data Privacy: Researcher considerations\n",
    "\n",
    "What can (and should) we do as individual *researchers*?\n",
    "\n",
    "![title](img/excel.png)\n"
   ]
  },
  {
   "cell_type": "markdown",
   "id": "f5ea9a99",
   "metadata": {
    "slideshow": {
     "slide_type": "slide"
    }
   },
   "source": [
    "### \"Ten simple rules\"\n",
    "\n",
    "[Zook et al. (2017)](https://journals.plos.org/ploscompbiol/article?id=10.1371/journal.pcbi.1005399) describe \"ten simple rules\" to follow for responsible Big Data research.\n",
    "\n",
    "- Here, we will cover the rules most relevant to **bias** and **privacy**.\n",
    "\n",
    "As we read each rule, *reflect*: \n",
    "\n",
    "- How can I use this rule in my own research?  \n",
    "- Is this rule precise enough to be useful?"
   ]
  },
  {
   "cell_type": "markdown",
   "id": "254beff4",
   "metadata": {
    "slideshow": {
     "slide_type": "slide"
    }
   },
   "source": [
    "#### Rule 1: Data are people and can do harm.\n",
    "\n",
    "> One of the most fundamental rules of responsible big data research is the steadfast recognition that most data represent or impact people. \n",
    "\n",
    "This also connects to our lecture on **bias**:\n",
    "\n",
    "> Harm can also result when seemingly innocuous datasets about population-wide effects are used to shape the lives of individuals or stigmatize groups, often without procedural recourse.\n",
    "\n",
    "**Recommendation**:\n",
    "\n",
    "> Start with the assumption that data are people (until proven otherwise), and use it to guide your analysis."
   ]
  },
  {
   "cell_type": "markdown",
   "id": "71b513f0",
   "metadata": {
    "slideshow": {
     "slide_type": "slide"
    }
   },
   "source": [
    "#### Rule 2: Privacy ≠ binary value\n",
    "\n",
    "Privacy is not just a **binary value**:\n",
    "\n",
    "> Looking at a single Instagram photo by an individual has different ethical implications than looking at someone’s full history of all social media posts. \n",
    "\n",
    "Sharing is okay in *some contexts* and not in others:\n",
    "\n",
    "> Likewise, distributing health records is a necessary part of receiving health care, but this same sharing brings new ethical concerns when it goes beyond providers to marketers.\n",
    "\n",
    "**Recommendation**:\n",
    "\n",
    "> Situate and contextualize your data to anticipate privacy breaches and minimize harm."
   ]
  },
  {
   "cell_type": "markdown",
   "id": "0e160ada",
   "metadata": {
    "slideshow": {
     "slide_type": "slide"
    }
   },
   "source": [
    "#### Rule 3: Guard against reidentification\n",
    "\n",
    "Many examples of \"anonymized\" data being **de-anonymized**:\n",
    "\n",
    "> When datasets thought to be anonymized are combined with other variables, it may result in unexpected reidentification, much like a chemical reaction resulting from the addition of a final ingredient.\n",
    "\n",
    "\"Big data\" allows for combining many different features to identify a person:\n",
    "\n",
    "> Surprising to many, unlabeled network graphs—such as location and movement, DNA profiles, call records from mobile phone data, and even high-resolution satellite images of the earth—can be used to reidentify people.\n",
    "\n",
    "**Recommendation**:\n",
    "\n",
    "> Identify possible vectors of reidentification in your data. Work to minimize them in your published results to the greatest extent possible."
   ]
  },
  {
   "cell_type": "markdown",
   "id": "1a8e6e8f",
   "metadata": {
    "slideshow": {
     "slide_type": "slide"
    }
   },
   "source": [
    "#### Rule 4: Ethical data sharing\n",
    "\n",
    "**Data sharing** is an important part of research:\n",
    "\n",
    "> For example, in rare genetic disease research, biological samples are shared in the hope of finding cures, making dissemination a condition of participation.\n",
    "\n",
    "But we must be careful about not violating the terms of our consent:\n",
    "\n",
    "> However, we caution that even when broad consent was obtained upfront, researchers should consider the best interests of the human participant, proactively considering the likelihood of privacy breaches and reidentification issues.\n",
    "\n",
    "**Recommendation**:\n",
    "\n",
    "> Share data as specified in research protocols, but proactively address concerns of potential harm from informally collected big data.\n"
   ]
  },
  {
   "cell_type": "markdown",
   "id": "e596e261",
   "metadata": {
    "slideshow": {
     "slide_type": "slide"
    }
   },
   "source": [
    "#### Rule 8: Design for auditability\n",
    "\n",
    "An important part of responsible data practices is building systems that can be easily **audited**:\n",
    "\n",
    "> Responsible internal auditing processes flow easily into audit systems and also keep track of factors that might contribute to problematic outcomes. \n",
    "\n",
    "One benefit of this is forcing researchers to debate the tough questions:\n",
    "\n",
    "> Designing for auditability also brings direct benefits to researchers by providing a mechanism for double-checking work and forcing oneself to be explicit about decisions, increasing understandability and replicability. \n",
    "\n",
    "**Recommendation**:\n",
    "\n",
    "> Plan for and welcome audits of your big data practices.\n"
   ]
  },
  {
   "cell_type": "markdown",
   "id": "69ba4aa8",
   "metadata": {
    "slideshow": {
     "slide_type": "slide"
    }
   },
   "source": [
    "### Data statements\n",
    "\n",
    "If you **compile** and **release** a dataset, you can attach a **data statement**.\n",
    "\n",
    ">  A data statement is a characterization of a dataset that provides context to allow developers and users to better understand how experimental results might generalize, how software might be appropriately deployed, and what biases might be reflected in systems built on the software.\n",
    "\n",
    "This is one way to make your data more **transparent**.\n",
    "\n",
    "[Bender & Friedman, 2018](https://direct.mit.edu/tacl/article/doi/10.1162/tacl_a_00041/43452/Data-Statements-for-Natural-Language-Processing)"
   ]
  },
  {
   "cell_type": "markdown",
   "id": "093b4113",
   "metadata": {
    "slideshow": {
     "slide_type": "slide"
    }
   },
   "source": [
    "#### What does this involve?\n",
    "\n",
    "Motivation for **creation** of dataset:\n",
    "\n",
    "- Why was it created?\n",
    "- What other tasks could the dataaset be used for?\n",
    "\n",
    "Dataset **composition**:\n",
    "\n",
    "- What is each \"instance\"––i.e., \"row\"––in the dataset?\n",
    "- How many instances are there?\n",
    "\n",
    "Dataset **maintenance**:\n",
    "\n",
    "- Who is responsible for maintaining the dataset?\n",
    "- Who should be contacted with questions?\n",
    "\n",
    "**Legal** considerations:\n",
    "\n",
    "- Were individuals informed about data collection? Did they consent? \n",
    "- Could this dataset expose people to harm or legal action? \n",
    "- Does this dataset comply with the GDPR legal standards?\n"
   ]
  },
  {
   "cell_type": "markdown",
   "id": "f3a81fea",
   "metadata": {
    "slideshow": {
     "slide_type": "slide"
    }
   },
   "source": [
    "## Trade-offs: privacy and fairness in conflict\n",
    "\n",
    "In these lectures, we've discussed two **pillars** of ethical CSS:\n",
    "\n",
    "1. **Fairness**.\n",
    "2. **Privacy**.\n",
    "\n",
    "Both of these are challenging on their own. Yet the problem is made **more complex when we consider *both* criteria at once.**\n"
   ]
  },
  {
   "cell_type": "markdown",
   "id": "aa0b4db5",
   "metadata": {
    "slideshow": {
     "slide_type": "slide"
    }
   },
   "source": [
    "### Differential privacy can have disparate impact\n",
    "\n",
    "- As discussed before, [**differential privacy (DP)**](https://privacytools.seas.harvard.edu/differential-privacy) is an approach to minimizing the risk of **de-anonymization**.\n",
    "\n",
    "- Yet [recent research (Bagdasaryan et al. (2019)](https://proceedings.neurips.cc/paper/2019/file/fc0de4e0396fff257ea362983c2dda5a-Paper.pdf) has found that in some many, implementing DP leads to **disparate impact**.\n",
    "\n",
    "  - Models trained with DP have *systematically lower accuracy* for under-represented groups.\n",
    "\n",
    "> Accuracy of DP models drops much more for the underrepresented classes and subgroups"
   ]
  },
  {
   "cell_type": "markdown",
   "id": "ba7b76b9",
   "metadata": {
    "slideshow": {
     "slide_type": "slide"
    }
   },
   "source": [
    "#### Why disparate impact?\n",
    "\n",
    "Differential privacy works by effectively **adding noise** to observations in a dataset.\n",
    "\n",
    "- This typically decreases accuracy *across the board*. \n",
    "- However, because some groups are **systematically under-represented**, accuracy is most impacted for these groups.\n",
    "\n",
    "Fundamentally, this connects back to issues of **biased data**.\n",
    "\n",
    "- Datasets often under-represent certain groups, which can lead to harmful impacts down the road.\n",
    "- One solution is creating **balanced data**, e.g., [gender shades (Buolamwini & Gebru, 2018)](http://proceedings.mlr.press/v81/buolamwini18a.html?mod=article_inline). "
   ]
  },
  {
   "cell_type": "markdown",
   "id": "f97ef5a0",
   "metadata": {
    "slideshow": {
     "slide_type": "slide"
    }
   },
   "source": [
    "### Algorithmic fairness can create privacy risks\n",
    "\n",
    "One approach to **algorithmic fairness** is forcing a model to produce *identical behavior* across groups.\n",
    "\n",
    "- E.g., **demographic parity**.  \n",
    "\n",
    "But to accomplish this, the model must *weight* some data points more than others. This can lead to **data leakage**:\n",
    "\n",
    "> We show that fairness comes at the cost of privacy, and this cost is not distributed equally: the information leakage of fair models increases signifcantly on the unprivileged subgroups, which are the ones for whom we need fair\n",
    "learning.\n",
    "\n",
    "[Source: Chang & Shokri, 2021](https://www.ftc.gov/system/files/documents/public_events/1582978/on_the_privacy_risks_of_algorithmic_fairness.pdf)"
   ]
  },
  {
   "cell_type": "markdown",
   "id": "0b543762",
   "metadata": {
    "slideshow": {
     "slide_type": "slide"
    }
   },
   "source": [
    "### Navigating trade-offs\n",
    "\n",
    "Ethical research in CSS must keep both criteria in mind:\n",
    "\n",
    "1. Fairness.\n",
    "2. Privacy.\n",
    "\n",
    "But when these criteria **trade-off**, researchers must set their *priorities*. \n",
    "\n",
    "*Reflection*: Which criterion seems more important to you, and why?"
   ]
  },
  {
   "cell_type": "markdown",
   "id": "c24e4a7c",
   "metadata": {
    "slideshow": {
     "slide_type": "slide"
    }
   },
   "source": [
    "## Conclusion\n",
    "\n",
    "- Work in **Computational Social Science** has the potential for real-world impact.\n",
    "- As researchers, we must be conscious of the potential for *harmful impact*––and try to mitigate or avoid this harm. \n",
    "- Two **pillars** of ethical research are **fairness** and **privacy**. "
   ]
  }
 ],
 "metadata": {
  "kernelspec": {
   "display_name": "Python 3 (ipykernel)",
   "language": "python",
   "name": "python3"
  },
  "language_info": {
   "codemirror_mode": {
    "name": "ipython",
    "version": 3
   },
   "file_extension": ".py",
   "mimetype": "text/x-python",
   "name": "python",
   "nbconvert_exporter": "python",
   "pygments_lexer": "ipython3",
   "version": "3.9.12"
  }
 },
 "nbformat": 4,
 "nbformat_minor": 5
}
