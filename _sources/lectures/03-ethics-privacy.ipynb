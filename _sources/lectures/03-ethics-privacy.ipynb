{
 "cells": [
  {
   "cell_type": "markdown",
   "id": "df1d774f",
   "metadata": {
    "slideshow": {
     "slide_type": "slide"
    }
   },
   "source": [
    "# 03-Ethics (Privacy and Dual Use)"
   ]
  },
  {
   "cell_type": "markdown",
   "id": "85036752",
   "metadata": {
    "slideshow": {
     "slide_type": "slide"
    }
   },
   "source": [
    "## Goals of this lecture\n",
    "\n",
    "- Case Study 2: ???\n",
    "- Privacy: legal and ethical considerations."
   ]
  },
  {
   "cell_type": "code",
   "execution_count": null,
   "id": "c734ec0d",
   "metadata": {},
   "outputs": [],
   "source": []
  },
  {
   "cell_type": "code",
   "execution_count": null,
   "id": "8aa249d9",
   "metadata": {},
   "outputs": [],
   "source": []
  },
  {
   "cell_type": "code",
   "execution_count": null,
   "id": "15475ffb",
   "metadata": {},
   "outputs": [],
   "source": []
  },
  {
   "cell_type": "markdown",
   "id": "02d14e02",
   "metadata": {},
   "source": [
    "Overview:\n",
    "\n",
    "- Legal issues: GDPR, etc.\n",
    "- Readings\n",
    "  - Chapter: https://www.taylorfrancis.com/chapters/edit/10.4324/9781003024583-13/ethics-privacy-computational-social-science-william-hollingshead-anabel-quan-haase-wenhong-chen\n",
    "- Scott Desposasto: Field experiments, etc.\n",
    "- Dual use: GPT-3, etc.\n",
    "   - Toxic language: https://arxiv.org/abs/2009.11462\n",
    "- More general problems with out-sourcing all these decisions to models/algorithms.\n",
    "   - [Hiring](https://www.theguardian.com/science/2016/sep/01/how-algorithms-rule-our-working-lives)\n",
    "  \n",
    "  \n",
    "Resources:\n",
    "\n",
    "- CSS 2 lecture: https://ucsd-css-002.github.io/lectures/sp22/Lecture_21-pre.html#ethics-in-computational-social-science"
   ]
  },
  {
   "cell_type": "code",
   "execution_count": null,
   "id": "7c3d0651",
   "metadata": {},
   "outputs": [],
   "source": []
  }
 ],
 "metadata": {
  "kernelspec": {
   "display_name": "Python 3 (ipykernel)",
   "language": "python",
   "name": "python3"
  },
  "language_info": {
   "codemirror_mode": {
    "name": "ipython",
    "version": 3
   },
   "file_extension": ".py",
   "mimetype": "text/x-python",
   "name": "python",
   "nbconvert_exporter": "python",
   "pygments_lexer": "ipython3",
   "version": "3.9.12"
  }
 },
 "nbformat": 4,
 "nbformat_minor": 5
}
