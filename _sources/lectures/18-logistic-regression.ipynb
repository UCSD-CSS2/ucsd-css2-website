{
 "cells": [
  {
   "cell_type": "markdown",
   "id": "565fd595",
   "metadata": {
    "slideshow": {
     "slide_type": "slide"
    }
   },
   "source": [
    "# Logistic Regression"
   ]
  },
  {
   "cell_type": "markdown",
   "id": "81d43784",
   "metadata": {
    "slideshow": {
     "slide_type": "skip"
    }
   },
   "source": [
    "##### Libraries"
   ]
  },
  {
   "cell_type": "code",
   "execution_count": 1,
   "id": "51c0f716",
   "metadata": {
    "slideshow": {
     "slide_type": "skip"
    }
   },
   "outputs": [],
   "source": [
    "## Imports\n",
    "import pandas as pd\n",
    "import numpy as np\n",
    "import matplotlib.pyplot as plt\n",
    "import statsmodels.api as sm\n",
    "import statsmodels.formula.api as smf\n",
    "import seaborn as sns\n",
    "import scipy.stats as ss"
   ]
  },
  {
   "cell_type": "code",
   "execution_count": 2,
   "id": "e53866de",
   "metadata": {
    "slideshow": {
     "slide_type": "skip"
    }
   },
   "outputs": [],
   "source": [
    "%matplotlib inline\n",
    "%config InlineBackend.figure_format = 'retina'  # makes figs nicer!"
   ]
  },
  {
   "cell_type": "markdown",
   "id": "0e698b4b",
   "metadata": {
    "slideshow": {
     "slide_type": "slide"
    }
   },
   "source": [
    "## Goals of this lecture\n",
    " \n",
    "- Introduction to **classification**.  \n",
    "- Foundations of **logistic regression**.\n",
    "   - \"Generalizing\" the linear model.\n",
    "   - Log-odds and the logistic function.\n",
    "- Implementing logistic regression in `statsmodels`."
   ]
  },
  {
   "cell_type": "markdown",
   "id": "34e1cc5f",
   "metadata": {
    "slideshow": {
     "slide_type": "slide"
    }
   },
   "source": [
    "## What is classification?\n",
    "\n",
    "> In statistical modeling, **classification** refers the problem of predicting a *categorical* response variable $Y$ using some set of features $X$.\n",
    "\n",
    "There are many examples of *categorical* responses:\n",
    "\n",
    "- Is an email `spam` or `not spam`?  \n",
    "- Is a cell mass `cancer` or `not cancer`?  \n",
    "- Will this customer `buy` or `not buy` the product?  \n",
    "- Is a credit card `fraudulent` or `not fraudulent`?\n",
    "- Is this a picture of a `cat`, a `dog`, a `person`, or `other`? \n",
    "\n",
    "Before we discuss *how* to do this, it's important to reflect on what exactly a \"category\" is."
   ]
  },
  {
   "cell_type": "markdown",
   "id": "4d02b885",
   "metadata": {
    "slideshow": {
     "slide_type": "slide"
    }
   },
   "source": [
    "### \"To classify is human\"\n",
    "\n",
    "> \"**To classify is human**...We sort dirty dishes from clean, white laundry from colorfast, important email\n",
    "to be answered from e-junk.... Any part of the home, school, or workplace reveals some such system of classification: medications classed as not for children occupy a higher shelf than safer ones; books for reference are shelved close to where we do the Sunday crossword puzzle; door keys are color-coded and stored according to frequency of use.\"  \n",
    " -[Bowker & Star, 2000](https://direct.mit.edu/books/book/4738/chapter/216477/Introduction-To-Classify-Is-Human)\n",
    "\n",
    "\n",
    "\n",
    "We often **impose** a category structure onto the world––as needed––and these categories in turn can have **real impact** on our lives.\n",
    " \n",
    "- E.g., whether a behavior is diagnosed as a `mental illness`.  \n",
    "- E.g., whether the census includes *multiple options* for `ethnicity`. "
   ]
  },
  {
   "cell_type": "markdown",
   "id": "9bb0c8ae",
   "metadata": {
    "slideshow": {
     "slide_type": "slide"
    }
   },
   "source": [
    "#### Check-in\n",
    "\n",
    "What aspects of your life involve **category structure**? Which ones do you think have the \"right\" category structure, and why do you think that?"
   ]
  },
  {
   "cell_type": "markdown",
   "id": "c7ae1192",
   "metadata": {
    "slideshow": {
     "slide_type": "slide"
    }
   },
   "source": [
    "### Categories and the problem of *measurement*\n",
    "\n",
    "The issue of *which* categories are \"correct\" is an instance of more general questions around **measurement** and [**construct validity**](https://en.wikipedia.org/wiki/Construct_validity).\n",
    "\n",
    "As we discuss the practical task of *classifying* data, there are important questions to keep in mind:\n",
    "\n",
    "- Where is the **boundary** drawn between categories?  \n",
    "- Who **decides** the category structure?\n",
    "- What **function** do these categories serve?\n",
    "- What variance is **obscured** by these categories? What is **illuminated**?  \n",
    "\n",
    "And remember that [the map is not the territory](https://en.wikipedia.org/wiki/Map%E2%80%93territory_relation)."
   ]
  },
  {
   "cell_type": "markdown",
   "id": "3f06899a",
   "metadata": {
    "slideshow": {
     "slide_type": "slide"
    }
   },
   "source": [
    "### How many categories?\n",
    "\n",
    "- One question is *how many categories* there are.  \n",
    "- **Binary classification** involves sorting inputs $X$ into one of two labels.\n",
    "   - E.g., `spam` vs. `not spam`. \n",
    "- But many classification tasks involve more than two labels.\n",
    "   - E.g., *face recognition* involves $N$ categories, where $N =$ number of possible identities."
   ]
  },
  {
   "cell_type": "markdown",
   "id": "3d67f45f",
   "metadata": {
    "slideshow": {
     "slide_type": "slide"
    }
   },
   "source": [
    "## Foundations of logistic regression\n",
    "\n",
    "[Logistic regression](https://en.wikipedia.org/wiki/Logistic_regression) is a widely used approach for modeling **binary, categorical data**.\n",
    "\n",
    "To understand logistic regression, we'll have to dive into the theoretical foundations of the **logistic function**."
   ]
  },
  {
   "cell_type": "markdown",
   "id": "8ec021fd",
   "metadata": {
    "slideshow": {
     "slide_type": "slide"
    }
   },
   "source": [
    "### Example dataset: `spam`\n",
    "\n",
    "As we learn logistic regression, we'll start with a dataset about different emails, with information about which ones were considered `spam`."
   ]
  },
  {
   "cell_type": "code",
   "execution_count": 3,
   "id": "cbe304f6",
   "metadata": {
    "slideshow": {
     "slide_type": "-"
    }
   },
   "outputs": [
    {
     "data": {
      "text/html": [
       "<div>\n",
       "<style scoped>\n",
       "    .dataframe tbody tr th:only-of-type {\n",
       "        vertical-align: middle;\n",
       "    }\n",
       "\n",
       "    .dataframe tbody tr th {\n",
       "        vertical-align: top;\n",
       "    }\n",
       "\n",
       "    .dataframe thead th {\n",
       "        text-align: right;\n",
       "    }\n",
       "</style>\n",
       "<table border=\"1\" class=\"dataframe\">\n",
       "  <thead>\n",
       "    <tr style=\"text-align: right;\">\n",
       "      <th></th>\n",
       "      <th>spam</th>\n",
       "      <th>to_multiple</th>\n",
       "      <th>from</th>\n",
       "      <th>cc</th>\n",
       "      <th>sent_email</th>\n",
       "      <th>time</th>\n",
       "      <th>image</th>\n",
       "      <th>attach</th>\n",
       "      <th>dollar</th>\n",
       "      <th>winner</th>\n",
       "      <th>...</th>\n",
       "      <th>viagra</th>\n",
       "      <th>password</th>\n",
       "      <th>num_char</th>\n",
       "      <th>line_breaks</th>\n",
       "      <th>format</th>\n",
       "      <th>re_subj</th>\n",
       "      <th>exclaim_subj</th>\n",
       "      <th>urgent_subj</th>\n",
       "      <th>exclaim_mess</th>\n",
       "      <th>number</th>\n",
       "    </tr>\n",
       "  </thead>\n",
       "  <tbody>\n",
       "    <tr>\n",
       "      <th>0</th>\n",
       "      <td>0</td>\n",
       "      <td>0</td>\n",
       "      <td>1</td>\n",
       "      <td>0</td>\n",
       "      <td>0</td>\n",
       "      <td>2012-01-01T06:16:41Z</td>\n",
       "      <td>0</td>\n",
       "      <td>0</td>\n",
       "      <td>0</td>\n",
       "      <td>no</td>\n",
       "      <td>...</td>\n",
       "      <td>0</td>\n",
       "      <td>0</td>\n",
       "      <td>11.370</td>\n",
       "      <td>202</td>\n",
       "      <td>1</td>\n",
       "      <td>0</td>\n",
       "      <td>0</td>\n",
       "      <td>0</td>\n",
       "      <td>0</td>\n",
       "      <td>big</td>\n",
       "    </tr>\n",
       "    <tr>\n",
       "      <th>1</th>\n",
       "      <td>0</td>\n",
       "      <td>0</td>\n",
       "      <td>1</td>\n",
       "      <td>0</td>\n",
       "      <td>0</td>\n",
       "      <td>2012-01-01T07:03:59Z</td>\n",
       "      <td>0</td>\n",
       "      <td>0</td>\n",
       "      <td>0</td>\n",
       "      <td>no</td>\n",
       "      <td>...</td>\n",
       "      <td>0</td>\n",
       "      <td>0</td>\n",
       "      <td>10.504</td>\n",
       "      <td>202</td>\n",
       "      <td>1</td>\n",
       "      <td>0</td>\n",
       "      <td>0</td>\n",
       "      <td>0</td>\n",
       "      <td>1</td>\n",
       "      <td>small</td>\n",
       "    </tr>\n",
       "    <tr>\n",
       "      <th>2</th>\n",
       "      <td>0</td>\n",
       "      <td>0</td>\n",
       "      <td>1</td>\n",
       "      <td>0</td>\n",
       "      <td>0</td>\n",
       "      <td>2012-01-01T16:00:32Z</td>\n",
       "      <td>0</td>\n",
       "      <td>0</td>\n",
       "      <td>4</td>\n",
       "      <td>no</td>\n",
       "      <td>...</td>\n",
       "      <td>0</td>\n",
       "      <td>0</td>\n",
       "      <td>7.773</td>\n",
       "      <td>192</td>\n",
       "      <td>1</td>\n",
       "      <td>0</td>\n",
       "      <td>0</td>\n",
       "      <td>0</td>\n",
       "      <td>6</td>\n",
       "      <td>small</td>\n",
       "    </tr>\n",
       "  </tbody>\n",
       "</table>\n",
       "<p>3 rows × 21 columns</p>\n",
       "</div>"
      ],
      "text/plain": [
       "   spam  to_multiple  from  cc  sent_email                  time  image  \\\n",
       "0     0            0     1   0           0  2012-01-01T06:16:41Z      0   \n",
       "1     0            0     1   0           0  2012-01-01T07:03:59Z      0   \n",
       "2     0            0     1   0           0  2012-01-01T16:00:32Z      0   \n",
       "\n",
       "   attach  dollar winner  ...  viagra  password  num_char  line_breaks  \\\n",
       "0       0       0     no  ...       0         0    11.370          202   \n",
       "1       0       0     no  ...       0         0    10.504          202   \n",
       "2       0       4     no  ...       0         0     7.773          192   \n",
       "\n",
       "   format  re_subj  exclaim_subj  urgent_subj  exclaim_mess  number  \n",
       "0       1        0             0            0             0     big  \n",
       "1       1        0             0            0             1   small  \n",
       "2       1        0             0            0             6   small  \n",
       "\n",
       "[3 rows x 21 columns]"
      ]
     },
     "execution_count": 3,
     "metadata": {},
     "output_type": "execute_result"
    }
   ],
   "source": [
    "df_spam = pd.read_csv(\"data/models/classification/email.csv\")\n",
    "df_spam.head(3)"
   ]
  },
  {
   "cell_type": "markdown",
   "id": "804b1a11",
   "metadata": {
    "slideshow": {
     "slide_type": "slide"
    }
   },
   "source": [
    "### Why not linear regression?\n",
    "\n",
    "The `spam` variable is coded as `0` (no) or `1` (yes). \n",
    "\n",
    "- In principle, we *could* treat this a continuous variable, and model `spam` using linear regression.  \n",
    "- We could interpret our prediction $\\hat{y}$ as the *probability* of the outcome.\n",
    "\n",
    "**Does anyone see any issues with this?**"
   ]
  },
  {
   "cell_type": "markdown",
   "id": "5391d1a7",
   "metadata": {
    "slideshow": {
     "slide_type": "slide"
    }
   },
   "source": [
    "#### Going beyond $[0, 1]$\n",
    "\n",
    "A *linear* model will generate predictions beyond $[0, 1]$, even though **probability** should be bounded at $[0, 1]$."
   ]
  },
  {
   "cell_type": "code",
   "execution_count": 4,
   "id": "0a4547fa",
   "metadata": {
    "slideshow": {
     "slide_type": "-"
    }
   },
   "outputs": [
    {
     "data": {
      "text/plain": [
       "<seaborn.axisgrid.FacetGrid at 0x7f9881e635b0>"
      ]
     },
     "execution_count": 4,
     "metadata": {},
     "output_type": "execute_result"
    },
    {
     "data": {
      "image/png": "[encoded data removed]",
      "text/plain": [
       "<Figure size 360x360 with 1 Axes>"
      ]
     },
     "metadata": {
      "image/png": {
       "height": 351,
       "width": 352
      },
      "needs_background": "light"
     },
     "output_type": "display_data"
    }
   ],
   "source": [
    "sns.lmplot(data = df_spam, x = \"num_char\", y = \"spam\")"
   ]
  },
  {
   "cell_type": "markdown",
   "id": "bc4da1c9",
   "metadata": {
    "slideshow": {
     "slide_type": "slide"
    }
   },
   "source": [
    "### Framing the problem probabilistically\n",
    "\n",
    "We want to **sort** input into different labels, so it's helpful to think of this **probabilistically**.\n",
    "\n",
    "- Treat each outcome as **Bernoulli trials**, i.e., \"success\" (`spam`) and \"failure\" (`not spam`).  \n",
    "- Each observation has an independent probability of success, $p_i$.  \n",
    " - On its own, this is just be the **proportion of spam emails**, i.e., $p(spam)$. \n",
    "- Our goal is to **model** $p_i$ *conditioned* on other variables that might relate to $p_i$."
   ]
  },
  {
   "cell_type": "markdown",
   "id": "590a744b",
   "metadata": {
    "slideshow": {
     "slide_type": "slide"
    }
   },
   "source": [
    "#### Check-in\n",
    "\n",
    "On its own, $p_i$ is just the probability of `success` (e.g., `spam`). What does this remind you of from *linear regression*?"
   ]
  },
  {
   "cell_type": "markdown",
   "id": "87356120",
   "metadata": {
    "slideshow": {
     "slide_type": "slide"
    }
   },
   "source": [
    "#### Solution\n",
    "\n",
    "On its own, the probability of `success` is most analogous to an `Intercept`-only model in linear regression––i.e., the *mean* of $Y$."
   ]
  },
  {
   "cell_type": "markdown",
   "id": "cd54c041",
   "metadata": {
    "slideshow": {
     "slide_type": "slide"
    }
   },
   "source": [
    "### Generalizing the linear model (GLMs)\n",
    "\n",
    "> [**Generalized linear models** (GLMs)](https://en.wikipedia.org/wiki/Generalized_linear_model) are generalizations of linear regression. \n",
    "\n",
    "Each GLM has:\n",
    "\n",
    "- A **probability distribution** representing the *generative* model for the outcome variable.  \n",
    "- A **linear model**: $\\eta = \\beta_0 + \\beta_1X_1 + ... + \\beta_nX_n$\n",
    "- A **link function** relating the linear model to the outcome we're interested in. \n",
    "\n",
    "We can design a function that *links* the linear model to a probability score, i.e., $[0, 1]$. "
   ]
  },
  {
   "cell_type": "markdown",
   "id": "79d5cc79",
   "metadata": {
    "slideshow": {
     "slide_type": "slide"
    }
   },
   "source": [
    "#### Quick tour of GLMs\n",
    "\n",
    "There are many different kinds of **generalized linear models**. Some of the most common are:\n",
    "\n",
    "|Model name|Distribution|Link name|Use cases|Example|\n",
    "|---------|------------|---------|--------|--------|\n",
    "|Ordinary linear regression|Normal distribution|Identity|Linear response data|`Height`, `Price`|\n",
    "|Logistic regression|Bernoulli/Binomial|[Logit](https://en.wikipedia.org/wiki/Logit)|Binary response data|`spam`, `fraud`|\n",
    "|Poisson regression|Poisson|[Log](https://en.wikipedia.org/wiki/Natural_logarithm)|Count data|`#words`, `#visitors`|\n",
    "\n",
    "We'll be focusing on **logistic regression**."
   ]
  },
  {
   "cell_type": "markdown",
   "id": "e615f812",
   "metadata": {
    "slideshow": {
     "slide_type": "slide"
    }
   },
   "source": [
    "### Logistic regression\n",
    "\n",
    "- Logistic regression uses a **logit link function**.  \n",
    "\n",
    "$\\Large logit(p) = log(\\frac{p}{1 - p})$  \n",
    "\n",
    "\n",
    "- Where $p$ is the probability of some outcome.\n",
    "- Takes a value between $[0, 1]$ and maps it to a value between $[-\\infty, \\infty]$.  \n",
    "- Also called the **log odds**.  "
   ]
  },
  {
   "cell_type": "markdown",
   "id": "8fe6fb34",
   "metadata": {
    "slideshow": {
     "slide_type": "slide"
    }
   },
   "source": [
    "#### Introducing the *odds*\n",
    "\n",
    "> The **odds** of an event are the ratio of the probability of the event occurring, $p(y)$, to the probability of the event not occuring, $1 - p(y)$.\n",
    "\n",
    "$Odds(p) = \\Large \\frac{p}{1 - p}$\n",
    "\n",
    "Unlike $p$, the **odds** are bounded at $[0, \\infty]$."
   ]
  },
  {
   "cell_type": "code",
   "execution_count": 5,
   "id": "9f0e9265",
   "metadata": {
    "slideshow": {
     "slide_type": "-"
    }
   },
   "outputs": [
    {
     "data": {
      "text/plain": [
       "Text(0.5, 1.0, 'Odds(y) vs. P(y)')"
      ]
     },
     "execution_count": 5,
     "metadata": {},
     "output_type": "execute_result"
    },
    {
     "data": {
      "image/png": "[encoded data removed]",
      "text/plain": [
       "<Figure size 432x288 with 1 Axes>"
      ]
     },
     "metadata": {
      "image/png": {
       "height": 277,
       "width": 382
      },
      "needs_background": "light"
     },
     "output_type": "display_data"
    }
   ],
   "source": [
    "p = np.arange(.01, .99, .01)\n",
    "odds = p / (1 - p)\n",
    "plt.scatter(p, odds)\n",
    "plt.xlabel(\"P(y)\")\n",
    "plt.ylabel(\"Odds(y)\")\n",
    "plt.title(\"Odds(y) vs. P(y)\")"
   ]
  },
  {
   "cell_type": "markdown",
   "id": "1cfd33d7",
   "metadata": {
    "slideshow": {
     "slide_type": "slide"
    }
   },
   "source": [
    "#### Introducing the *log-odds*\n",
    "\n",
    "> The **log-odds** of an event is the **log** of the odds of that event. This is also called the **logit** function.\n",
    "\n",
    "$Logit(p) = log(\\frac{p}{1 - p})$\n",
    "\n",
    "Unlike $p$, the **log-odds** are bounded at $[-\\infty, \\infty]$."
   ]
  },
  {
   "cell_type": "code",
   "execution_count": 6,
   "id": "43db0368",
   "metadata": {
    "slideshow": {
     "slide_type": "-"
    }
   },
   "outputs": [
    {
     "data": {
      "text/plain": [
       "Text(0.5, 1.0, 'Log-odds(y) vs. P(y)')"
      ]
     },
     "execution_count": 6,
     "metadata": {},
     "output_type": "execute_result"
    },
    {
     "data": {
      "image/png": "[encoded data removed]",
      "text/plain": [
       "<Figure size 432x288 with 1 Axes>"
      ]
     },
     "metadata": {
      "image/png": {
       "height": 277,
       "width": 384
      },
      "needs_background": "light"
     },
     "output_type": "display_data"
    }
   ],
   "source": [
    "lo = np.log(p / (1 - p))\n",
    "plt.scatter(p, lo)\n",
    "plt.xlabel(\"P(y)\")\n",
    "plt.ylabel(\"Log-odds(y)\")\n",
    "plt.title(\"Log-odds(y) vs. P(y)\")"
   ]
  },
  {
   "cell_type": "markdown",
   "id": "0b53fcbd",
   "metadata": {
    "slideshow": {
     "slide_type": "slide"
    }
   },
   "source": [
    "#### Check-in\n",
    "\n",
    "Would the log-odds of $p(y) = .6$ be *positive* or *negative*?"
   ]
  },
  {
   "cell_type": "markdown",
   "id": "a5e6b341",
   "metadata": {
    "slideshow": {
     "slide_type": "slide"
    }
   },
   "source": [
    "#### Interpreting the *sign* of log-odds\n",
    "\n",
    "The **sign** of log-odds can be interpreted as reflecting whether $p(y) > .5$ (positive) or $p(y) < .5$ (negative)."
   ]
  },
  {
   "cell_type": "code",
   "execution_count": 7,
   "id": "5d0a7ac6",
   "metadata": {
    "slideshow": {
     "slide_type": "-"
    }
   },
   "outputs": [
    {
     "data": {
      "text/plain": [
       "<matplotlib.lines.Line2D at 0x7f9850f8bf10>"
      ]
     },
     "execution_count": 7,
     "metadata": {},
     "output_type": "execute_result"
    },
    {
     "data": {
      "image/png": "[encoded data removed]",
      "text/plain": [
       "<Figure size 432x288 with 1 Axes>"
      ]
     },
     "metadata": {
      "image/png": {
       "height": 277,
       "width": 384
      },
      "needs_background": "light"
     },
     "output_type": "display_data"
    }
   ],
   "source": [
    "plt.scatter(p, lo)\n",
    "plt.xlabel(\"P(y)\")\n",
    "plt.ylabel(\"Log-odds(y)\")\n",
    "plt.title(\"Log-odds(y) vs. P(y)\")\n",
    "plt.axvline(x = .5, linestyle = \"dotted\")"
   ]
  },
  {
   "cell_type": "markdown",
   "id": "2c44dbf2",
   "metadata": {
    "slideshow": {
     "slide_type": "slide"
    }
   },
   "source": [
    "#### Check-in\n",
    "\n",
    "Is `log-odds(y)` *linearly related* to `p(y)`? Why does this matter?"
   ]
  },
  {
   "cell_type": "markdown",
   "id": "565b765a",
   "metadata": {
    "slideshow": {
     "slide_type": "slide"
    }
   },
   "source": [
    "#### A *non-linear relationship*\n",
    "\n",
    "- The **log-odds** of $y$ is non-linearly related to the **probability** of $y$.  \n",
    "- This means that we *can't* interpret linear changes in *log-odds* as linear changes in *probability*.\n",
    "   - That will be very important when we build logistic regression models."
   ]
  },
  {
   "cell_type": "markdown",
   "id": "aa1e1e78",
   "metadata": {
    "slideshow": {
     "slide_type": "slide"
    }
   },
   "source": [
    "### Introducing the *logistic function*\n",
    "\n",
    "> The [**logistic function**](https://en.wikipedia.org/wiki/Logistic_function) is the *inverse* of the logit function. It converts the *log-odds* back to *probability*.\n",
    "\n",
    "The logistic function is defined as:\n",
    "\n",
    "$\\Large \\frac{e^x}{1 + e^x}$  \n",
    "\n",
    "Where $x$ is the **log-odds** of an event."
   ]
  },
  {
   "cell_type": "markdown",
   "id": "df0f6bae",
   "metadata": {
    "slideshow": {
     "slide_type": "slide"
    }
   },
   "source": [
    "#### Check-in\n",
    "\n",
    "Would applying the logistic function to a log-odds of `1` yield a $p >.5$ or $p < .5$?"
   ]
  },
  {
   "cell_type": "code",
   "execution_count": 8,
   "id": "25c10c92",
   "metadata": {
    "slideshow": {
     "slide_type": "-"
    }
   },
   "outputs": [],
   "source": [
    "### Your code here"
   ]
  },
  {
   "cell_type": "markdown",
   "id": "537af9ee",
   "metadata": {
    "slideshow": {
     "slide_type": "slide"
    }
   },
   "source": [
    "#### Mapping from log-odds to $p$\n",
    "\n",
    "We can use `np.exp(x)` to compute $e^x$."
   ]
  },
  {
   "cell_type": "code",
   "execution_count": 9,
   "id": "21184857",
   "metadata": {
    "slideshow": {
     "slide_type": "-"
    }
   },
   "outputs": [
    {
     "data": {
      "text/plain": [
       "0.7310585786300049"
      ]
     },
     "execution_count": 9,
     "metadata": {},
     "output_type": "execute_result"
    }
   ],
   "source": [
    "lo = 1\n",
    "p = np.exp(lo) / (np.exp(lo) + 1)\n",
    "p ### p is > .5"
   ]
  },
  {
   "cell_type": "markdown",
   "id": "abac722c",
   "metadata": {
    "slideshow": {
     "slide_type": "slide"
    }
   },
   "source": [
    "#### A more general mapping"
   ]
  },
  {
   "cell_type": "code",
   "execution_count": 10,
   "id": "046f6b89",
   "metadata": {
    "slideshow": {
     "slide_type": "-"
    }
   },
   "outputs": [
    {
     "data": {
      "text/plain": [
       "Text(0.5, 1.0, 'Log-odds(Y) vs. P(Y)')"
      ]
     },
     "execution_count": 10,
     "metadata": {},
     "output_type": "execute_result"
    },
    {
     "data": {
      "image/png": "[encoded data removed]",
      "text/plain": [
       "<Figure size 432x288 with 1 Axes>"
      ]
     },
     "metadata": {
      "image/png": {
       "height": 277,
       "width": 385
      },
      "needs_background": "light"
     },
     "output_type": "display_data"
    }
   ],
   "source": [
    "log_odds = np.arange(-10, 10, .1)\n",
    "p = np.exp(log_odds) / (1 + np.exp(log_odds))\n",
    "plt.scatter(log_odds, p, alpha = .5)\n",
    "plt.xlabel(\"Log-odds (Y)\")\n",
    "plt.ylabel(\"P(Y)\")\n",
    "plt.title(\"Log-odds(Y) vs. P(Y)\")"
   ]
  },
  {
   "cell_type": "markdown",
   "id": "c6a27aca",
   "metadata": {
    "slideshow": {
     "slide_type": "slide"
    }
   },
   "source": [
    "### Where does *regression* come into play?\n",
    "\n",
    "With logistic regression, we learn **parameters** $\\beta_0, ..., \\beta_n$ for the following equation:\n",
    "\n",
    "$\\Large log(\\frac{p}{1 - p}) = \\beta_0 + \\beta_1X_1 + \\epsilon$\n",
    "\n",
    "- Our \"dependent variable\" is technically the **log-odds** (logit) of $p$.  \n",
    "- Thus, we are learning a **linear relationship** between $X$ and the **log-odds** of our outcome."
   ]
  },
  {
   "cell_type": "markdown",
   "id": "6c555d77",
   "metadata": {
    "slideshow": {
     "slide_type": "slide"
    }
   },
   "source": [
    "#### Check-in\n",
    "\n",
    "Based on this formulation:\n",
    "\n",
    "$log(\\frac{p}{1 - p}) = \\beta_0 + \\beta_1X_1 + \\epsilon$\n",
    "\n",
    "How would we interpret $\\beta_1 = 1$ with respect to **log odds**?"
   ]
  },
  {
   "cell_type": "markdown",
   "id": "8af32739",
   "metadata": {
    "slideshow": {
     "slide_type": "slide"
    }
   },
   "source": [
    "#### Log-odds ~ $X$ is linear\n",
    "\n",
    "- There is a straightforward linear interpretation between our parameters $\\beta_0, ..., \\beta_n$ and the **log-odds** of our outcome.\n",
    "- That is, if $\\beta_1=1$:\n",
    "   - For each 1-unit increase in $X$, the **log-odds** of our outcome increases by $1$.\n",
    "- If $\\beta_1 = 2$:\n",
    "   - For each 1-unit increase in $X$, the **log-odds** of our outcome increases by $2$.\n",
    "\n"
   ]
  },
  {
   "cell_type": "markdown",
   "id": "456985bf",
   "metadata": {
    "slideshow": {
     "slide_type": "slide"
    }
   },
   "source": [
    "#### Check-in\n",
    "\n",
    "Based on this formulation:\n",
    "\n",
    "$log(\\frac{p}{1 - p}) = \\beta_0 + \\beta_1X_1 + \\epsilon$\n",
    "\n",
    "How would we interpret $\\beta_1 = 1$ with respect to **probability**?"
   ]
  },
  {
   "cell_type": "markdown",
   "id": "72b2059f",
   "metadata": {
    "slideshow": {
     "slide_type": "slide"
    }
   },
   "source": [
    "####  $p$ ~$X$ is *not* linear\n",
    "\n",
    "> The mapping between **log-odds** and $p(y)$ is **not linear**.\n",
    "\n",
    "- This means that we can't interpret our coefficients *linearly* with respect to $p$.  "
   ]
  },
  {
   "cell_type": "code",
   "execution_count": 11,
   "id": "fcae1f95",
   "metadata": {
    "slideshow": {
     "slide_type": "-"
    }
   },
   "outputs": [
    {
     "data": {
      "text/plain": [
       "Text(0.5, 1.0, 'Log-odds(Y) vs. P(Y)')"
      ]
     },
     "execution_count": 11,
     "metadata": {},
     "output_type": "execute_result"
    },
    {
     "data": {
      "image/png": "[encoded data removed]",
      "text/plain": [
       "<Figure size 432x288 with 1 Axes>"
      ]
     },
     "metadata": {
      "image/png": {
       "height": 277,
       "width": 385
      },
      "needs_background": "light"
     },
     "output_type": "display_data"
    }
   ],
   "source": [
    "log_odds = np.arange(-10, 10, .1)\n",
    "p = np.exp(log_odds) / (1 + np.exp(log_odds))\n",
    "plt.scatter(log_odds, p, alpha = .5)\n",
    "plt.xlabel(\"Log-odds (Y)\")\n",
    "plt.ylabel(\"P(Y)\")\n",
    "plt.title(\"Log-odds(Y) vs. P(Y)\")"
   ]
  },
  {
   "cell_type": "markdown",
   "id": "02e29e1c",
   "metadata": {
    "slideshow": {
     "slide_type": "slide"
    }
   },
   "source": [
    "## Logistic regression in Python\n",
    "\n",
    "To perform logistic regression in Python, we can use the `statsmodels` package, which has the `logit` method.\n",
    "\n",
    "```python\n",
    "smf.logit(data = df_name, formula = \"y ~ x\").fit()\n",
    "```\n",
    "\n",
    "Fitting the models is relatively straightforward––the hard(er) part is interpreting them."
   ]
  },
  {
   "cell_type": "markdown",
   "id": "5b7c01bb",
   "metadata": {
    "slideshow": {
     "slide_type": "slide"
    }
   },
   "source": [
    "### Fitting the model\n",
    "\n",
    "To start, let's fit a model predicting `spam` from `num_char` (i.e., how long the message is)."
   ]
  },
  {
   "cell_type": "code",
   "execution_count": 14,
   "id": "6daa1846",
   "metadata": {
    "slideshow": {
     "slide_type": "-"
    }
   },
   "outputs": [
    {
     "name": "stdout",
     "output_type": "stream",
     "text": [
      "Optimization terminated successfully.\n",
      "         Current function value: 0.299210\n",
      "         Iterations 8\n"
     ]
    },
    {
     "data": {
      "text/html": [
       "<table class=\"simpletable\">\n",
       "<caption>Logit Regression Results</caption>\n",
       "<tr>\n",
       "  <th>Dep. Variable:</th>         <td>spam</td>       <th>  No. Observations:  </th>  <td>  3921</td>  \n",
       "</tr>\n",
       "<tr>\n",
       "  <th>Model:</th>                 <td>Logit</td>      <th>  Df Residuals:      </th>  <td>  3919</td>  \n",
       "</tr>\n",
       "<tr>\n",
       "  <th>Method:</th>                 <td>MLE</td>       <th>  Df Model:          </th>  <td>     1</td>  \n",
       "</tr>\n",
       "<tr>\n",
       "  <th>Date:</th>            <td>Fri, 03 Mar 2023</td> <th>  Pseudo R-squ.:     </th>  <td>0.03725</td> \n",
       "</tr>\n",
       "<tr>\n",
       "  <th>Time:</th>                <td>10:17:24</td>     <th>  Log-Likelihood:    </th> <td> -1173.2</td> \n",
       "</tr>\n",
       "<tr>\n",
       "  <th>converged:</th>             <td>True</td>       <th>  LL-Null:           </th> <td> -1218.6</td> \n",
       "</tr>\n",
       "<tr>\n",
       "  <th>Covariance Type:</th>     <td>nonrobust</td>    <th>  LLR p-value:       </th> <td>1.607e-21</td>\n",
       "</tr>\n",
       "</table>\n",
       "<table class=\"simpletable\">\n",
       "<tr>\n",
       "      <td></td>         <th>coef</th>     <th>std err</th>      <th>z</th>      <th>P>|z|</th>  <th>[0.025</th>    <th>0.975]</th>  \n",
       "</tr>\n",
       "<tr>\n",
       "  <th>Intercept</th> <td>   -1.7987</td> <td>    0.072</td> <td>  -25.135</td> <td> 0.000</td> <td>   -1.939</td> <td>   -1.658</td>\n",
       "</tr>\n",
       "<tr>\n",
       "  <th>num_char</th>  <td>   -0.0621</td> <td>    0.008</td> <td>   -7.746</td> <td> 0.000</td> <td>   -0.078</td> <td>   -0.046</td>\n",
       "</tr>\n",
       "</table>"
      ],
      "text/plain": [
       "<class 'statsmodels.iolib.summary.Summary'>\n",
       "\"\"\"\n",
       "                           Logit Regression Results                           \n",
       "==============================================================================\n",
       "Dep. Variable:                   spam   No. Observations:                 3921\n",
       "Model:                          Logit   Df Residuals:                     3919\n",
       "Method:                           MLE   Df Model:                            1\n",
       "Date:                Fri, 03 Mar 2023   Pseudo R-squ.:                 0.03725\n",
       "Time:                        10:17:24   Log-Likelihood:                -1173.2\n",
       "converged:                       True   LL-Null:                       -1218.6\n",
       "Covariance Type:            nonrobust   LLR p-value:                 1.607e-21\n",
       "==============================================================================\n",
       "                 coef    std err          z      P>|z|      [0.025      0.975]\n",
       "------------------------------------------------------------------------------\n",
       "Intercept     -1.7987      0.072    -25.135      0.000      -1.939      -1.658\n",
       "num_char      -0.0621      0.008     -7.746      0.000      -0.078      -0.046\n",
       "==============================================================================\n",
       "\"\"\""
      ]
     },
     "execution_count": 14,
     "metadata": {},
     "output_type": "execute_result"
    }
   ],
   "source": [
    "mod_len = smf.logit(data = df_spam, formula = \"spam ~ num_char\").fit()\n",
    "mod_len.summary()"
   ]
  },
  {
   "cell_type": "markdown",
   "id": "10872c0c",
   "metadata": {
    "slideshow": {
     "slide_type": "slide"
    }
   },
   "source": [
    "### Interpreting the model\n",
    "\n",
    "In this simple model, we can interpret the coefficients as follows:\n",
    "\n",
    "- `Intercept`: the *log-odds* of an email being `spam` when `num_char == 0`.\n",
    "- `num_char`: for every 1-unit increase in `num_char`, how does the *log-odds* of an email being `spam` change?\n",
    "\n",
    "$Y = -1.8 - 0.06*X_{length} + \\epsilon$"
   ]
  },
  {
   "cell_type": "code",
   "execution_count": 21,
   "id": "74bfc74c",
   "metadata": {
    "slideshow": {
     "slide_type": "-"
    }
   },
   "outputs": [
    {
     "data": {
      "text/plain": [
       "Intercept   -1.798738\n",
       "num_char    -0.062071\n",
       "dtype: float64"
      ]
     },
     "execution_count": 21,
     "metadata": {},
     "output_type": "execute_result"
    }
   ],
   "source": [
    "mod_len.params"
   ]
  },
  {
   "cell_type": "markdown",
   "id": "137c4d61",
   "metadata": {
    "slideshow": {
     "slide_type": "slide"
    }
   },
   "source": [
    "#### Check-in\n",
    "\n",
    "Based on these coefficients, what is the predicted **probability** of an utterance being spam when `num_char == 0`?"
   ]
  },
  {
   "cell_type": "code",
   "execution_count": 22,
   "id": "68d04e7a",
   "metadata": {
    "slideshow": {
     "slide_type": "-"
    }
   },
   "outputs": [],
   "source": [
    "### Your code here"
   ]
  },
  {
   "cell_type": "markdown",
   "id": "bc6d76dd",
   "metadata": {
    "slideshow": {
     "slide_type": "slide"
    }
   },
   "source": [
    "#### Deriving $p$ using logistic function\n",
    "\n",
    "To calculate $p(y)$, we need to convert log-odds back to probability."
   ]
  },
  {
   "cell_type": "code",
   "execution_count": 23,
   "id": "0a4b9def",
   "metadata": {
    "slideshow": {
     "slide_type": "-"
    }
   },
   "outputs": [
    {
     "data": {
      "text/plain": [
       "0.1418510649004878"
      ]
     },
     "execution_count": 23,
     "metadata": {},
     "output_type": "execute_result"
    }
   ],
   "source": [
    "log_odds = -1.8 # Just the intercept\n",
    "p = np.exp(log_odds) / (1 + np.exp(log_odds))\n",
    "p"
   ]
  },
  {
   "cell_type": "markdown",
   "id": "bfe06e8f",
   "metadata": {
    "slideshow": {
     "slide_type": "slide"
    }
   },
   "source": [
    "#### Check-in\n",
    "\n",
    "Based on these coefficients, what is the predicted **probability** of an utterance being spam when `num_char == 100`?"
   ]
  },
  {
   "cell_type": "code",
   "execution_count": 24,
   "id": "250fac87",
   "metadata": {
    "slideshow": {
     "slide_type": "-"
    }
   },
   "outputs": [],
   "source": [
    "### Your code here"
   ]
  },
  {
   "cell_type": "markdown",
   "id": "d80cb190",
   "metadata": {
    "slideshow": {
     "slide_type": "slide"
    }
   },
   "source": [
    "#### Deriving $p$ (pt. 2)\n",
    "\n",
    "Here, we need to:\n",
    "\n",
    "- Calculate log-odds by inputting $X$ into the equation.  \n",
    "- Convert log-odds back to probability using the **logistic** function."
   ]
  },
  {
   "cell_type": "code",
   "execution_count": 25,
   "id": "dd0cf246",
   "metadata": {
    "slideshow": {
     "slide_type": "-"
    }
   },
   "outputs": [
    {
     "data": {
      "text/plain": [
       "0.00040956716498605043"
      ]
     },
     "execution_count": 25,
     "metadata": {},
     "output_type": "execute_result"
    }
   ],
   "source": [
    "log_odds = -1.8 - 0.06 * 100\n",
    "p = np.exp(log_odds) / (1 + np.exp(log_odds))\n",
    "p"
   ]
  },
  {
   "cell_type": "markdown",
   "id": "9ac08e58",
   "metadata": {
    "slideshow": {
     "slide_type": "slide"
    }
   },
   "source": [
    "#### Log-odds != probability"
   ]
  },
  {
   "cell_type": "code",
   "execution_count": 42,
   "id": "3443d281",
   "metadata": {
    "slideshow": {
     "slide_type": "-"
    }
   },
   "outputs": [
    {
     "data": {
      "text/plain": [
       "Text(0.5, 0, 'P(spam)')"
      ]
     },
     "execution_count": 42,
     "metadata": {},
     "output_type": "execute_result"
    },
    {
     "data": {
      "image/png": "[encoded data removed]",
      "text/plain": [
       "<Figure size 432x288 with 2 Axes>"
      ]
     },
     "metadata": {
      "image/png": {
       "height": 261,
       "width": 390
      },
      "needs_background": "light"
     },
     "output_type": "display_data"
    }
   ],
   "source": [
    "X = df_spam['num_char']\n",
    "lo = -1.8 - .06 * X\n",
    "p = np.exp(lo) / (1 + np.exp(lo))\n",
    "fig, axes = plt.subplots(1, 2)\n",
    "axes[0].scatter(X, lo)\n",
    "axes[1].scatter(X, p)\n",
    "axes[0].set_xlabel(\"#Characters\")\n",
    "axes[1].set_xlabel(\"#Characters\")\n",
    "axes[0].set_ylabel(\"Log-odds (spam)\")\n",
    "axes[1].set_xlabel(\"P(spam)\")"
   ]
  },
  {
   "cell_type": "markdown",
   "id": "2c39977c",
   "metadata": {
    "slideshow": {
     "slide_type": "slide"
    }
   },
   "source": [
    "### Logistic regression with categorical predictors\n",
    "\n",
    "Instead of using `num_char` (a continuous predictor), we can use a categorical predictor (like `winner`: whether or not an email has the word \"winner\")."
   ]
  },
  {
   "cell_type": "code",
   "execution_count": 43,
   "id": "ad67aec1",
   "metadata": {
    "slideshow": {
     "slide_type": "-"
    }
   },
   "outputs": [
    {
     "name": "stdout",
     "output_type": "stream",
     "text": [
      "Optimization terminated successfully.\n",
      "         Current function value: 0.307661\n",
      "         Iterations 6\n"
     ]
    },
    {
     "data": {
      "text/html": [
       "<table class=\"simpletable\">\n",
       "<caption>Logit Regression Results</caption>\n",
       "<tr>\n",
       "  <th>Dep. Variable:</th>         <td>spam</td>       <th>  No. Observations:  </th>  <td>  3921</td>  \n",
       "</tr>\n",
       "<tr>\n",
       "  <th>Model:</th>                 <td>Logit</td>      <th>  Df Residuals:      </th>  <td>  3919</td>  \n",
       "</tr>\n",
       "<tr>\n",
       "  <th>Method:</th>                 <td>MLE</td>       <th>  Df Model:          </th>  <td>     1</td>  \n",
       "</tr>\n",
       "<tr>\n",
       "  <th>Date:</th>            <td>Fri, 03 Mar 2023</td> <th>  Pseudo R-squ.:     </th>  <td>0.01005</td> \n",
       "</tr>\n",
       "<tr>\n",
       "  <th>Time:</th>                <td>11:18:58</td>     <th>  Log-Likelihood:    </th> <td> -1206.3</td> \n",
       "</tr>\n",
       "<tr>\n",
       "  <th>converged:</th>             <td>True</td>       <th>  LL-Null:           </th> <td> -1218.6</td> \n",
       "</tr>\n",
       "<tr>\n",
       "  <th>Covariance Type:</th>     <td>nonrobust</td>    <th>  LLR p-value:       </th> <td>7.410e-07</td>\n",
       "</tr>\n",
       "</table>\n",
       "<table class=\"simpletable\">\n",
       "<tr>\n",
       "        <td></td>           <th>coef</th>     <th>std err</th>      <th>z</th>      <th>P>|z|</th>  <th>[0.025</th>    <th>0.975]</th>  \n",
       "</tr>\n",
       "<tr>\n",
       "  <th>Intercept</th>     <td>   -2.3140</td> <td>    0.056</td> <td>  -41.121</td> <td> 0.000</td> <td>   -2.424</td> <td>   -2.204</td>\n",
       "</tr>\n",
       "<tr>\n",
       "  <th>winner[T.yes]</th> <td>    1.5256</td> <td>    0.275</td> <td>    5.538</td> <td> 0.000</td> <td>    0.986</td> <td>    2.066</td>\n",
       "</tr>\n",
       "</table>"
      ],
      "text/plain": [
       "<class 'statsmodels.iolib.summary.Summary'>\n",
       "\"\"\"\n",
       "                           Logit Regression Results                           \n",
       "==============================================================================\n",
       "Dep. Variable:                   spam   No. Observations:                 3921\n",
       "Model:                          Logit   Df Residuals:                     3919\n",
       "Method:                           MLE   Df Model:                            1\n",
       "Date:                Fri, 03 Mar 2023   Pseudo R-squ.:                 0.01005\n",
       "Time:                        11:18:58   Log-Likelihood:                -1206.3\n",
       "converged:                       True   LL-Null:                       -1218.6\n",
       "Covariance Type:            nonrobust   LLR p-value:                 7.410e-07\n",
       "=================================================================================\n",
       "                    coef    std err          z      P>|z|      [0.025      0.975]\n",
       "---------------------------------------------------------------------------------\n",
       "Intercept        -2.3140      0.056    -41.121      0.000      -2.424      -2.204\n",
       "winner[T.yes]     1.5256      0.275      5.538      0.000       0.986       2.066\n",
       "=================================================================================\n",
       "\"\"\""
      ]
     },
     "execution_count": 43,
     "metadata": {},
     "output_type": "execute_result"
    }
   ],
   "source": [
    "mod_winner = smf.logit(data = df_spam, formula = \"spam ~ winner\").fit()\n",
    "mod_winner.summary()"
   ]
  },
  {
   "cell_type": "markdown",
   "id": "2474e93a",
   "metadata": {
    "slideshow": {
     "slide_type": "slide"
    }
   },
   "source": [
    "#### Check-in\n",
    "\n",
    "How should we interpret the **parameters** of this model? "
   ]
  },
  {
   "cell_type": "code",
   "execution_count": 44,
   "id": "50e4ce18",
   "metadata": {
    "slideshow": {
     "slide_type": "-"
    }
   },
   "outputs": [],
   "source": [
    "### Your code here"
   ]
  },
  {
   "cell_type": "markdown",
   "id": "f847e76d",
   "metadata": {
    "slideshow": {
     "slide_type": "slide"
    }
   },
   "source": [
    "#### Interpreting $\\beta$ for categorical predictors\n",
    "\n",
    "As with *linear regression*, the $\\beta$ for a categorical predictor means **predicted change in log-odds relative to the `Intercept`**\n",
    "\n",
    "- Here, $\\beta_0$ is the **predicted log-odds** when `winner == no`.  \n",
    "- $\\beta_1 is the **predicted change in log-odds** (relative to the `Intercept`) when `winner == yes`.\n"
   ]
  },
  {
   "cell_type": "code",
   "execution_count": 46,
   "id": "d81aeef0",
   "metadata": {
    "slideshow": {
     "slide_type": "-"
    }
   },
   "outputs": [
    {
     "data": {
      "text/plain": [
       "Intercept       -2.314047\n",
       "winner[T.yes]    1.525589\n",
       "dtype: float64"
      ]
     },
     "execution_count": 46,
     "metadata": {},
     "output_type": "execute_result"
    }
   ],
   "source": [
    "mod_winner.params"
   ]
  },
  {
   "cell_type": "markdown",
   "id": "6ef667db",
   "metadata": {
    "slideshow": {
     "slide_type": "slide"
    }
   },
   "source": [
    "#### Check-in\n",
    "\n",
    "According to the model, what is $p(spam)$ for emails that don't have the word `winner`?"
   ]
  },
  {
   "cell_type": "code",
   "execution_count": 47,
   "id": "7c818c57",
   "metadata": {},
   "outputs": [],
   "source": [
    "### Your code here"
   ]
  },
  {
   "cell_type": "markdown",
   "id": "ca067485",
   "metadata": {
    "slideshow": {
     "slide_type": "slide"
    }
   },
   "source": [
    "#### Solution"
   ]
  },
  {
   "cell_type": "code",
   "execution_count": 48,
   "id": "595e3d37",
   "metadata": {},
   "outputs": [
    {
     "data": {
      "text/plain": [
       "0.08996629504796422"
      ]
     },
     "execution_count": 48,
     "metadata": {},
     "output_type": "execute_result"
    }
   ],
   "source": [
    "lo = mod_winner.params['Intercept']\n",
    "np.exp(lo) / (np.exp(lo) + 1)"
   ]
  },
  {
   "cell_type": "markdown",
   "id": "02405d8a",
   "metadata": {
    "slideshow": {
     "slide_type": "slide"
    }
   },
   "source": [
    "#### Check-in\n",
    "\n",
    "According to the model, what is $p(spam)$ for emails that **do** have the word `winner`?"
   ]
  },
  {
   "cell_type": "code",
   "execution_count": 49,
   "id": "b0c88ed7",
   "metadata": {
    "slideshow": {
     "slide_type": "-"
    }
   },
   "outputs": [],
   "source": [
    "### Your code here"
   ]
  },
  {
   "cell_type": "markdown",
   "id": "b422edb3",
   "metadata": {
    "slideshow": {
     "slide_type": "slide"
    }
   },
   "source": [
    "#### Solution"
   ]
  },
  {
   "cell_type": "code",
   "execution_count": 51,
   "id": "ee8634d0",
   "metadata": {
    "slideshow": {
     "slide_type": "-"
    }
   },
   "outputs": [
    {
     "data": {
      "text/plain": [
       "0.31250000000000006"
      ]
     },
     "execution_count": 51,
     "metadata": {},
     "output_type": "execute_result"
    }
   ],
   "source": [
    "lo = mod_winner.params['Intercept'] + mod_winner.params['winner[T.yes]']\n",
    "np.exp(lo) / (np.exp(lo) + 1)"
   ]
  },
  {
   "cell_type": "markdown",
   "id": "d3245b47",
   "metadata": {
    "slideshow": {
     "slide_type": "slide"
    }
   },
   "source": [
    "### Generating predictions\n",
    "\n",
    "By default, `predict()` will generate predicted $p$."
   ]
  },
  {
   "cell_type": "code",
   "execution_count": 53,
   "id": "f22e3803",
   "metadata": {
    "slideshow": {
     "slide_type": "-"
    }
   },
   "outputs": [
    {
     "data": {
      "text/plain": [
       "<matplotlib.collections.PathCollection at 0x7f9874c08cd0>"
      ]
     },
     "execution_count": 53,
     "metadata": {},
     "output_type": "execute_result"
    },
    {
     "data": {
      "image/png": "[encoded data removed]",
      "text/plain": [
       "<Figure size 432x288 with 1 Axes>"
      ]
     },
     "metadata": {
      "image/png": {
       "height": 248,
       "width": 378
      },
      "needs_background": "light"
     },
     "output_type": "display_data"
    }
   ],
   "source": [
    "plt.scatter(df_spam['num_char'], mod_len.predict())"
   ]
  },
  {
   "cell_type": "markdown",
   "id": "05fe6ab8",
   "metadata": {
    "slideshow": {
     "slide_type": "slide"
    }
   },
   "source": [
    "## Conclusion\n",
    "\n",
    "- Many use-cases of statistical modeling involve a **categorical** response variable.\n",
    "- **Logistic regression** can be used for binary classication tasks.\n",
    "   - Logistic regression is a **generalized linear model** (GLM).\n",
    "   - Predicts the *log-odds* of $Y$ as a linear function of $X$.\n",
    "   - Log-odds can be converted to $p$ using the **logistic function**."
   ]
  }
 ],
 "metadata": {
  "celltoolbar": "Slideshow",
  "kernelspec": {
   "display_name": "Python 3 (ipykernel)",
   "language": "python",
   "name": "python3"
  },
  "language_info": {
   "codemirror_mode": {
    "name": "ipython",
    "version": 3
   },
   "file_extension": ".py",
   "mimetype": "text/x-python",
   "name": "python",
   "nbconvert_exporter": "python",
   "pygments_lexer": "ipython3",
   "version": "3.9.12"
  }
 },
 "nbformat": 4,
 "nbformat_minor": 5
}
