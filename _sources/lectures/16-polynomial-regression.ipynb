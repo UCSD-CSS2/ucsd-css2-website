{
 "cells": [
  {
   "cell_type": "markdown",
   "id": "565fd595",
   "metadata": {
    "slideshow": {
     "slide_type": "slide"
    }
   },
   "source": [
    "# Polynomial regression"
   ]
  },
  {
   "cell_type": "markdown",
   "id": "0e698b4b",
   "metadata": {
    "slideshow": {
     "slide_type": "slide"
    }
   },
   "source": [
    "## Goals of this lecture\n",
    " \n",
    "- Non-linear relationships: why do we care?  \n",
    "- Accommodating non-linear relationships in the **linear regression equation**.  \n",
    "- Challenges with polynomial regression:\n",
    "   - Over-fitting.  \n",
    "   - Bias-variance trade-off."
   ]
  },
  {
   "cell_type": "code",
   "execution_count": null,
   "id": "15c4407c",
   "metadata": {},
   "outputs": [],
   "source": []
  },
  {
   "cell_type": "code",
   "execution_count": null,
   "id": "ba236f07",
   "metadata": {},
   "outputs": [],
   "source": []
  },
  {
   "cell_type": "code",
   "execution_count": 70,
   "id": "2b2ce2cd",
   "metadata": {
    "slideshow": {
     "slide_type": "-"
    }
   },
   "outputs": [],
   "source": [
    "mod_poly = smf.ols(data = df_housing,\n",
    "                     formula = \"median_house_value ~ housing_median_age + I(housing_median_age**2) + I(housing_median_age**3)\").fit()"
   ]
  },
  {
   "cell_type": "code",
   "execution_count": 1,
   "id": "c957758f",
   "metadata": {},
   "outputs": [],
   "source": [
    "### Explanation: https://stackoverflow.com/questions/32484244/reciprocals-in-patsy/36539093#36539093"
   ]
  },
  {
   "cell_type": "markdown",
   "id": "eacbb9b6",
   "metadata": {
    "slideshow": {
     "slide_type": "slide"
    }
   },
   "source": [
    "See chapter 7 of ISLR."
   ]
  },
  {
   "cell_type": "markdown",
   "id": "f70e26ac",
   "metadata": {
    "slideshow": {
     "slide_type": "slide"
    }
   },
   "source": [
    "Other problems (ISLR, pg. 93):\n",
    "\n",
    "1. Non-linearity\n",
    "2. Correlation of error terms\n",
    "3. Heteroscedasticity\n",
    "4. Outliers\n",
    "5. High-leverage points\n",
    "6. Collinearity"
   ]
  },
  {
   "cell_type": "code",
   "execution_count": null,
   "id": "ff8f4367",
   "metadata": {},
   "outputs": [],
   "source": []
  }
 ],
 "metadata": {
  "kernelspec": {
   "display_name": "Python 3 (ipykernel)",
   "language": "python",
   "name": "python3"
  },
  "language_info": {
   "codemirror_mode": {
    "name": "ipython",
    "version": 3
   },
   "file_extension": ".py",
   "mimetype": "text/x-python",
   "name": "python",
   "nbconvert_exporter": "python",
   "pygments_lexer": "ipython3",
   "version": "3.9.12"
  }
 },
 "nbformat": 4,
 "nbformat_minor": 5
}
