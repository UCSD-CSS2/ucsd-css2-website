{
 "cells": [
  {
   "cell_type": "markdown",
   "id": "565fd595",
   "metadata": {},
   "source": [
    "# Introduction to linear regression"
   ]
  },
  {
   "cell_type": "code",
   "execution_count": null,
   "id": "3994dd9e",
   "metadata": {},
   "outputs": [],
   "source": []
  },
  {
   "cell_type": "code",
   "execution_count": null,
   "id": "8b272d8e",
   "metadata": {},
   "outputs": [],
   "source": []
  },
  {
   "cell_type": "code",
   "execution_count": null,
   "id": "4f96ba79",
   "metadata": {},
   "outputs": [],
   "source": []
  },
  {
   "cell_type": "code",
   "execution_count": null,
   "id": "7bf2f8d0",
   "metadata": {},
   "outputs": [],
   "source": []
  },
  {
   "cell_type": "code",
   "execution_count": null,
   "id": "655e1815",
   "metadata": {},
   "outputs": [],
   "source": []
  },
  {
   "cell_type": "markdown",
   "id": "d80bced9",
   "metadata": {},
   "source": [
    "Outline for lecture 1:\n",
    "\n",
    "- From descriptive statistics and \"tests\" to **models**. Key insights:\n",
    "   - Models as generative accounts of the data.\n",
    "   - Models as **predictive**. \n",
    "   - Models as having **error**: predictions aren't always right.\n",
    "   - Some models are better than others.\n",
    "      - Models as \"golems\".\n",
    "- Introduction to linear regression:\n",
    "   - Basic linear equation. \n",
    "   - Key assumption is *linearity*.\n",
    "   - Understanding and interpreting coefficients with simulated data.\n",
    "      - Again, models as *generative*.\n",
    "   - **Residuals**: what the model gets wrong.  \n",
    "      - **Line of best fit**.  \n",
    "      - Looking back: comparing \"average squared residuals\" to standard deviation.\n",
    "      - Looking ahead: \"average squared residuals\" as a measure of model fit.\n",
    "- High-level: assumptions of linear regression\n",
    "   - Linearity\n",
    "   - Normality of *residuals* (emphasize the equation here).\n",
    "   - Homoscedasticity (again, emphasize the importance for **evaluating the model**). \n",
    "- Fitting a linear model with `statsmodels`..."
   ]
  },
  {
   "cell_type": "markdown",
   "id": "60885e08",
   "metadata": {},
   "source": [
    "Outline for lecture 2:\n",
    "\n",
    "- Fitting and interpreting linear models.\n",
    "   - Interpreting intercept.\n",
    "   - Interpreting slopes.\n",
    "      - Categorical predictors.\n",
    "      - Continuous predictors.\n",
    "   - Use *lots* of examples.\n",
    "- Other information the model gives us:\n",
    "   - Standard errors for coefficients.\n",
    "   - p-values for coefficients.\n",
    "   - $R^2$.  \n",
    "- Extracting *predictions* from the model."
   ]
  },
  {
   "cell_type": "markdown",
   "id": "e2939114",
   "metadata": {},
   "source": [
    "Outline for lecture 3:\n",
    "\n",
    "- Calculating residual standard error.  \n",
    "- A return to homoscedasticity and why it matters.  \n",
    "- More examples with univariate linear regression."
   ]
  },
  {
   "cell_type": "code",
   "execution_count": null,
   "id": "5f9a1431",
   "metadata": {},
   "outputs": [],
   "source": []
  }
 ],
 "metadata": {
  "celltoolbar": "Slideshow",
  "kernelspec": {
   "display_name": "Python 3 (ipykernel)",
   "language": "python",
   "name": "python3"
  },
  "language_info": {
   "codemirror_mode": {
    "name": "ipython",
    "version": 3
   },
   "file_extension": ".py",
   "mimetype": "text/x-python",
   "name": "python",
   "nbconvert_exporter": "python",
   "pygments_lexer": "ipython3",
   "version": "3.9.12"
  }
 },
 "nbformat": 4,
 "nbformat_minor": 5
}
