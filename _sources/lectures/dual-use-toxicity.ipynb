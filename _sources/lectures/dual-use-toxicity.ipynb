{
 "cells": [
  {
   "cell_type": "markdown",
   "id": "f23ace68",
   "metadata": {
    "slideshow": {
     "slide_type": "slide"
    }
   },
   "source": [
    "## Dual use, and other harms relating to \"Big Data\""
   ]
  },
  {
   "cell_type": "markdown",
   "id": "8244eeb4",
   "metadata": {
    "slideshow": {
     "slide_type": "slide"
    }
   },
   "source": [
    "- Dual use: GPT-3, etc.\n",
    "- [Cambridge Analytica](https://www.wired.com/story/cambridge-analytica-facebook-privacy-awakening/)\n",
    "   - Toxic language: https://arxiv.org/abs/2009.11462\n",
    "   - More general problems with out-sourcing all these decisions to models/algorithms.\n",
    "      - [Hiring](https://www.theguardian.com/science/2016/sep/01/how-algorithms-rule-our-working-lives)\n",
    "  - [Creation of echo chambers / propaganda](https://www.theguardian.com/news/2018/mar/17/data-war-whistleblower-christopher-wylie-faceook-nix-bannon-trump)\n",
    "  - [Surveillance and weapons research](https://techcrunch.com/2018/06/07/googles-new-ai-principles-forbid-its-use-in-weapons-and-human-rights-violations/)\n",
    "  \n",
    "The problem is of course bad data. People are biased and that shows up in the language. But we also need to not be fatalistic about this––there are things we can and should do."
   ]
  },
  {
   "cell_type": "code",
   "execution_count": null,
   "id": "78f0f3cf",
   "metadata": {},
   "outputs": [],
   "source": []
  }
 ],
 "metadata": {
  "kernelspec": {
   "display_name": "Python 3 (ipykernel)",
   "language": "python",
   "name": "python3"
  },
  "language_info": {
   "codemirror_mode": {
    "name": "ipython",
    "version": 3
   },
   "file_extension": ".py",
   "mimetype": "text/x-python",
   "name": "python",
   "nbconvert_exporter": "python",
   "pygments_lexer": "ipython3",
   "version": "3.9.12"
  }
 },
 "nbformat": 4,
 "nbformat_minor": 5
}
