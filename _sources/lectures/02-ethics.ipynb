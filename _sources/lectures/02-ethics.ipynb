{
 "cells": [
  {
   "cell_type": "markdown",
   "id": "df1d774f",
   "metadata": {
    "slideshow": {
     "slide_type": "slide"
    }
   },
   "source": [
    "# 02-Ethics (Bias)"
   ]
  },
  {
   "cell_type": "code",
   "execution_count": 1,
   "id": "8362b214",
   "metadata": {
    "slideshow": {
     "slide_type": "skip"
    }
   },
   "outputs": [
    {
     "name": "stderr",
     "output_type": "stream",
     "text": [
      "/opt/anaconda3/lib/python3.9/site-packages/scipy/__init__.py:146: UserWarning: A NumPy version >=1.16.5 and <1.23.0 is required for this version of SciPy (detected version 1.23.1\n",
      "  warnings.warn(f\"A NumPy version >={np_minversion} and <{np_maxversion}\"\n"
     ]
    }
   ],
   "source": [
    "import seaborn as sns\n",
    "import numpy as np\n",
    "import pandas as pd\n",
    "import matplotlib.pyplot as plt\n",
    "%matplotlib inline\n",
    "%config InlineBackend.figure_format = 'retina'  # makes figs nicer!"
   ]
  },
  {
   "cell_type": "markdown",
   "id": "85036752",
   "metadata": {
    "slideshow": {
     "slide_type": "slide"
    }
   },
   "source": [
    "## Goals of this lecture\n",
    "\n",
    "- Case Study 1: How machine learning can perpetuate inequality.\n",
    "- What is ethics and why does it matter for CSS?\n",
    "- Bias in action: where does it come from? \n",
    "- Exploring **fairness**."
   ]
  },
  {
   "cell_type": "markdown",
   "id": "cba73659",
   "metadata": {
    "slideshow": {
     "slide_type": "slide"
    }
   },
   "source": [
    "## Case Study 1: How machine learning can perpetuate inequality in the court system"
   ]
  },
  {
   "cell_type": "markdown",
   "id": "28ca661f",
   "metadata": {
    "slideshow": {
     "slide_type": "slide"
    }
   },
   "source": [
    "### The court system involves life-altering decisions\n",
    "\n",
    "- In the USA, judges make life-altering decisions about defendants:\n",
    "  - [Determining **bail amounts**](https://en.wikipedia.org/wiki/Bail)\n",
    "  - [Determining **sentence length**](https://www.justice.gov/usao/justice-101/sentencing)\n",
    "- These decisions are often [**biased** and can perpetuate racial inequality.](https://www.brennancenter.org/our-work/analysis-opinion/bfd-criminal-justice-reform?ms=gad_sentencing%20reform_617065346569_8628877148_145936558771) \n",
    "- More recently, some researchers and companies have offered a \"solution\": **risk scores**."
   ]
  },
  {
   "cell_type": "markdown",
   "id": "2ba2a5b4",
   "metadata": {
    "slideshow": {
     "slide_type": "slide"
    }
   },
   "source": [
    "### How risk scores work\n",
    "\n",
    "> A **risk score** is a number (usually assigned by a statistical model) that estimates the *likelihood* that someone will commit another crime.\n",
    "\n",
    "These models take various factors as **input**, including:\n",
    "\n",
    "- The defendant's age.  \n",
    "- The defendant's history of misconduct.  \n",
    "\n",
    "As **output**, they produce a score, i.e., the **probability of re-offending**."
   ]
  },
  {
   "cell_type": "markdown",
   "id": "c0593359",
   "metadata": {
    "slideshow": {
     "slide_type": "slide"
    }
   },
   "source": [
    "### The problem(s) with risk scores\n",
    "\n",
    "**Problem 1**: They're often not very accurate.\n",
    "\n",
    "> The score proved remarkably unreliable in forecasting violent crime: Only 20 percent of the people predicted to commit violent crimes actually went on to do so.\n",
    "\n",
    "**Problem 2**: The *way* in which they're inaccurate is **racially biased**.\n",
    "\n",
    "> In forecasting who would re-offend, the algorithm made mistakes with black and white defendants at roughly the same rate but in very different ways.\n",
    "\n",
    "[Source: Propublica](https://www.propublica.org/article/machine-bias-risk-assessments-in-criminal-sentencing)\n"
   ]
  },
  {
   "cell_type": "markdown",
   "id": "8238afd4",
   "metadata": {
    "slideshow": {
     "slide_type": "slide"
    }
   },
   "source": [
    "### Brief detour: types of errors\n",
    "\n",
    "When running a test (e.g., a COVID test), you can make two kinds of errors:\n",
    "\n",
    "- A **false negative (FN)** is when you have COVID but the test says you don't.  \n",
    "- A **false positive (FP)** is when you don't have COVID but the test says you do.\n",
    "\n",
    "![title](img/detection.png)\n",
    "\n"
   ]
  },
  {
   "cell_type": "markdown",
   "id": "b9bbf83a",
   "metadata": {
    "slideshow": {
     "slide_type": "slide"
    }
   },
   "source": [
    "### Check-in\n",
    "\n",
    "How would these kinds of errors map onto the **risk score** case we've been discussing?"
   ]
  },
  {
   "cell_type": "markdown",
   "id": "23b8d3aa",
   "metadata": {
    "slideshow": {
     "slide_type": "slide"
    }
   },
   "source": [
    "### Error types and risk scores\n",
    "\n",
    "In the case of **risk scores**:\n",
    "\n",
    "- A **false negative** = predicting that someone *won't* reoffend, but they do.\n",
    "- A **false positive** = predicting that someone *will* reoffend, but they don't.\n",
    "\n",
    "Which kind of error do you think is worse?"
   ]
  },
  {
   "cell_type": "markdown",
   "id": "f6c8aeb0",
   "metadata": {
    "slideshow": {
     "slide_type": "slide"
    }
   },
   "source": [
    "### Racial bias in error types\n",
    "\n",
    "Overall **prediction accuracy** was similar across race, but *not* the **type of error**:\n",
    "\n",
    "![title](img/bias_northpointe.png)\n",
    "\n",
    "[Source: Propublica](https://www.propublica.org/article/machine-bias-risk-assessments-in-criminal-sentencing)\n"
   ]
  },
  {
   "cell_type": "markdown",
   "id": "852a75ce",
   "metadata": {
    "slideshow": {
     "slide_type": "slide"
    }
   },
   "source": [
    "### Risk scores can perpetuate racial injustice\n",
    "\n",
    "- Risk scores are **racially biased** in the types of errors they make.  \n",
    "- This is **unjust**: it means that decisions about *sentencing* and *bail* could also be racially biased.  \n",
    "\n",
    "But if it's [illegal to discriminate on the basis of race](https://www.dol.gov/agencies/oasam/civil-rights-center/statutes/civil-rights-act-of-1964), how are these risk scores allowed?\n"
   ]
  },
  {
   "cell_type": "markdown",
   "id": "35e6fe64",
   "metadata": {
    "slideshow": {
     "slide_type": "slide"
    }
   },
   "source": [
    "#### Problem 1: Proxy discrimination\n",
    "\n",
    "- Risk assessment models usually don't **explicitly** include race as a factor.\n",
    "- Instead, they include **correlates** of race (such as ZIP code).\n",
    "   - This is called **redundant encoding** or [**proxy discrimination**](https://ilr.law.uiowa.edu/assets/Uploads/ILR-105-3-Prince-Schwarcz-6.pdf).\n",
    "- Because of historical racial injustices, these correlates are also correlated with reoffense. \n",
    "\n",
    "> Now populations that have historically been **disproportionately targeted by law enforcement**—especially low-income and minority communities—are at risk of being slapped with high recidivism scores. As a result, **the algorithm could amplify and perpetuate embedded biases and generate even more bias-tainted data** to feed a vicious cycle.\n",
    "\n",
    "[Source: MIT Technology Review](https://www.technologyreview.com/2019/01/21/137783/algorithms-criminal-justice-ai/)\n"
   ]
  },
  {
   "cell_type": "markdown",
   "id": "873432f1",
   "metadata": {
    "slideshow": {
     "slide_type": "slide"
    }
   },
   "source": [
    "#### Problem 2: Opaque models\n",
    "\n",
    "- This software is also typically *proprietary*, so [we don't know exactly what goes into the models](https://en.wikipedia.org/wiki/Black_box).   \n",
    "- This makes it near-impossible to \"cross-examine\" a model.\n",
    "   - Violation of [procedural due process](https://en.wikipedia.org/wiki/Procedural_due_process)?\n",
    "\n",
    "[Source: MIT Technology Review](https://www.technologyreview.com/2019/01/21/137783/algorithms-criminal-justice-ai/)\n"
   ]
  },
  {
   "cell_type": "markdown",
   "id": "00ca4abb",
   "metadata": {
    "slideshow": {
     "slide_type": "slide"
    }
   },
   "source": [
    "### Summing up\n",
    "\n",
    "- Human judges are subject to bias (including **racial bias**).\n",
    "- **Risk scores** are an attempt to make this process \"objective\".  \n",
    "- Yet many models are **opaque**, potentially violating [due process](https://en.wikipedia.org/wiki/Procedural_due_process).\n",
    "- Despite equivalent **predictive accuracy** across race, many exhibit racial bias in which **types of errors** they make.\n",
    "- The use of these models thus **entrenches** pre-existing biases.\n",
    "\n",
    "Addressing these issues requires discussing of our **values**––this is where **ethics** comes in."
   ]
  },
  {
   "cell_type": "markdown",
   "id": "9f333e32",
   "metadata": {
    "slideshow": {
     "slide_type": "slide"
    }
   },
   "source": [
    "## What is ethics?\n",
    "\n",
    "The term **\"ethics\"** can refer to:\n",
    "\n",
    "- A [**philosophical discipline**](https://en.wikipedia.org/wiki/Ethics) concerned with what is right and what is wrong.\n",
    "   - Many ethical *theories*: [virtue ethics](https://en.wikipedia.org/wiki/Virtue_ethics), [consequentialism](https://en.wikipedia.org/wiki/Consequentialism), [deontology](https://en.wikipedia.org/wiki/Deontology) and [more](https://en.wikipedia.org/wiki/Ethics#Normative_ethics). \n",
    "- Any given **system of ethical values**, i.e., the *result* of reasoning about what's right and wrong.\n",
    "\n",
    "**\"Applied ethics\"** involves ethics in the \"real world\".\n",
    "\n",
    "- [Bioethics](https://en.wikipedia.org/wiki/Bioethics), [business ethics](https://en.wikipedia.org/wiki/Business_ethics), [machine ethics](https://en.wikipedia.org/wiki/Machine_ethics), and more.\n",
    "- Here at UCSD, we have the [**Institute for Practical Ethics**](https://ipe.ucsd.edu/), which includes research on [ethics for Data Science](https://ipe.ucsd.edu/research/data-science.html)."
   ]
  },
  {
   "cell_type": "markdown",
   "id": "5b9dd46d",
   "metadata": {
    "slideshow": {
     "slide_type": "slide"
    }
   },
   "source": [
    "## Why ethics for CSS?"
   ]
  },
  {
   "cell_type": "markdown",
   "id": "bdc91308",
   "metadata": {
    "slideshow": {
     "slide_type": "slide"
    }
   },
   "source": [
    "### Reason 1: CSS has impact\n",
    "\n",
    "In CSS, our work can have **real-world impact**.\n",
    "\n",
    "- Is this impact *positive*?  \n",
    "- Does this work have the potential to *cause harm*?  \n",
    "- How does the potential harm compare to *current harms*?"
   ]
  },
  {
   "cell_type": "markdown",
   "id": "7023587a",
   "metadata": {
    "slideshow": {
     "slide_type": "slide"
    }
   },
   "source": [
    "### Reason 2: CSS involves hard decisions\n",
    "\n",
    "We also face many **difficult questions**.\n",
    "\n",
    "- Does this work perpetuate *bias*? What exactly is *fairness*? (Today)\n",
    "- Does this work violate *privacy* or have harmful potential for *dual use*? (Next lecture)\n",
    "- Am I conducting my data analysis *honestly* and *fairly*? (Throughout course + week 10)\n",
    "   - How should I treat missing data?\n",
    "   - Is my sample *representative*?"
   ]
  },
  {
   "cell_type": "markdown",
   "id": "37391635",
   "metadata": {
    "slideshow": {
     "slide_type": "slide"
    }
   },
   "source": [
    "### Why we *start* with ethics\n",
    "\n",
    "- Throughout this course, we'll learn about:\n",
    "   - **Acquiring** and **representing** types of data.  \n",
    "   - **Analyzing** and **interpreting** data.  \n",
    "   - Building **predictive models** of data.\n",
    "- Each of these processes involves *decisions*. \n",
    "- **Ethics should be at the forefront of our minds** while making these decisions––not an after-thought."
   ]
  },
  {
   "cell_type": "markdown",
   "id": "680588ff",
   "metadata": {
    "slideshow": {
     "slide_type": "slide"
    }
   },
   "source": [
    "## Bias in Action"
   ]
  },
  {
   "cell_type": "markdown",
   "id": "49674b27",
   "metadata": {
    "slideshow": {
     "slide_type": "slide"
    }
   },
   "source": [
    "### When the past is biased\n",
    "\n",
    "When **making predictions**, we often rely on information about the *past* to predict the *future*.\n",
    "\n",
    "- **Risk scores**: will this person re-offend?\n",
    "- **Hiring**: will this person be a successful employee?\n",
    "- **Loans**: will this person pay back their debt?\n",
    "\n",
    "But what happens when the **past is biased**?"
   ]
  },
  {
   "cell_type": "markdown",
   "id": "3a07ea43",
   "metadata": {
    "slideshow": {
     "slide_type": "slide"
    }
   },
   "source": [
    "### Racial bias in recidivism predictions\n",
    "\n",
    "Overall **prediction accuracy** was similar across race, but *not* the **type of error**:\n",
    "\n",
    "![title](img/bias_northpointe.png)\n",
    "\n",
    "[Source: Propublica](https://www.propublica.org/article/machine-bias-risk-assessments-in-criminal-sentencing)\n"
   ]
  },
  {
   "cell_type": "markdown",
   "id": "6f47be38",
   "metadata": {
    "slideshow": {
     "slide_type": "slide"
    }
   },
   "source": [
    "### Gender bias in hiring\n",
    "\n",
    "**Problem**: Hiring talented people is hard; we also know that interviewers are subject to bias.\n",
    "\n",
    "**\"Solution\"**: Can we automate this with a resume screening tool?\n",
    "\n",
    "- Look at past and current employees.\n",
    "- Which features of their resume are predictive of their hiring/success?\n",
    "\n",
    "Any potential issues with this?\n",
    "\n",
    "[Source: Reuters](https://www.reuters.com/article/us-amazon-com-jobs-automation-insight/amazon-scraps-secret-ai-recruiting-tool-that-showed-bias-against-women-idUSKCN1MK08G)"
   ]
  },
  {
   "cell_type": "markdown",
   "id": "b7d584cd",
   "metadata": {
    "slideshow": {
     "slide_type": "slide"
    }
   },
   "source": [
    "Hiring is already **biased**––using current data to inform future hiring will just **entrench** that bias.\n",
    "\n",
    "![title](img/gender.png)\n",
    "\n",
    "[Source: Reuters](https://www.reuters.com/article/us-amazon-com-jobs-automation-insight/amazon-scraps-secret-ai-recruiting-tool-that-showed-bias-against-women-idUSKCN1MK08G)"
   ]
  },
  {
   "cell_type": "markdown",
   "id": "76ec0d33",
   "metadata": {
    "slideshow": {
     "slide_type": "slide"
    }
   },
   "source": [
    "#### Check-in\n",
    "\n",
    "What about if we *explicitly removed* features like self-identified gender from a model? Could such a model still be gender-biased?"
   ]
  },
  {
   "cell_type": "markdown",
   "id": "b802321b",
   "metadata": {
    "slideshow": {
     "slide_type": "slide"
    }
   },
   "source": [
    "### Class and racial bias in lending\n",
    "\n",
    "Assessing **credit risk** is important:\n",
    "\n",
    "> The correct estimation of credit risk is paramount for the entire system. Failing in the credit risk estimation can lead to systemic failures such as the sub-prime crisis of 2008. \n",
    "\n",
    "Hard to determine the right threshold for acceptable risk:\n",
    "\n",
    "- Overly *lenient* thresholds can lead to **defaults** and trap borrowers in debt.\n",
    "- Overly *strict* thresholds can **lock out** potential borrowers from building wealth.\n",
    "\n",
    "[Source: Shi et al. (2022)](https://link.springer.com/article/10.1007/s00521-022-07472-2)\n"
   ]
  },
  {
   "cell_type": "markdown",
   "id": "e82e9e57",
   "metadata": {
    "slideshow": {
     "slide_type": "slide"
    }
   },
   "source": [
    "#### Bias in risk assessment\n",
    "\n",
    "- Historically, lending practices were **overtly racist**, e.g., [**redlining**](https://en.wikipedia.org/wiki/Redlining). \n",
    "- Various laws passed (e.g., [Fair Housing Act of 1968](https://www.hud.gov/program_offices/fair_housing_equal_opp/fair_housing_act_overview)) to **protect potential borrowers from discrimination** on the basis of *race*, *religion*, and more.\n",
    "- But these practices have left **lasting inequities** in credit scores like [FICO](https://www.fico.com/en/products/fico-score)."
   ]
  },
  {
   "cell_type": "markdown",
   "id": "616f04ab",
   "metadata": {
    "slideshow": {
     "slide_type": "slide"
    }
   },
   "source": [
    "> If FICO were invented today, would it satisfy a disparate impact test? The conclusion of Rice and Swesnik in their law review article was clear: “Our current credit-scoring systems have a disparate impact on people and communities of color.”\n",
    "\n",
    "![title](img/fico.png)\n",
    "\n",
    "[Source: Brookings](https://www.brookings.edu/research/reducing-bias-in-ai-based-financial-services/)"
   ]
  },
  {
   "cell_type": "markdown",
   "id": "098ba1e1",
   "metadata": {
    "slideshow": {
     "slide_type": "slide"
    }
   },
   "source": [
    "## So where does bias come from?"
   ]
  },
  {
   "cell_type": "markdown",
   "id": "4d64d19e",
   "metadata": {
    "slideshow": {
     "slide_type": "slide"
    }
   },
   "source": [
    "#### Unrepresentative data\n",
    "\n",
    "- **Unrepresentative samples** are very common with **image recognition** datasets ([Buolamwini & Gebru, 2018](http://proceedings.mlr.press/v81/buolamwini18a/buolamwini18a.pdf)), leading to disparate outcomes:\n",
    "\n",
    "> Microsoft and IBM classifiers perform best on lighter male faces (error rates of 0.0% and 0.3% respectively)...All classifiers perform worst on darker female faces (20.8% − 34.7% error rate).\n",
    "\n",
    "- Likely due to historic **under-representation in data**: [Garbage in, garbage out](https://en.wikipedia.org/wiki/Garbage_in,_garbage_out).\n",
    "\n",
    "![title](img/gender_shades.png)"
   ]
  },
  {
   "cell_type": "markdown",
   "id": "8d8da50e",
   "metadata": {
    "slideshow": {
     "slide_type": "slide"
    }
   },
   "source": [
    "#### Proxy discrimination\n",
    "\n",
    "- Explicit discrimination on the basis of protected attributes (e.g., race, religion) is **illegal**.  \n",
    "- But these attributes often correlate with other features or [**\"proxies\"** (e.g., ZIP code, income)](https://ilr.law.uiowa.edu/assets/Uploads/ILR-105-3-Prince-Schwarcz-6.pdf).\n",
    "- Thus, ignoring protected attributes can just make the bias *less visible*:\n",
    "\n",
    "> AIs armed with big data are **inherently structured to engage in proxy discrimination** whenever they are deprived of information about membership in a legally suspect class whose predictive power cannot be measured more directly by non-suspect data available to the AI. \n",
    "\n",
    "[Source: Prince & Schwarcz, 2019](https://ilr.law.uiowa.edu/assets/Uploads/ILR-105-3-Prince-Schwarcz-6.pdf)"
   ]
  },
  {
   "cell_type": "markdown",
   "id": "7ddfcd7a",
   "metadata": {
    "slideshow": {
     "slide_type": "slide"
    }
   },
   "source": [
    "## What makes an algorithm \"fair\"?"
   ]
  },
  {
   "cell_type": "markdown",
   "id": "fe8efcda",
   "metadata": {
    "slideshow": {
     "slide_type": "slide"
    }
   },
   "source": [
    "### Definition 1: No explicit discrimination?\n",
    "\n",
    "> A naïve approach might require that the algorithm should **ignore all protected attributes** such as race, color, religion, gender, disability, or family status.\n",
    "\n",
    "Potential issues?\n",
    "\n",
    "[Source: Hardt et al. (2016)](https://home.ttic.edu/~nati/Publications/HardtPriceSrebro2016.pdf)."
   ]
  },
  {
   "cell_type": "markdown",
   "id": "c16d692f",
   "metadata": {},
   "source": [
    "#### Disdavantages\n",
    "\n",
    "- Can still result in discrimination because of [proxies](https://ilr.law.uiowa.edu/assets/Uploads/ILR-105-3-Prince-Schwarcz-6.pdf).\n",
    "- Especially problematic with large datasets––can simply make discrimination less *visible*.\n",
    "\n",
    ">  Simply denying AIs access to the most intuitive proxies for such predictive but suspect characteristics does little to thwart this process; instead it simply causes AIs to locate less intuitive proxies."
   ]
  },
  {
   "cell_type": "markdown",
   "id": "396e1e45",
   "metadata": {
    "slideshow": {
     "slide_type": "slide"
    }
   },
   "source": [
    "### Definition 2: Predictive parity?\n",
    "\n",
    "> **Predictive parity** meas that an algorithm's predictions are equally *accurate* across relevant groups. I.e., the overall **error rate** is the same.\n",
    "\n",
    "- E.g., suppose that **risk scores** are equally accurate on average for men and women.\n",
    "\n",
    "Potential issues?"
   ]
  },
  {
   "cell_type": "markdown",
   "id": "19df7a30",
   "metadata": {
    "slideshow": {
     "slide_type": "slide"
    }
   },
   "source": [
    "#### Disadvantages\n",
    "\n",
    "- Predictions can still be inaccurate in **different ways**, e.g., different rates of **false positives**.\n",
    "\n",
    "![title](img/bias_northpointe.png)"
   ]
  },
  {
   "cell_type": "markdown",
   "id": "4be13319",
   "metadata": {
    "slideshow": {
     "slide_type": "slide"
    }
   },
   "source": [
    "#### Visual comparison"
   ]
  },
  {
   "cell_type": "code",
   "execution_count": 20,
   "id": "f8e6bd9a",
   "metadata": {
    "slideshow": {
     "slide_type": "skip"
    }
   },
   "outputs": [],
   "source": [
    "error_rate = [50, 50]\n",
    "fp = [30, 70]\n",
    "fn = [70, 30]\n",
    "groups = ['Group 1', 'Group 2']"
   ]
  },
  {
   "cell_type": "code",
   "execution_count": 23,
   "id": "2ef7efd5",
   "metadata": {
    "slideshow": {
     "slide_type": "-"
    }
   },
   "outputs": [
    {
     "data": {
      "image/png": "[encoded data removed]",
      "text/plain": [
       "<Figure size 432x288 with 3 Axes>"
      ]
     },
     "metadata": {
      "image/png": {
       "height": 279,
       "width": 430
      },
      "needs_background": "light"
     },
     "output_type": "display_data"
    }
   ],
   "source": [
    "fig, axes = plt.subplots(1, 3, sharey = True)\n",
    "plt.ylim(0, 100)\n",
    "axes[0].bar(groups, error_rate)\n",
    "axes[1].bar(groups, fp)\n",
    "axes[1].axhline(y = 50, linestyle = \"dotted\")\n",
    "axes[2].bar(groups, fn)\n",
    "axes[2].axhline(y = 50, linestyle = \"dotted\")\n",
    "axes[0].set_ylabel(\"Error Rate (%)\")\n",
    "axes[1].set_ylabel(\"False Positives (%)\")\n",
    "axes[2].set_ylabel(\"False Negatives (%)\")\n",
    "axes[0].set_title(\"Error Rate (%)\")\n",
    "axes[1].set_title(\"False Positives (%)\")\n",
    "axes[2].set_title(\"False Negatives (%)\")\n",
    "fig.tight_layout()"
   ]
  },
  {
   "cell_type": "markdown",
   "id": "484c86c0",
   "metadata": {
    "slideshow": {
     "slide_type": "slide"
    }
   },
   "source": [
    "### Definition 3: Demographic parity\n",
    "\n",
    "> **Demographic parity** requires that a decision—such as accepting or denying a loan application—be independent\n",
    "of the protected attribute...In other words, membership in a protected class should have no correlation with\n",
    "the decision.\n",
    "\n",
    "Potential issues?\n",
    "\n",
    "[Source: Hardt et al. (2016)](https://home.ttic.edu/~nati/Publications/HardtPriceSrebro2016.pdf)."
   ]
  },
  {
   "cell_type": "markdown",
   "id": "d953b530",
   "metadata": {
    "slideshow": {
     "slide_type": "slide"
    }
   },
   "source": [
    "#### Equivalent *predicted scores* across groups"
   ]
  },
  {
   "cell_type": "code",
   "execution_count": 16,
   "id": "c4e4ad02",
   "metadata": {
    "slideshow": {
     "slide_type": "-"
    }
   },
   "outputs": [
    {
     "data": {
      "text/plain": [
       "Text(0.5, 1.0, 'Demographic Parity')"
      ]
     },
     "execution_count": 16,
     "metadata": {},
     "output_type": "execute_result"
    },
    {
     "data": {
      "image/png": "[encoded data removed]",
      "text/plain": [
       "<Figure size 432x288 with 1 Axes>"
      ]
     },
     "metadata": {
      "image/png": {
       "height": 263,
       "width": 382
      },
      "needs_background": "light"
     },
     "output_type": "display_data"
    }
   ],
   "source": [
    "score_parity = [75, 75, 75]\n",
    "groups = ['Group 1', 'Group 2', 'Group 3']\n",
    "plt.bar(groups, score_parity)\n",
    "plt.ylabel(\"Predicted P(Default)\")\n",
    "plt.title(\"Demographic Parity\")"
   ]
  },
  {
   "cell_type": "markdown",
   "id": "eab7fdac",
   "metadata": {
    "slideshow": {
     "slide_type": "slide"
    }
   },
   "source": [
    "#### Disadvantages\n",
    "\n",
    "- What if the [base rates](https://en.wikipedia.org/wiki/Base_rate) are different?\n",
    "   - E.g., suppose men are more likely than women to **default** on a loan (Not necessarily true––just for the sake of illustration!). "
   ]
  },
  {
   "cell_type": "code",
   "execution_count": 18,
   "id": "226716d5",
   "metadata": {},
   "outputs": [
    {
     "data": {
      "text/plain": [
       "Text(0.5, 1.0, 'Different True P(Default) Across Groups')"
      ]
     },
     "execution_count": 18,
     "metadata": {},
     "output_type": "execute_result"
    },
    {
     "data": {
      "image/png": "[encoded data removed]",
      "text/plain": [
       "<Figure size 432x288 with 1 Axes>"
      ]
     },
     "metadata": {
      "image/png": {
       "height": 263,
       "width": 382
      },
      "needs_background": "light"
     },
     "output_type": "display_data"
    }
   ],
   "source": [
    "true_probability = [60, 65, 90]\n",
    "groups = ['Group 1', 'Group 2', 'Group 3']\n",
    "plt.bar(groups, true_probability)\n",
    "plt.ylabel(\"True P(Default)\")\n",
    "plt.title(\"Different True P(Default) Across Groups\")"
   ]
  },
  {
   "cell_type": "markdown",
   "id": "9aadd5d7",
   "metadata": {
    "slideshow": {
     "slide_type": "slide"
    }
   },
   "source": [
    "If base rates are different across groups, **demographic parity** can lead to different *accuracy* across groups.\n",
    "\n",
    "- Predicted $\\%$ **overestimates** true $\\%$ for `Group 1` and `Group 2`.\n",
    "- Prediction $\\%$ **underestimates** true $\\%$ for `Group 3`."
   ]
  },
  {
   "cell_type": "code",
   "execution_count": 35,
   "id": "6721d8a9",
   "metadata": {
    "slideshow": {
     "slide_type": "skip"
    }
   },
   "outputs": [],
   "source": [
    "scores = [75, 75, 75, 60, 65, 90]\n",
    "groups = ['Group 1', 'Group 2', 'Group 3','Group 1', 'Group 2', 'Group 3']\n",
    "label = [\"Predicted %\", \"Predicted %\", \"Predicted %\", \"True %\", \"True %\", \"True %\"]\n",
    "df_scores = pd.DataFrame({\"Score\": scores,\n",
    "                         \"Label\": label,\n",
    "                         \"Group\": groups})"
   ]
  },
  {
   "cell_type": "code",
   "execution_count": 36,
   "id": "c841b1f3",
   "metadata": {
    "slideshow": {
     "slide_type": "-"
    }
   },
   "outputs": [
    {
     "data": {
      "text/plain": [
       "Text(0.5, 1.0, 'Demographic parity != Predictive Parity')"
      ]
     },
     "execution_count": 36,
     "metadata": {},
     "output_type": "execute_result"
    },
    {
     "data": {
      "image/png": "[encoded data removed]",
      "text/plain": [
       "<Figure size 432x288 with 1 Axes>"
      ]
     },
     "metadata": {
      "image/png": {
       "height": 277,
       "width": 484
      },
      "needs_background": "light"
     },
     "output_type": "display_data"
    }
   ],
   "source": [
    "sns.barplot(data = df_scores, x = 'Group',\n",
    "           y = 'Score', hue = 'Label')\n",
    "plt.legend(bbox_to_anchor=(1.02, 1), loc='upper left', borderaxespad=0)\n",
    "plt.title(\"Demographic parity != Predictive Parity\")"
   ]
  },
  {
   "cell_type": "markdown",
   "id": "e2e4fbeb",
   "metadata": {
    "slideshow": {
     "slide_type": "slide"
    }
   },
   "source": [
    "#### Disadvantages\n",
    "\n",
    "- What if the [base rates](https://en.wikipedia.org/wiki/Base_rate) are different?\n",
    "   - E.g., suppose men are more likely than women to **default** on a loan (Not necessarily true––just for the sake of illustration!). \n",
    "- In this case, we can't have both **predictive parity** and **demographic parity**.\n",
    "   \n",
    "\n",
    "**Counterpoint**: if certain differences exist because of **historical/ongoing biases** (e.g., *redlining*, *racial discrimination in the court system*, etc.), perhaps we *should* **correct** for them in the model?"
   ]
  },
  {
   "cell_type": "markdown",
   "id": "3f6214e4",
   "metadata": {
    "slideshow": {
     "slide_type": "slide"
    }
   },
   "source": [
    "### What's fair?\n",
    "\n",
    "Different notions of **fairness** [cannot always be implemented simultaneously](https://arxiv.org/pdf/1609.05807.pdf).\n",
    "  - This is especially true when society contains **pre-existing biases**.\n",
    "  - Decisions often involve [trade-offs](https://en.wikipedia.org/wiki/Trade-off). \n",
    "  \n",
    "What seems most fair to you?\n",
    "\n",
    "- **Ignoring protected attributes**: group identity not considered in model.  \n",
    "- **Predictive parity**: same accuracy rates across groups.  \n",
    "- **Demographic parity**: same prediction rates across groups.\n"
   ]
  },
  {
   "cell_type": "markdown",
   "id": "883491a8",
   "metadata": {
    "slideshow": {
     "slide_type": "slide"
    }
   },
   "source": [
    "## Other resources\n",
    "\n",
    "This lecture has really only *scratched the surface* of issues in **bias and fairness**.\n",
    "\n",
    "In recent years, many excellent books have been published relating to this topic:\n",
    "\n",
    "- [Weapons of Math Destruction](https://en.wikipedia.org/wiki/Weapons_of_Math_Destruction). \n",
    "- [Algorithmic Oppression](https://nyupress.org/9781479837243/algorithms-of-oppression/).\n",
    "- [Data Feminism](https://mitpress.mit.edu/9780262044004/data-feminism/).  \n",
    "- [Automating Inequality](https://us.macmillan.com/books/9781250074317/automatinginequality).  \n",
    "- [AI Ethics](https://mitpress.mit.edu/9780262538190/ai-ethics/). \n",
    "- [The Alignment Problem](https://brianchristian.org/the-alignment-problem/). "
   ]
  },
  {
   "cell_type": "markdown",
   "id": "5b8bd0e9",
   "metadata": {
    "slideshow": {
     "slide_type": "slide"
    }
   },
   "source": [
    "## Conclusion\n",
    "\n",
    "As noted, this lecture is just an introduction. But hopefully you now have the conceptual tools to:\n",
    "\n",
    "- **Explain** how and why *bias* can arise in \"data-driven\" predictive models.  \n",
    "- **Compare** different approaches towards correcting this bias.  \n",
    "- **Describe** the challenges involved in building \"fair\" data-driven models."
   ]
  }
 ],
 "metadata": {
  "celltoolbar": "Slideshow",
  "kernelspec": {
   "display_name": "Python 3 (ipykernel)",
   "language": "python",
   "name": "python3"
  },
  "language_info": {
   "codemirror_mode": {
    "name": "ipython",
    "version": 3
   },
   "file_extension": ".py",
   "mimetype": "text/x-python",
   "name": "python",
   "nbconvert_exporter": "python",
   "pygments_lexer": "ipython3",
   "version": "3.9.12"
  }
 },
 "nbformat": 4,
 "nbformat_minor": 5
}
