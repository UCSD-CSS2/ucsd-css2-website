{
 "cells": [
  {
   "cell_type": "markdown",
   "id": "cb607fdd",
   "metadata": {},
   "source": [
    "# Calculating the *standard error* of our coefficients"
   ]
  },
  {
   "cell_type": "markdown",
   "id": "2df8dfca",
   "metadata": {},
   "source": [
    "**Very important**:\n",
    "\n",
    "The correct formula for calculating standard error of our coefficient is:\n",
    "\n",
    "$\\Large SE(\\beta_1) = \\frac{S_{Y|X}}{\\sqrt{SS_X}} = \\sqrt{\\frac{\\frac{1}{n-2}RSS}{SS_X}}$"
   ]
  },
  {
   "cell_type": "code",
   "execution_count": 81,
   "id": "2d4c02a1",
   "metadata": {},
   "outputs": [
    {
     "data": {
      "text/plain": [
       "0.5811715500769548"
      ]
     },
     "execution_count": 81,
     "metadata": {},
     "output_type": "execute_result"
    }
   ],
   "source": [
    "np.sqrt(mod.scale) / np.sqrt(ss_x)"
   ]
  },
  {
   "cell_type": "code",
   "execution_count": null,
   "id": "951a0134",
   "metadata": {},
   "outputs": [],
   "source": []
  }
 ],
 "metadata": {
  "kernelspec": {
   "display_name": "Python 3 (ipykernel)",
   "language": "python",
   "name": "python3"
  },
  "language_info": {
   "codemirror_mode": {
    "name": "ipython",
    "version": 3
   },
   "file_extension": ".py",
   "mimetype": "text/x-python",
   "name": "python",
   "nbconvert_exporter": "python",
   "pygments_lexer": "ipython3",
   "version": "3.9.12"
  }
 },
 "nbformat": 4,
 "nbformat_minor": 5
}
